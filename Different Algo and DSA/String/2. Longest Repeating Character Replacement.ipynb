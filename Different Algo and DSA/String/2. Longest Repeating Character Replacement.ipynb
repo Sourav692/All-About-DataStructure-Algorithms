{
 "cells": [
  {
   "cell_type": "markdown",
   "metadata": {},
   "source": [
    "https://leetcode.com/problems/longest-repeating-character-replacement/"
   ]
  },
  {
   "cell_type": "markdown",
   "metadata": {},
   "source": [
    "YT:\n",
    "\n",
    "    https://www.youtube.com/watch?v=gqXU1UyA8pk NEETCODE\n",
    "    https://www.youtube.com/watch?v=302mmnX1voo&t=439s DEEPTI TALSERA\n",
    "    https://www.youtube.com/watch?v=qxDH4nxtt1w \n",
    "     "
   ]
  },
  {
   "cell_type": "code",
   "execution_count": 1,
   "metadata": {},
   "outputs": [
    {
     "ename": "",
     "evalue": "",
     "output_type": "error",
     "traceback": [
      "\u001b[1;31mThe Kernel crashed while executing code in the the current cell or a previous cell. Please review the code in the cell(s) to identify a possible cause of the failure. Click <a href='https://aka.ms/vscodeJupyterKernelCrash'>here</a> for more info. View Jupyter <a href='command:jupyter.viewOutput'>log</a> for further details."
     ]
    }
   ],
   "source": [
    "class Solution:\n",
    "    def characterReplacement(self, s: str, k: int) -> int:\n",
    "        count = {}\n",
    "        res = 0\n",
    "        \n",
    "        l = 0\n",
    "        maxF = 0\n",
    "        \n",
    "        for r in range(len(s)):\n",
    "            count[s[r]] = 1+count.get(s[r],0)\n",
    "            maxF = max(maxF, count[s[r]])\n",
    "            \n",
    "            while (r-l+1) - maxF >k:\n",
    "                count[s[l]] -=1\n",
    "                l+=1\n",
    "            res = max(res,r-l+1)\n",
    "        return res"
   ]
  },
  {
   "cell_type": "code",
   "execution_count": null,
   "metadata": {},
   "outputs": [],
   "source": []
  }
 ],
 "metadata": {
  "kernelspec": {
   "display_name": "Python 3.8.8 ('base')",
   "language": "python",
   "name": "python3"
  },
  "language_info": {
   "codemirror_mode": {
    "name": "ipython",
    "version": 3
   },
   "file_extension": ".py",
   "mimetype": "text/x-python",
   "name": "python",
   "nbconvert_exporter": "python",
   "pygments_lexer": "ipython3",
   "version": "3.8.8"
  },
  "orig_nbformat": 4,
  "vscode": {
   "interpreter": {
    "hash": "e4cce46d6be9934fbd27f9ca0432556941ea5bdf741d4f4d64c6cd7f8dfa8fba"
   }
  }
 },
 "nbformat": 4,
 "nbformat_minor": 2
}
