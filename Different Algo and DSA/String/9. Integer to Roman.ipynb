{
 "cells": [
  {
   "cell_type": "markdown",
   "metadata": {},
   "source": [
    "https://leetcode.com/problems/integer-to-roman/"
   ]
  },
  {
   "cell_type": "markdown",
   "metadata": {},
   "source": [
    "YT:\n",
    "\n",
    "    https://www.youtube.com/watch?v=s9fokUqJ76A  NEETCODE\n",
    "    https://www.youtube.com/watch?v=eyCj_u3PoJE  ADITYA VERMA"
   ]
  },
  {
   "cell_type": "markdown",
   "metadata": {},
   "source": [
    "Some LeetCode Solutions:\n",
    "\n",
    "    https://leetcode.com/problems/generate-parentheses/discuss/10096/4-7-lines-Python\n",
    "    https://leetcode.com/problems/generate-parentheses/discuss/10110/Simple-Python-DFS-solution-with-explanation\n",
    "    https://leetcode.com/problems/generate-parentheses/discuss/10369/Clean-Python-DP-Solution\n",
    "    https://leetcode.com/problems/generate-parentheses/discuss/10283/Python-simple-stack-solution-without-recursion\n",
    "    https://leetcode.com/problems/generate-parentheses/discuss/10388/Python-easy-to-understand-dfs-solution.\n",
    "    https://leetcode.com/problems/generate-parentheses/discuss/1276079/Python-Backtracking-Complexity-Analysis-Clean-and-Concise"
   ]
  },
  {
   "cell_type": "code",
   "execution_count": 1,
   "metadata": {},
   "outputs": [],
   "source": []
  },
  {
   "cell_type": "code",
   "execution_count": null,
   "metadata": {},
   "outputs": [],
   "source": [
    "class Solution:\n",
    "    def intToRoman(self, num: int) -> str:\n",
    "        digits = [(1000, \"M\"), (900, \"CM\"), (500, \"D\"), (400, \"CD\"), (100, \"C\"), \n",
    "                  (90, \"XC\"), (50, \"L\"), (40, \"XL\"), (10, \"X\"), (9, \"IX\"), \n",
    "                  (5, \"V\"), (4, \"IV\"), (1, \"I\")]\n",
    "        \n",
    "        roman_digits = []\n",
    "        # Loop through each symbol.\n",
    "        for value, symbol in digits:\n",
    "            # We don't want to continue looping if we're done.\n",
    "            if num == 0: break\n",
    "            count, num = divmod(num, value)\n",
    "            # Append \"count\" copies of \"symbol\" to roman_digits.\n",
    "            roman_digits.append(symbol * count)\n",
    "        return \"\".join(roman_digits)"
   ]
  },
  {
   "cell_type": "code",
   "execution_count": null,
   "metadata": {},
   "outputs": [],
   "source": []
  }
 ],
 "metadata": {
  "kernelspec": {
   "display_name": "Python 3.8.8 ('base')",
   "language": "python",
   "name": "python3"
  },
  "language_info": {
   "codemirror_mode": {
    "name": "ipython",
    "version": 3
   },
   "file_extension": ".py",
   "mimetype": "text/x-python",
   "name": "python",
   "nbconvert_exporter": "python",
   "pygments_lexer": "ipython3",
   "version": "3.8.8"
  },
  "orig_nbformat": 4,
  "vscode": {
   "interpreter": {
    "hash": "e4cce46d6be9934fbd27f9ca0432556941ea5bdf741d4f4d64c6cd7f8dfa8fba"
   }
  }
 },
 "nbformat": 4,
 "nbformat_minor": 2
}
