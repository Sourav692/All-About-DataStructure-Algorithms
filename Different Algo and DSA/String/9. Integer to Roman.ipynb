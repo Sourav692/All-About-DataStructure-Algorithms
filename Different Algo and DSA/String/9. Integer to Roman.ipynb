{
 "cells": [
  {
   "cell_type": "markdown",
   "metadata": {},
   "source": [
    "https://leetcode.com/problems/integer-to-roman/"
   ]
  },
  {
   "cell_type": "markdown",
   "metadata": {},
   "source": [
    "YT:\n",
    "\n",
    "    https://www.youtube.com/watch?v=s9fokUqJ76A  NEETCODE\n",
    "    https://www.youtube.com/watch?v=eyCj_u3PoJE  ADITYA VERMA"
   ]
  },
  {
   "cell_type": "markdown",
   "metadata": {},
   "source": [
    "Some LeetCode Solutions:\n",
    "\n",
    "    https://leetcode.com/problems/generate-parentheses/discuss/10096/4-7-lines-Python\n",
    "    https://leetcode.com/problems/generate-parentheses/discuss/10110/Simple-Python-DFS-solution-with-explanation\n",
    "    https://leetcode.com/problems/generate-parentheses/discuss/10369/Clean-Python-DP-Solution\n",
    "    https://leetcode.com/problems/generate-parentheses/discuss/10283/Python-simple-stack-solution-without-recursion\n",
    "    https://leetcode.com/problems/generate-parentheses/discuss/10388/Python-easy-to-understand-dfs-solution.\n",
    "    https://leetcode.com/problems/generate-parentheses/discuss/1276079/Python-Backtracking-Complexity-Analysis-Clean-and-Concise"
   ]
  },
  {
   "cell_type": "code",
   "execution_count": 1,
   "metadata": {},
   "outputs": [],
   "source": [
    "class Solution:\n",
    "    def generateParenthesis(self, n: int) :\n",
    "        ans = []\n",
    "        def backtrack(S = [], left = 0, right = 0):\n",
    "            if len(S) == 2 * n:\n",
    "                ans.append(\"\".join(S))\n",
    "                return\n",
    "            if left < n:\n",
    "                S.append(\"(\")\n",
    "                backtrack(S, left+1, right)\n",
    "                S.pop()\n",
    "            if right < left:\n",
    "                S.append(\")\")\n",
    "                backtrack(S, left, right+1)\n",
    "                S.pop()\n",
    "        backtrack()\n",
    "        return ans"
   ]
  },
  {
   "cell_type": "code",
   "execution_count": null,
   "metadata": {},
   "outputs": [],
   "source": []
  }
 ],
 "metadata": {
  "kernelspec": {
   "display_name": "Python 3.8.8 ('base')",
   "language": "python",
   "name": "python3"
  },
  "language_info": {
   "codemirror_mode": {
    "name": "ipython",
    "version": 3
   },
   "file_extension": ".py",
   "mimetype": "text/x-python",
   "name": "python",
   "nbconvert_exporter": "python",
   "pygments_lexer": "ipython3",
   "version": "3.8.8"
  },
  "orig_nbformat": 4,
  "vscode": {
   "interpreter": {
    "hash": "e4cce46d6be9934fbd27f9ca0432556941ea5bdf741d4f4d64c6cd7f8dfa8fba"
   }
  }
 },
 "nbformat": 4,
 "nbformat_minor": 2
}
