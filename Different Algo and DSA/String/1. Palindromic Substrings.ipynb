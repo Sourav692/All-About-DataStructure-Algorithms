{
 "cells": [
  {
   "cell_type": "markdown",
   "metadata": {},
   "source": [
    "https://leetcode.com/problems/palindromic-substrings/"
   ]
  },
  {
   "cell_type": "markdown",
   "metadata": {},
   "source": [
    "YT:\n",
    "\n",
    "    https://www.youtube.com/watch?v=4RACzI5-du8  NEETCODE\n",
    "    https://www.youtube.com/watch?v=XmSOWnL6T_I&t=1565s  PEPCODING(DP)"
   ]
  },
  {
   "cell_type": "markdown",
   "metadata": {},
   "source": [
    "BRUTE FORCE"
   ]
  },
  {
   "cell_type": "code",
   "execution_count": 1,
   "metadata": {},
   "outputs": [],
   "source": [
    "def checkPalindrome(s,left,right):\n",
    "    while(left < right):\n",
    "        if s[left] != s[right]:\n",
    "            return False\n",
    "        left +=1\n",
    "        right-=1\n",
    "    return True\n",
    "\n",
    "def countSubstrings(s) :\n",
    "    res = 0\n",
    "    lis1 = []\n",
    "    for i in range(0, len(s)):\n",
    "        for j in range(i,len(s)):\n",
    "            if checkPalindrome(s,i,j) == True:\n",
    "                lis1.append(s[i:j+1])\n",
    "                res+=1\n",
    "            j+=1\n",
    "        i+=1\n",
    "    print(f\"List of all palindromic substrings are {lis1}\")\n",
    "    return res"
   ]
  },
  {
   "cell_type": "code",
   "execution_count": 2,
   "metadata": {},
   "outputs": [
    {
     "name": "stdout",
     "output_type": "stream",
     "text": [
      "List of all palindromic substrings are ['a', 'aa', 'aaa', 'a', 'aa', 'a', 'b']\n"
     ]
    },
    {
     "data": {
      "text/plain": [
       "7"
      ]
     },
     "execution_count": 2,
     "metadata": {},
     "output_type": "execute_result"
    }
   ],
   "source": [
    "countSubstrings(\"aaab\")"
   ]
  },
  {
   "cell_type": "markdown",
   "metadata": {},
   "source": [
    "OPTIMAL SOLUTION"
   ]
  },
  {
   "cell_type": "code",
   "execution_count": 43,
   "metadata": {},
   "outputs": [],
   "source": [
    "def countSubstrings(s) :\n",
    "    res = 0\n",
    "    lis1=[]\n",
    "    for i in range(len(s)):\n",
    "        l=r=i\n",
    "        \n",
    "        while l>=0 and r<len(s) and s[l] == s[r]:\n",
    "            lis1.append(s[l:r+1])\n",
    "            #print(lis1)\n",
    "            res+=1\n",
    "            l-=1\n",
    "            r+=1\n",
    "        l=i\n",
    "        r=i+1\n",
    "        while l>=0 and r<len(s) and s[l] == s[r]:\n",
    "            lis1.append(s[l:r+1])\n",
    "            #print(lis1)\n",
    "            res+=1\n",
    "            l-=1\n",
    "            r+=1\n",
    "    print(lis1)\n",
    "    return res"
   ]
  },
  {
   "cell_type": "code",
   "execution_count": 44,
   "metadata": {},
   "outputs": [
    {
     "name": "stdout",
     "output_type": "stream",
     "text": [
      "['A', 'AA', 'A', 'AAA', 'AA', 'A', 'B']\n"
     ]
    },
    {
     "data": {
      "text/plain": [
       "7"
      ]
     },
     "execution_count": 44,
     "metadata": {},
     "output_type": "execute_result"
    }
   ],
   "source": [
    "countSubstrings(\"AAAB\")"
   ]
  },
  {
   "cell_type": "code",
   "execution_count": null,
   "metadata": {},
   "outputs": [],
   "source": []
  }
 ],
 "metadata": {
  "kernelspec": {
   "display_name": "Python 3.8.8 ('base')",
   "language": "python",
   "name": "python3"
  },
  "language_info": {
   "codemirror_mode": {
    "name": "ipython",
    "version": 3
   },
   "file_extension": ".py",
   "mimetype": "text/x-python",
   "name": "python",
   "nbconvert_exporter": "python",
   "pygments_lexer": "ipython3",
   "version": "3.8.8"
  },
  "orig_nbformat": 4,
  "vscode": {
   "interpreter": {
    "hash": "e4cce46d6be9934fbd27f9ca0432556941ea5bdf741d4f4d64c6cd7f8dfa8fba"
   }
  }
 },
 "nbformat": 4,
 "nbformat_minor": 2
}
