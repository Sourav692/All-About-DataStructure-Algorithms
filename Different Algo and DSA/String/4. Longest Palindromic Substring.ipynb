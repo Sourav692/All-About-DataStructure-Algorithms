{
 "cells": [
  {
   "cell_type": "markdown",
   "metadata": {},
   "source": [
    "https://leetcode.com/problems/longest-palindromic-substring/"
   ]
  },
  {
   "cell_type": "markdown",
   "metadata": {},
   "source": [
    "Same as Palidromic Substrings"
   ]
  },
  {
   "cell_type": "code",
   "execution_count": 22,
   "metadata": {},
   "outputs": [],
   "source": [
    "def longestPalindrome(s) :\n",
    "    res = 0\n",
    "    substr_left = 0\n",
    "    substr_right = 0\n",
    "    for i in range(len(s)):\n",
    "        l=r=i\n",
    "        \n",
    "        while l>=0 and r<len(s) and s[l] == s[r]:\n",
    "            if r-l+1 >=(substr_right-substr_left+1):\n",
    "                #print(f\"r = {r} l = {l} and substr_left = {substr_left} substr_right = {substr_right}\")\n",
    "                substr_left= l\n",
    "                substr_right= r\n",
    "                #print(\"substring is\", s[substr_left:substr_right+1])\n",
    "            l-=1\n",
    "            r+=1\n",
    "        l=i\n",
    "        r=i+1\n",
    "        while l>=0 and r<len(s) and s[l] == s[r]:\n",
    "            if r-l+1 >=(substr_right-substr_left+1):\n",
    "                #print(f\"r = {r} l = {l} and substr_left = {substr_left} substr_right = {substr_right}\")\n",
    "                substr_left= l\n",
    "                substr_right= r\n",
    "                #print(\"substring is\", s[substr_left:substr_right+1])\n",
    "            l-=1\n",
    "            r+=1\n",
    "\n",
    "    return s[substr_left:substr_right+1]"
   ]
  },
  {
   "cell_type": "code",
   "execution_count": 23,
   "metadata": {},
   "outputs": [
    {
     "data": {
      "text/plain": [
       "'aba'"
      ]
     },
     "execution_count": 23,
     "metadata": {},
     "output_type": "execute_result"
    }
   ],
   "source": [
    "s = \"babad\"\n",
    "longestPalindrome(s)"
   ]
  },
  {
   "cell_type": "code",
   "execution_count": null,
   "metadata": {},
   "outputs": [],
   "source": []
  }
 ],
 "metadata": {
  "kernelspec": {
   "display_name": "Python 3.8.8 ('base')",
   "language": "python",
   "name": "python3"
  },
  "language_info": {
   "codemirror_mode": {
    "name": "ipython",
    "version": 3
   },
   "file_extension": ".py",
   "mimetype": "text/x-python",
   "name": "python",
   "nbconvert_exporter": "python",
   "pygments_lexer": "ipython3",
   "version": "3.8.8"
  },
  "orig_nbformat": 4,
  "vscode": {
   "interpreter": {
    "hash": "e4cce46d6be9934fbd27f9ca0432556941ea5bdf741d4f4d64c6cd7f8dfa8fba"
   }
  }
 },
 "nbformat": 4,
 "nbformat_minor": 2
}
