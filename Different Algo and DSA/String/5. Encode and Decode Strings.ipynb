{
 "cells": [
  {
   "cell_type": "markdown",
   "metadata": {},
   "source": [
    "https://leetcode.com/problems/encode-and-decode-strings/"
   ]
  },
  {
   "cell_type": "markdown",
   "metadata": {},
   "source": [
    "YT Links:\n",
    "\n",
    "    https://www.youtube.com/watch?v=B1k_sxOSgv8 NEETCODE\n",
    "    https://www.youtube.com/watch?v=qB0zZpBJlh8 NEETCODE"
   ]
  },
  {
   "cell_type": "markdown",
   "metadata": {},
   "source": [
    "There is another optimal solution to this problem \n",
    "\n",
    "https://leetcode.com/problems/encode-and-decode-strings/solution/"
   ]
  },
  {
   "cell_type": "code",
   "execution_count": 7,
   "metadata": {},
   "outputs": [],
   "source": [
    "class Codec:\n",
    "    def encode(self, strs) -> str:\n",
    "        \"\"\"Encodes a list of strings to a single string.\n",
    "        \"\"\"\n",
    "        res=''\n",
    "        for strr in strs:\n",
    "            res += str(len(strr))+'$'+strr\n",
    "        print(res)\n",
    "        return res\n",
    "\n",
    "    def decode(self, s: str):\n",
    "        \"\"\"Decodes a single string to a list of strings.\n",
    "        \"\"\"\n",
    "        res = []\n",
    "        i = 0\n",
    "        while i<len(s):\n",
    "            p = s.find('$', i)\n",
    "            length = int(s[i:p])\n",
    "            res.append(s[p+1:p+1+length])\n",
    "            i = p+1+length\n",
    "        return res"
   ]
  },
  {
   "cell_type": "code",
   "execution_count": 8,
   "metadata": {},
   "outputs": [
    {
     "name": "stdout",
     "output_type": "stream",
     "text": [
      "5$Hello5$World\n"
     ]
    },
    {
     "data": {
      "text/plain": [
       "['Hello', 'World']"
      ]
     },
     "execution_count": 8,
     "metadata": {},
     "output_type": "execute_result"
    }
   ],
   "source": [
    "strs = [\"Hello\",\"World\"]\n",
    "codec = Codec()\n",
    "codec.decode(codec.encode(strs))"
   ]
  },
  {
   "cell_type": "code",
   "execution_count": null,
   "metadata": {},
   "outputs": [],
   "source": []
  }
 ],
 "metadata": {
  "kernelspec": {
   "display_name": "Python 3.8.8 ('base')",
   "language": "python",
   "name": "python3"
  },
  "language_info": {
   "codemirror_mode": {
    "name": "ipython",
    "version": 3
   },
   "file_extension": ".py",
   "mimetype": "text/x-python",
   "name": "python",
   "nbconvert_exporter": "python",
   "pygments_lexer": "ipython3",
   "version": "3.8.8"
  },
  "orig_nbformat": 4,
  "vscode": {
   "interpreter": {
    "hash": "e4cce46d6be9934fbd27f9ca0432556941ea5bdf741d4f4d64c6cd7f8dfa8fba"
   }
  }
 },
 "nbformat": 4,
 "nbformat_minor": 2
}
