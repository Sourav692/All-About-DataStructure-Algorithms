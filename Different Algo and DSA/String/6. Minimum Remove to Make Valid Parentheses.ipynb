{
 "cells": [
  {
   "cell_type": "markdown",
   "metadata": {},
   "source": [
    "https://leetcode.com/problems/minimum-remove-to-make-valid-parentheses/"
   ]
  },
  {
   "cell_type": "markdown",
   "metadata": {},
   "source": []
  },
  {
   "cell_type": "code",
   "execution_count": 1,
   "metadata": {},
   "outputs": [],
   "source": [
    "class Solution:\n",
    "    def minRemoveToMakeValid(self, s: str) -> str:\n",
    "        indexes_to_remove = set()\n",
    "        stack = []\n",
    "        for i, c in enumerate(s):\n",
    "            if c not in \"()\":\n",
    "                continue\n",
    "            if c == \"(\":\n",
    "                stack.append(i)\n",
    "            elif not stack:\n",
    "                indexes_to_remove.add(i)\n",
    "            else:\n",
    "                stack.pop()\n",
    "        indexes_to_remove = indexes_to_remove.union(set(stack))\n",
    "        string_builder = []\n",
    "        for i, c in enumerate(s):\n",
    "            if i not in indexes_to_remove:\n",
    "                string_builder.append(c)\n",
    "        return \"\".join(string_builder)"
   ]
  },
  {
   "cell_type": "code",
   "execution_count": 2,
   "metadata": {},
   "outputs": [
    {
     "ename": "",
     "evalue": "",
     "output_type": "error",
     "traceback": [
      "\u001b[1;31mThe Kernel crashed while executing code in the the current cell or a previous cell. Please review the code in the cell(s) to identify a possible cause of the failure. Click <a href='https://aka.ms/vscodeJupyterKernelCrash'>here</a> for more info. View Jupyter <a href='command:jupyter.viewOutput'>log</a> for further details."
     ]
    }
   ],
   "source": [
    "class Solution:\n",
    "    def minRemoveToMakeValid(self, s: str) -> str:\n",
    "\n",
    "        def delete_invalid_closing(string, open_symbol, close_symbol):\n",
    "            sb = []\n",
    "            balance = 0\n",
    "            for c in string:\n",
    "                if c == open_symbol:\n",
    "                    balance += 1\n",
    "                if c == close_symbol:\n",
    "                    if balance == 0:\n",
    "                        continue\n",
    "                    balance -= 1\n",
    "                sb.append(c)\n",
    "            return \"\".join(sb)\n",
    "\n",
    "        # Note that s[::-1] gets the reverse of s.\n",
    "        s = delete_invalid_closing(s, \"(\", \")\")\n",
    "        s = delete_invalid_closing(s[::-1], \")\", \"(\")\n",
    "        return s[::-1]"
   ]
  },
  {
   "cell_type": "code",
   "execution_count": null,
   "metadata": {},
   "outputs": [],
   "source": []
  }
 ],
 "metadata": {
  "kernelspec": {
   "display_name": "Python 3.8.8 ('base')",
   "language": "python",
   "name": "python3"
  },
  "language_info": {
   "codemirror_mode": {
    "name": "ipython",
    "version": 3
   },
   "file_extension": ".py",
   "mimetype": "text/x-python",
   "name": "python",
   "nbconvert_exporter": "python",
   "pygments_lexer": "ipython3",
   "version": "3.8.8"
  },
  "orig_nbformat": 4,
  "vscode": {
   "interpreter": {
    "hash": "e4cce46d6be9934fbd27f9ca0432556941ea5bdf741d4f4d64c6cd7f8dfa8fba"
   }
  }
 },
 "nbformat": 4,
 "nbformat_minor": 2
}
