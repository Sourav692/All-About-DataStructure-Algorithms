{
 "cells": [
  {
   "cell_type": "markdown",
   "metadata": {},
   "source": [
    "Given a sorted array, create a new array containing squares of all the numbers of the input array in the sorted order."
   ]
  },
  {
   "cell_type": "markdown",
   "metadata": {},
   "source": [
    "Example 1:\n",
    "\n",
    "    Input: [-2, -1, 0, 2, 3]\n",
    "    Output: [0, 1, 4, 4, 9]\n",
    "\n",
    "Example 2:\n",
    "\n",
    "    Input: [-3, -1, 0, 1, 2]\n",
    "    Output: [0, 1, 1, 4, 9]"
   ]
  },
  {
   "cell_type": "code",
   "execution_count": 1,
   "metadata": {},
   "outputs": [
    {
     "name": "stdout",
     "output_type": "stream",
     "text": [
      "Squares: [0, 1, 4, 4, 9]\n",
      "Squares: [0, 1, 1, 4, 9]\n"
     ]
    }
   ],
   "source": [
    "def make_squares(arr):\n",
    "  n = len(arr)\n",
    "  squares = [0 for x in range(n)]\n",
    "  highestSquareIdx = n - 1\n",
    "  left, right = 0, n - 1\n",
    "  while left <= right:\n",
    "    leftSquare = arr[left] * arr[left]\n",
    "    rightSquare = arr[right] * arr[right]\n",
    "    if leftSquare > rightSquare:\n",
    "      squares[highestSquareIdx] = leftSquare\n",
    "      left += 1\n",
    "    else:\n",
    "      squares[highestSquareIdx] = rightSquare\n",
    "      right -= 1\n",
    "    highestSquareIdx -= 1\n",
    "\n",
    "  return squares\n",
    "\n",
    "\n",
    "def main():\n",
    "\n",
    "  print(\"Squares: \" + str(make_squares([-2, -1, 0, 2, 3])))\n",
    "  print(\"Squares: \" + str(make_squares([-3, -1, 0, 1, 2])))\n",
    "\n",
    "\n",
    "main()"
   ]
  },
  {
   "cell_type": "markdown",
   "metadata": {},
   "source": [
    "Can we do it without using any extra array?"
   ]
  },
  {
   "cell_type": "code",
   "execution_count": null,
   "metadata": {},
   "outputs": [],
   "source": []
  }
 ],
 "metadata": {
  "kernelspec": {
   "display_name": "Python 3.8.8 ('base')",
   "language": "python",
   "name": "python3"
  },
  "language_info": {
   "codemirror_mode": {
    "name": "ipython",
    "version": 3
   },
   "file_extension": ".py",
   "mimetype": "text/x-python",
   "name": "python",
   "nbconvert_exporter": "python",
   "pygments_lexer": "ipython3",
   "version": "3.8.8"
  },
  "orig_nbformat": 4,
  "vscode": {
   "interpreter": {
    "hash": "e4cce46d6be9934fbd27f9ca0432556941ea5bdf741d4f4d64c6cd7f8dfa8fba"
   }
  }
 },
 "nbformat": 4,
 "nbformat_minor": 2
}
