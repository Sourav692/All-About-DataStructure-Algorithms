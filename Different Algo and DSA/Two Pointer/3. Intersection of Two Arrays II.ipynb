{
 "cells": [
  {
   "cell_type": "markdown",
   "metadata": {},
   "source": [
    "https://leetcode.com/problems/intersection-of-two-arrays-ii/"
   ]
  },
  {
   "cell_type": "code",
   "execution_count": 22,
   "metadata": {},
   "outputs": [],
   "source": [
    "s1= [4,9,5]\n",
    "s2 = [9,4,9,8,4]"
   ]
  },
  {
   "cell_type": "code",
   "execution_count": 45,
   "metadata": {},
   "outputs": [
    {
     "name": "stdout",
     "output_type": "stream",
     "text": [
      "[4, 9]\n"
     ]
    }
   ],
   "source": [
    "\n",
    "i = 0\n",
    "j = 0\n",
    "s1.sort()\n",
    "s2.sort()\n",
    "s3 =[]\n",
    "while (i < len(s1) and j< len(s2)): \n",
    "    if s1[i] == s2[j]:\n",
    "        #print(i,s1[i])\n",
    "        s3.append(s1[i])\n",
    "        i+=1\n",
    "        j+=1\n",
    "    elif s2[j] < s1[i]:\n",
    "        j+=1\n",
    "    else:\n",
    "        i+=1\n",
    "        \n",
    "print(s3)\n",
    "    "
   ]
  },
  {
   "cell_type": "code",
   "execution_count": null,
   "metadata": {},
   "outputs": [],
   "source": []
  }
 ],
 "metadata": {
  "interpreter": {
   "hash": "e4cce46d6be9934fbd27f9ca0432556941ea5bdf741d4f4d64c6cd7f8dfa8fba"
  },
  "kernelspec": {
   "display_name": "Python 3.8.8 ('base')",
   "language": "python",
   "name": "python3"
  },
  "language_info": {
   "codemirror_mode": {
    "name": "ipython",
    "version": 3
   },
   "file_extension": ".py",
   "mimetype": "text/x-python",
   "name": "python",
   "nbconvert_exporter": "python",
   "pygments_lexer": "ipython3",
   "version": "3.8.8"
  },
  "orig_nbformat": 4
 },
 "nbformat": 4,
 "nbformat_minor": 2
}
