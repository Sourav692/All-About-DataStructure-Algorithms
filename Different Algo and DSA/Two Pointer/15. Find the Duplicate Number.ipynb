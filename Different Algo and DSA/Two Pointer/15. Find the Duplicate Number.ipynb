{
 "cells": [
  {
   "cell_type": "markdown",
   "metadata": {},
   "source": [
    "https://leetcode.com/problems/find-the-duplicate-number/"
   ]
  },
  {
   "cell_type": "markdown",
   "metadata": {},
   "source": [
    "Best Solutions:\n",
    "\n",
    "    https://leetcode.com/problems/find-the-duplicate-number/discuss/1953970/Python-Solution-or-2-pointers\n",
    "    https://leetcode.com/problems/find-the-duplicate-number/discuss/1894634/Python-2-pointers-5-lines-of-code-faster-than-96-(620-ms)"
   ]
  },
  {
   "cell_type": "markdown",
   "metadata": {},
   "source": [
    "Tortoise and Hare Problem\n",
    "\n",
    "    https://jamesmccaffrey.wordpress.com/2020/08/11/example-of-the-tortoise-and-hare-algorithm/\n",
    "    https://dev.to/alisabaj/floyd-s-tortoise-and-hare-algorithm-finding-a-cycle-in-a-linked-list-39af\n",
    "    \n",
    "    "
   ]
  },
  {
   "cell_type": "code",
   "execution_count": 2,
   "metadata": {},
   "outputs": [],
   "source": [
    "class Solution:\n",
    "    def findDuplicate(self, nums) -> int:\n",
    "        # 'low' and 'high' represent the range of values of the target\n",
    "        low = 1\n",
    "        high = len(nums) - 1\n",
    "        \n",
    "        while low <= high:\n",
    "            cur = (low + high) // 2\n",
    "            count = 0\n",
    "\n",
    "            # Count how many numbers are less than or equal to 'cur'\n",
    "            count = sum(num <= cur for num in nums)\n",
    "            if count > cur:\n",
    "                duplicate = cur\n",
    "                high = cur - 1\n",
    "            else:\n",
    "                low = cur + 1\n",
    "                \n",
    "        return duplicate"
   ]
  },
  {
   "cell_type": "code",
   "execution_count": null,
   "metadata": {},
   "outputs": [],
   "source": []
  }
 ],
 "metadata": {
  "kernelspec": {
   "display_name": "Python 3.8.8 ('base')",
   "language": "python",
   "name": "python3"
  },
  "language_info": {
   "codemirror_mode": {
    "name": "ipython",
    "version": 3
   },
   "file_extension": ".py",
   "mimetype": "text/x-python",
   "name": "python",
   "nbconvert_exporter": "python",
   "pygments_lexer": "ipython3",
   "version": "3.8.8"
  },
  "orig_nbformat": 4,
  "vscode": {
   "interpreter": {
    "hash": "e4cce46d6be9934fbd27f9ca0432556941ea5bdf741d4f4d64c6cd7f8dfa8fba"
   }
  }
 },
 "nbformat": 4,
 "nbformat_minor": 2
}
