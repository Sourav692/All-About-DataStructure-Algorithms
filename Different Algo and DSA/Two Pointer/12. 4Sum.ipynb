{
 "cells": [
  {
   "cell_type": "markdown",
   "metadata": {},
   "source": [
    "https://leetcode.com/problems/4sum/solution/"
   ]
  },
  {
   "cell_type": "markdown",
   "metadata": {},
   "source": [
    "AlgoExpert: https://www.algoexpert.io/questions/four-number-sum"
   ]
  },
  {
   "cell_type": "code",
   "execution_count": 16,
   "metadata": {},
   "outputs": [],
   "source": [
    "\n",
    "def fourSum(nums, target: int):\n",
    "    allPairSums = {}\n",
    "    quadruplets = []\n",
    "    targetSum = target\n",
    "    array = nums\n",
    "    for i in range(1, len(array) - 1):\n",
    "        for j in range(i + 1, len(array)):\n",
    "            currentSum = array[i] + array[j]\n",
    "            difference = targetSum - currentSum\n",
    "            if difference in allPairSums:\n",
    "                for pair in allPairSums[difference]:\n",
    "                    #print(pair + [array[i], array[j]])\n",
    "                    #if pair + [array[i], array[j]] in quadruplets:\n",
    "                        #pass\n",
    "                    quadruplets.append(pair + [array[i], array[j]])\n",
    "        for k in range(0, i):\n",
    "            currentSum = array[i] + array[k]\n",
    "            if currentSum not in allPairSums:\n",
    "                allPairSums[currentSum] = [[array[k], array[i]]]\n",
    "            else:\n",
    "                allPairSums[currentSum].append([array[k], array[i]])\n",
    "    return quadruplets\n"
   ]
  },
  {
   "cell_type": "code",
   "execution_count": 17,
   "metadata": {},
   "outputs": [],
   "source": [
    "nums = [2,2,2,2]\n",
    "target = 8"
   ]
  },
  {
   "cell_type": "code",
   "execution_count": 18,
   "metadata": {},
   "outputs": [],
   "source": [
    "fourSum_lis = fourSum(nums, target)"
   ]
  },
  {
   "cell_type": "code",
   "execution_count": 19,
   "metadata": {},
   "outputs": [
    {
     "data": {
      "text/plain": [
       "[[2, 2, 2, 2]]"
      ]
     },
     "execution_count": 19,
     "metadata": {},
     "output_type": "execute_result"
    }
   ],
   "source": [
    "fourSum_lis"
   ]
  },
  {
   "cell_type": "code",
   "execution_count": null,
   "metadata": {},
   "outputs": [],
   "source": []
  }
 ],
 "metadata": {
  "kernelspec": {
   "display_name": "Python 3.8.8 ('base')",
   "language": "python",
   "name": "python3"
  },
  "language_info": {
   "codemirror_mode": {
    "name": "ipython",
    "version": 3
   },
   "file_extension": ".py",
   "mimetype": "text/x-python",
   "name": "python",
   "nbconvert_exporter": "python",
   "pygments_lexer": "ipython3",
   "version": "3.8.8"
  },
  "orig_nbformat": 4,
  "vscode": {
   "interpreter": {
    "hash": "e4cce46d6be9934fbd27f9ca0432556941ea5bdf741d4f4d64c6cd7f8dfa8fba"
   }
  }
 },
 "nbformat": 4,
 "nbformat_minor": 2
}
