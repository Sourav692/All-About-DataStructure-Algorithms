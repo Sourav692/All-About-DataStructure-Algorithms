{
 "cells": [
  {
   "cell_type": "markdown",
   "metadata": {},
   "source": [
    "https://www.educative.io/courses/grokking-the-coding-interview/mElknO5OKBO"
   ]
  },
  {
   "cell_type": "code",
   "execution_count": 1,
   "metadata": {},
   "outputs": [
    {
     "name": "stdout",
     "output_type": "stream",
     "text": [
      "2\n",
      "4\n"
     ]
    }
   ],
   "source": [
    "def triplet_with_smaller_sum(arr, target):\n",
    "  arr.sort()\n",
    "  count = 0\n",
    "  for i in range(len(arr)-2):\n",
    "    count += search_pair(arr, target - arr[i], i)\n",
    "  return count\n",
    "\n",
    "\n",
    "def search_pair(arr, target_sum, first):\n",
    "  count = 0\n",
    "  left, right = first + 1, len(arr) - 1\n",
    "  while (left < right):\n",
    "    if arr[left] + arr[right] < target_sum:  # found the triplet\n",
    "      # since arr[right] >= arr[left], therefore, we can replace arr[right] by any number between\n",
    "      # left and right to get a sum less than the target sum\n",
    "      count += right - left\n",
    "      left += 1\n",
    "    else:\n",
    "      right -= 1  # we need a pair with a smaller sum\n",
    "  return count\n",
    "\n",
    "\n",
    "def main():\n",
    "  print(triplet_with_smaller_sum([-1, 0, 2, 3], 3))\n",
    "  print(triplet_with_smaller_sum([-1, 4, 2, 1, 3], 5))\n",
    "\n",
    "\n",
    "main()"
   ]
  },
  {
   "cell_type": "code",
   "execution_count": null,
   "metadata": {},
   "outputs": [],
   "source": []
  }
 ],
 "metadata": {
  "kernelspec": {
   "display_name": "Python 3.8.8 ('base')",
   "language": "python",
   "name": "python3"
  },
  "language_info": {
   "codemirror_mode": {
    "name": "ipython",
    "version": 3
   },
   "file_extension": ".py",
   "mimetype": "text/x-python",
   "name": "python",
   "nbconvert_exporter": "python",
   "pygments_lexer": "ipython3",
   "version": "3.8.8"
  },
  "orig_nbformat": 4,
  "vscode": {
   "interpreter": {
    "hash": "e4cce46d6be9934fbd27f9ca0432556941ea5bdf741d4f4d64c6cd7f8dfa8fba"
   }
  }
 },
 "nbformat": 4,
 "nbformat_minor": 2
}
