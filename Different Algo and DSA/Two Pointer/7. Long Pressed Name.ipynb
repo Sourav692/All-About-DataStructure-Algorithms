{
 "cells": [
  {
   "cell_type": "markdown",
   "metadata": {},
   "source": [
    "https://leetcode.com/problems/long-pressed-name/"
   ]
  },
  {
   "cell_type": "markdown",
   "metadata": {},
   "source": [
    "Some Awesome Solutions:\n",
    "\n",
    "    1. https://leetcode.com/problems/long-pressed-name/discuss/183920/Python-one-liner\n",
    "    2. https://leetcode.com/problems/long-pressed-name/discuss/199144/7-line-python-beats-100\n",
    "    3. https://leetcode.com/problems/long-pressed-name/discuss/698368/Easy-Python-Solution\n",
    "    4. https://leetcode.com/problems/long-pressed-name/discuss/183994/C%2B%2BJavaPython-Two-Pointers\n",
    "    5. https://leetcode.com/problems/long-pressed-name/discuss/2120441/simple-2-pointer-o(n)-python"
   ]
  },
  {
   "cell_type": "code",
   "execution_count": 16,
   "metadata": {},
   "outputs": [],
   "source": [
    "def isLongPressedName(name, typed):\n",
    "    i = 0\n",
    "    for j in range(len(typed)):\n",
    "        if i < len(name) and name[i] == typed[j]:\n",
    "            i += 1\n",
    "        elif j == 0 or typed[j] != typed[j - 1]:\n",
    "            return False\n",
    "    return i == len(name)\n",
    "        "
   ]
  },
  {
   "cell_type": "code",
   "execution_count": 18,
   "metadata": {},
   "outputs": [
    {
     "data": {
      "text/plain": [
       "True"
      ]
     },
     "execution_count": 18,
     "metadata": {},
     "output_type": "execute_result"
    }
   ],
   "source": [
    "name = \"leelee\"\n",
    "typed = \"lleeelee\"\n",
    "\n",
    "isLongPressedName(name,typed)"
   ]
  },
  {
   "cell_type": "code",
   "execution_count": 19,
   "metadata": {},
   "outputs": [
    {
     "data": {
      "text/plain": [
       "False"
      ]
     },
     "execution_count": 19,
     "metadata": {},
     "output_type": "execute_result"
    }
   ],
   "source": [
    "name = \"saeed\"\n",
    "typed = \"ssaaedd\"\n",
    "\n",
    "\n",
    "isLongPressedName(name,typed)"
   ]
  },
  {
   "cell_type": "code",
   "execution_count": null,
   "metadata": {},
   "outputs": [],
   "source": []
  }
 ],
 "metadata": {
  "kernelspec": {
   "display_name": "Python 3.8.8 ('base')",
   "language": "python",
   "name": "python3"
  },
  "language_info": {
   "codemirror_mode": {
    "name": "ipython",
    "version": 3
   },
   "file_extension": ".py",
   "mimetype": "text/x-python",
   "name": "python",
   "nbconvert_exporter": "python",
   "pygments_lexer": "ipython3",
   "version": "3.8.8"
  },
  "orig_nbformat": 4,
  "vscode": {
   "interpreter": {
    "hash": "e4cce46d6be9934fbd27f9ca0432556941ea5bdf741d4f4d64c6cd7f8dfa8fba"
   }
  }
 },
 "nbformat": 4,
 "nbformat_minor": 2
}
