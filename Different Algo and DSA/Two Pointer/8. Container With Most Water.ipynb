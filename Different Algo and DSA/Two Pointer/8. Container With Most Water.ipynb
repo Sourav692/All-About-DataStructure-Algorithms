{
 "cells": [
  {
   "cell_type": "markdown",
   "metadata": {},
   "source": [
    "https://leetcode.com/problems/container-with-most-water/"
   ]
  },
  {
   "cell_type": "code",
   "execution_count": 1,
   "metadata": {},
   "outputs": [
    {
     "name": "stdout",
     "output_type": "stream",
     "text": [
      "1. max_water_area_container([1, 8, 6, 2, 5, 4, 8, 3, 7]): 49\n",
      "----------------------------------------------------------------------------------------------------\n",
      "\n",
      "2. max_water_area_container([20, 30, 9, 69]): 60\n",
      "----------------------------------------------------------------------------------------------------\n",
      "\n",
      "3. max_water_area_container([13, 18, 12, 8]): 24\n",
      "----------------------------------------------------------------------------------------------------\n",
      "\n",
      "4. max_water_area_container([45, 32, 56, 99]): 135\n",
      "----------------------------------------------------------------------------------------------------\n",
      "\n",
      "5. max_water_area_container([23, 20]): 20\n",
      "----------------------------------------------------------------------------------------------------\n",
      "\n"
     ]
    }
   ],
   "source": [
    "def max_water_area_container(height):\n",
    "    # Initialize max_area as zero and the left and right markers to the two ends\n",
    "    # of an array\n",
    "    max_area = 0 \n",
    "    left = 0\n",
    "    right = len(height) - 1\n",
    "    \n",
    "    while left < right:\n",
    "        # Calculating the max area using the shortest height and the\n",
    "        # length of x-axis between the two heights\n",
    "        max_area = max(max_area, min(height[left], height[right]) * (right - left))\n",
    "        \n",
    "        # Move the left bar if it has the shorter height\n",
    "        if height[left] < height[right]:\n",
    "            left+=1\n",
    "        # Otherwise move the right bar\n",
    "        else:\n",
    "            right-=1\n",
    "\n",
    "    # Return the maximum area container\n",
    "    return max_area\n",
    "\n",
    "def main():\n",
    "    input_list = [\n",
    "                [1, 8, 6, 2, 5, 4, 8, 3, 7], \n",
    "                [20, 30, 9, 69],\n",
    "                [13, 18, 12, 8],\n",
    "                [45, 32, 56, 99], [23, 20]\n",
    "                ]\n",
    "    index = 1\n",
    "    for input in input_list:\n",
    "        print(str(index) + \". max_water_area_container(\" + str(input) + \"): \" + str(max_water_area_container(input)))\n",
    "        index += 1\n",
    "        print(\"----------------------------------------------------------------------------------------------------\\n\")\n",
    "\n",
    "if __name__ == \"__main__\":\n",
    "    main()"
   ]
  },
  {
   "cell_type": "code",
   "execution_count": null,
   "metadata": {},
   "outputs": [],
   "source": []
  }
 ],
 "metadata": {
  "kernelspec": {
   "display_name": "Python 3.8.8 ('base')",
   "language": "python",
   "name": "python3"
  },
  "language_info": {
   "codemirror_mode": {
    "name": "ipython",
    "version": 3
   },
   "file_extension": ".py",
   "mimetype": "text/x-python",
   "name": "python",
   "nbconvert_exporter": "python",
   "pygments_lexer": "ipython3",
   "version": "3.8.8"
  },
  "orig_nbformat": 4,
  "vscode": {
   "interpreter": {
    "hash": "e4cce46d6be9934fbd27f9ca0432556941ea5bdf741d4f4d64c6cd7f8dfa8fba"
   }
  }
 },
 "nbformat": 4,
 "nbformat_minor": 2
}
