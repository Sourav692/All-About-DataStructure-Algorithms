{
 "cells": [
  {
   "cell_type": "markdown",
   "metadata": {},
   "source": [
    "https://www.educative.io/courses/grokking-the-coding-interview/RMV1GV1yPYz"
   ]
  },
  {
   "cell_type": "code",
   "execution_count": 4,
   "metadata": {},
   "outputs": [
    {
     "name": "stdout",
     "output_type": "stream",
     "text": [
      "deque([2])\n",
      "deque([5, 2])\n",
      "deque([2, 5, 2])\n"
     ]
    }
   ],
   "source": [
    "temp_list = deque()\n",
    "temp_list.appendleft(2)\n",
    "print(temp_list)\n",
    "temp_list.appendleft(5)\n",
    "print(temp_list)\n",
    "\n",
    "temp_list.appendleft(2)\n",
    "print(temp_list)"
   ]
  },
  {
   "cell_type": "code",
   "execution_count": 5,
   "metadata": {},
   "outputs": [
    {
     "name": "stdout",
     "output_type": "stream",
     "text": [
      "0 2\n",
      "deque([2])\n",
      "1 5\n",
      "deque([5])\n",
      "0 2\n",
      "deque([2, 5])\n",
      "2 3\n",
      "deque([3])\n",
      "1 5\n",
      "deque([5, 3])\n",
      "3 10\n",
      "deque([10])\n",
      "[[2], [5], [2, 5], [3], [5, 3], [10]]\n",
      "0 8\n",
      "deque([8])\n",
      "1 2\n",
      "deque([2])\n",
      "0 8\n",
      "deque([8, 2])\n",
      "2 6\n",
      "deque([6])\n",
      "1 2\n",
      "deque([2, 6])\n",
      "3 5\n",
      "deque([5])\n",
      "2 6\n",
      "deque([6, 5])\n",
      "1 2\n",
      "deque([2, 6, 5])\n",
      "[[8], [2], [8, 2], [6], [2, 6], [5], [6, 5], [2, 6, 5]]\n"
     ]
    }
   ],
   "source": [
    "from collections import deque\n",
    "\n",
    "\n",
    "def find_subarrays(arr, target):\n",
    "  result = []\n",
    "  product = 1\n",
    "  left = 0\n",
    "  for right in range(len(arr)):\n",
    "    product *= arr[right]\n",
    "    while (product >= target and left <= right):\n",
    "      product /= arr[left]\n",
    "      left += 1\n",
    "    # since the product of all numbers from left to right is less than the target therefore,\n",
    "    # all subarrays from left to right will have a product less than the target too; to avoid\n",
    "    # duplicates, we will start with a subarray containing only arr[right] and then extend it\n",
    "    temp_list = deque()\n",
    "    for i in range(right, left-1, -1):\n",
    "        print(i,arr[i])\n",
    "        temp_list.appendleft(arr[i])\n",
    "        print(temp_list)\n",
    "        result.append(list(temp_list))\n",
    "  return result\n",
    "\n",
    "\n",
    "def main():\n",
    "  print(find_subarrays([2, 5, 3, 10], 30))\n",
    "  print(find_subarrays([8, 2, 6, 5], 70))\n",
    "\n",
    "\n",
    "main()"
   ]
  },
  {
   "cell_type": "code",
   "execution_count": null,
   "metadata": {},
   "outputs": [],
   "source": []
  }
 ],
 "metadata": {
  "kernelspec": {
   "display_name": "Python 3.8.8 ('base')",
   "language": "python",
   "name": "python3"
  },
  "language_info": {
   "codemirror_mode": {
    "name": "ipython",
    "version": 3
   },
   "file_extension": ".py",
   "mimetype": "text/x-python",
   "name": "python",
   "nbconvert_exporter": "python",
   "pygments_lexer": "ipython3",
   "version": "3.8.8"
  },
  "orig_nbformat": 4,
  "vscode": {
   "interpreter": {
    "hash": "e4cce46d6be9934fbd27f9ca0432556941ea5bdf741d4f4d64c6cd7f8dfa8fba"
   }
  }
 },
 "nbformat": 4,
 "nbformat_minor": 2
}
