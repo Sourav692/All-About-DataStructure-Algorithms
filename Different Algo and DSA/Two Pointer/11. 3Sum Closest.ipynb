{
 "cells": [
  {
   "cell_type": "markdown",
   "metadata": {},
   "source": [
    "https://leetcode.com/problems/3sum-closest/"
   ]
  },
  {
   "cell_type": "code",
   "execution_count": 2,
   "metadata": {},
   "outputs": [],
   "source": [
    "class Solution:\n",
    "    def threeSumClosest(nums, target: int) -> int:\n",
    "        diff = float('inf')\n",
    "        nums.sort()\n",
    "        for i in range(len(nums)):\n",
    "            lo, hi = i + 1, len(nums) - 1\n",
    "            while (lo < hi):\n",
    "                sum = nums[i] + nums[lo] + nums[hi]\n",
    "                if abs(target - sum) < abs(diff):\n",
    "                    diff = target - sum\n",
    "                if sum < target:\n",
    "                    lo += 1\n",
    "                else:\n",
    "                    hi -= 1\n",
    "            if diff == 0:\n",
    "                break\n",
    "        return target - diff"
   ]
  },
  {
   "cell_type": "code",
   "execution_count": 3,
   "metadata": {},
   "outputs": [
    {
     "name": "stdout",
     "output_type": "stream",
     "text": [
      "1\n",
      "0\n",
      "3\n"
     ]
    }
   ],
   "source": [
    "import math\n",
    "\n",
    "\n",
    "def triplet_sum_close_to_target(arr, target_sum):\n",
    "  arr.sort()\n",
    "  smallest_difference = math.inf\n",
    "  for i in range(len(arr)-2):\n",
    "    left = i + 1\n",
    "    right = len(arr) - 1\n",
    "    while (left < right):\n",
    "      target_diff = target_sum - arr[i] - arr[left] - arr[right]\n",
    "      if target_diff == 0:  # we've found a triplet with an exact sum\n",
    "        return target_sum  # return sum of all the numbers\n",
    "\n",
    "      # the second part of the following 'if' is to handle the smallest sum when we have more than one solution\n",
    "      if abs(target_diff) < abs(smallest_difference) or (abs(target_diff) == abs(smallest_difference) and target_diff > smallest_difference):\n",
    "        smallest_difference = target_diff  # save the closest and the biggest difference\n",
    "\n",
    "      if target_diff > 0:\n",
    "        left += 1  # we need a triplet with a bigger sum\n",
    "      else:\n",
    "        right -= 1  # we need a triplet with a smaller sum\n",
    "\n",
    "  return target_sum - smallest_difference\n",
    "\n",
    "\n",
    "def main():\n",
    "  print(triplet_sum_close_to_target([-2, 0, 1, 2], 2))\n",
    "  print(triplet_sum_close_to_target([-3, -1, 1, 2], 1))\n",
    "  print(triplet_sum_close_to_target([1, 0, 1, 1], 100))\n",
    "\n",
    "\n",
    "main()"
   ]
  },
  {
   "cell_type": "code",
   "execution_count": null,
   "metadata": {},
   "outputs": [],
   "source": []
  }
 ],
 "metadata": {
  "kernelspec": {
   "display_name": "Python 3.8.8 ('base')",
   "language": "python",
   "name": "python3"
  },
  "language_info": {
   "codemirror_mode": {
    "name": "ipython",
    "version": 3
   },
   "file_extension": ".py",
   "mimetype": "text/x-python",
   "name": "python",
   "nbconvert_exporter": "python",
   "pygments_lexer": "ipython3",
   "version": "3.8.8"
  },
  "orig_nbformat": 4,
  "vscode": {
   "interpreter": {
    "hash": "e4cce46d6be9934fbd27f9ca0432556941ea5bdf741d4f4d64c6cd7f8dfa8fba"
   }
  }
 },
 "nbformat": 4,
 "nbformat_minor": 2
}
