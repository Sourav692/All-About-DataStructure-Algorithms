{
 "cells": [
  {
   "cell_type": "markdown",
   "metadata": {},
   "source": [
    "https://www.educative.io/courses/grokking-the-coding-interview/N8rOAP6Lmw6"
   ]
  },
  {
   "cell_type": "markdown",
   "metadata": {},
   "source": [
    "https://leetcode.com/problems/shortest-unsorted-continuous-subarray/"
   ]
  },
  {
   "cell_type": "markdown",
   "metadata": {},
   "source": [
    "https://leetcode.com/problems/shortest-unsorted-continuous-subarray/discuss/103067/Python-O(N)-with-O(1)-space-complexity.-No-sorting"
   ]
  },
  {
   "cell_type": "code",
   "execution_count": 1,
   "metadata": {},
   "outputs": [
    {
     "name": "stdout",
     "output_type": "stream",
     "text": [
      "5\n",
      "5\n",
      "0\n",
      "3\n"
     ]
    }
   ],
   "source": [
    "import math\n",
    "\n",
    "\n",
    "def shortest_window_sort(arr):\n",
    "  low, high = 0, len(arr) - 1\n",
    "  # find the first number out of sorting order from the beginning\n",
    "  while (low < len(arr) - 1 and arr[low] <= arr[low + 1]):\n",
    "    low += 1\n",
    "\n",
    "  if low == len(arr) - 1:  # if the array is sorted\n",
    "    return 0\n",
    "\n",
    "  # find the first number out of sorting order from the end\n",
    "  while (high > 0 and arr[high] >= arr[high - 1]):\n",
    "    high -= 1\n",
    "\n",
    "  # find the maximum and minimum of the subarray\n",
    "  subarray_max = -math.inf\n",
    "  subarray_min = math.inf\n",
    "  for k in range(low, high+1):\n",
    "    subarray_max = max(subarray_max, arr[k])\n",
    "    subarray_min = min(subarray_min, arr[k])\n",
    "\n",
    "  # extend the subarray to include any number which is bigger than the minimum of the subarray\n",
    "  while (low > 0 and arr[low-1] > subarray_min):\n",
    "    low -= 1\n",
    "  # extend the subarray to include any number which is smaller than the maximum of the subarray\n",
    "  while (high < len(arr)-1 and arr[high+1] < subarray_max):\n",
    "    high += 1\n",
    "\n",
    "  return high - low + 1\n",
    "\n",
    "\n",
    "def main():\n",
    "  print(shortest_window_sort([1, 2, 5, 3, 7, 10, 9, 12]))\n",
    "  print(shortest_window_sort([1, 3, 2, 0, -1, 7, 10]))\n",
    "  print(shortest_window_sort([1, 2, 3]))\n",
    "  print(shortest_window_sort([3, 2, 1]))\n",
    "\n",
    "\n",
    "main()"
   ]
  },
  {
   "cell_type": "code",
   "execution_count": null,
   "metadata": {},
   "outputs": [],
   "source": []
  }
 ],
 "metadata": {
  "kernelspec": {
   "display_name": "Python 3.8.8 ('base')",
   "language": "python",
   "name": "python3"
  },
  "language_info": {
   "codemirror_mode": {
    "name": "ipython",
    "version": 3
   },
   "file_extension": ".py",
   "mimetype": "text/x-python",
   "name": "python",
   "nbconvert_exporter": "python",
   "pygments_lexer": "ipython3",
   "version": "3.8.8"
  },
  "orig_nbformat": 4,
  "vscode": {
   "interpreter": {
    "hash": "e4cce46d6be9934fbd27f9ca0432556941ea5bdf741d4f4d64c6cd7f8dfa8fba"
   }
  }
 },
 "nbformat": 4,
 "nbformat_minor": 2
}
