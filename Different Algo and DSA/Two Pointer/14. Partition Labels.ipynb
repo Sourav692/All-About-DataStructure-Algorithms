{
 "cells": [
  {
   "cell_type": "markdown",
   "metadata": {},
   "source": [
    "https://leetcode.com/problems/partition-labels/"
   ]
  },
  {
   "cell_type": "markdown",
   "metadata": {},
   "source": [
    "Best Solutions:\n",
    "\n",
    "    https://leetcode.com/problems/partition-labels/discuss/298474/Python-two-pointer-solution-with-explanation\n",
    "    https://leetcode.com/problems/partition-labels/discuss/1868757/Python3-GREEDY-VALIDATION-(-)-Explained\n",
    "    https://leetcode.com/problems/partition-labels/discuss/828031/Python-Greedy-O(n)-solution-explained\n",
    "    \n",
    "    "
   ]
  },
  {
   "cell_type": "code",
   "execution_count": 1,
   "metadata": {},
   "outputs": [],
   "source": [
    "class Solution:\n",
    "    def partitionLabels(self, S):\n",
    "        ends = {c: i for i, c in enumerate(S)}        \n",
    "        curr, out = 0, [0]\n",
    "        \n",
    "        while curr < len(S):\n",
    "            last = ends[S[curr]]\n",
    "            while curr <= last:\n",
    "                symb = S[curr]\n",
    "                last = max(last, ends[symb])\n",
    "                curr += 1\n",
    "            out.append(curr)\n",
    "        \n",
    "        return [out[i]-out[i-1] for i in range(1, len(out))]"
   ]
  },
  {
   "cell_type": "code",
   "execution_count": null,
   "metadata": {},
   "outputs": [],
   "source": []
  }
 ],
 "metadata": {
  "kernelspec": {
   "display_name": "Python 3.8.8 ('base')",
   "language": "python",
   "name": "python3"
  },
  "language_info": {
   "codemirror_mode": {
    "name": "ipython",
    "version": 3
   },
   "file_extension": ".py",
   "mimetype": "text/x-python",
   "name": "python",
   "nbconvert_exporter": "python",
   "pygments_lexer": "ipython3",
   "version": "3.8.8"
  },
  "orig_nbformat": 4,
  "vscode": {
   "interpreter": {
    "hash": "e4cce46d6be9934fbd27f9ca0432556941ea5bdf741d4f4d64c6cd7f8dfa8fba"
   }
  }
 },
 "nbformat": 4,
 "nbformat_minor": 2
}
