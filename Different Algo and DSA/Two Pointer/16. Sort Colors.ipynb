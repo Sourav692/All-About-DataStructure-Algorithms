{
 "cells": [
  {
   "cell_type": "markdown",
   "metadata": {},
   "source": [
    "https://leetcode.com/problems/sort-colors/solution/\n",
    "\n"
   ]
  },
  {
   "cell_type": "code",
   "execution_count": 1,
   "metadata": {},
   "outputs": [],
   "source": [
    "class Solution:\n",
    "    def sortColors(self, nums) -> None:\n",
    "        \"\"\"\n",
    "        Dutch National Flag problem solution.\n",
    "        \"\"\"\n",
    "        # for all idx < p0 : nums[idx < p0] = 0\n",
    "        # curr is an index of element under consideration\n",
    "        p0 = curr = 0\n",
    "        # for all idx > p2 : nums[idx > p2] = 2\n",
    "        p2 = len(nums) - 1\n",
    "\n",
    "        while curr <= p2:\n",
    "            if nums[curr] == 0:\n",
    "                nums[p0], nums[curr] = nums[curr], nums[p0]\n",
    "                p0 += 1\n",
    "                curr += 1\n",
    "            elif nums[curr] == 2:\n",
    "                nums[curr], nums[p2] = nums[p2], nums[curr]\n",
    "                p2 -= 1\n",
    "            else:\n",
    "                curr += 1"
   ]
  },
  {
   "cell_type": "code",
   "execution_count": 2,
   "metadata": {},
   "outputs": [
    {
     "name": "stdout",
     "output_type": "stream",
     "text": [
      "[0, 0, 1, 1, 2]\n",
      "[0, 0, 1, 2, 2, 2]\n"
     ]
    }
   ],
   "source": [
    "def dutch_flag_sort(arr):\n",
    "  # all elements < low are 0, and all elements > high are 2\n",
    "  # all elements from >= low < i are 1\n",
    "  low, high = 0, len(arr) - 1\n",
    "  i = 0\n",
    "  while(i <= high):\n",
    "    if arr[i] == 0:\n",
    "      arr[i], arr[low] = arr[low], arr[i]\n",
    "      # increment 'i' and 'low'\n",
    "      i += 1\n",
    "      low += 1\n",
    "    elif arr[i] == 1:\n",
    "      i += 1\n",
    "    else:  # the case for arr[i] == 2\n",
    "      arr[i], arr[high] = arr[high], arr[i]\n",
    "      # decrement 'high' only, after the swap the number at index 'i' could be 0, 1 or 2\n",
    "      high -= 1\n",
    "\n",
    "\n",
    "def main():\n",
    "  arr = [1, 0, 2, 1, 0]\n",
    "  dutch_flag_sort(arr)\n",
    "  print(arr)\n",
    "\n",
    "  arr = [2, 2, 0, 1, 2, 0]\n",
    "  dutch_flag_sort(arr)\n",
    "  print(arr)\n",
    "\n",
    "\n",
    "main()"
   ]
  },
  {
   "cell_type": "code",
   "execution_count": null,
   "metadata": {},
   "outputs": [],
   "source": []
  }
 ],
 "metadata": {
  "kernelspec": {
   "display_name": "Python 3.8.8 ('base')",
   "language": "python",
   "name": "python3"
  },
  "language_info": {
   "codemirror_mode": {
    "name": "ipython",
    "version": 3
   },
   "file_extension": ".py",
   "mimetype": "text/x-python",
   "name": "python",
   "nbconvert_exporter": "python",
   "pygments_lexer": "ipython3",
   "version": "3.8.8"
  },
  "orig_nbformat": 4,
  "vscode": {
   "interpreter": {
    "hash": "e4cce46d6be9934fbd27f9ca0432556941ea5bdf741d4f4d64c6cd7f8dfa8fba"
   }
  }
 },
 "nbformat": 4,
 "nbformat_minor": 2
}
