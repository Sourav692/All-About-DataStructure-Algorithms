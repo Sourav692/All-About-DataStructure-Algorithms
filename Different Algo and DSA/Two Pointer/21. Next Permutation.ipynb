{
 "cells": [
  {
   "cell_type": "markdown",
   "metadata": {},
   "source": [
    "https://leetcode.com/problems/next-permutation/"
   ]
  },
  {
   "cell_type": "markdown",
   "metadata": {},
   "source": [
    "YT Links:\n",
    "\n",
    "    https://www.youtube.com/watch?v=4wlBBRo4tYY\n",
    "    https://www.youtube.com/watch?v=9xT2Xzlo4i4\n",
    "    https://www.youtube.com/watch?v=6qXO72FkqwM\n"
   ]
  },
  {
   "cell_type": "markdown",
   "metadata": {},
   "source": [
    "LC Links:\n",
    "\n",
    "    https://leetcode.com/problems/next-permutation/discuss/13994/Readable-code-without-confusing-ij-and-with-explanation\n",
    "    https://leetcode.com/problems/next-permutation/discuss/13907/Easy-python-solution-based-on-lexicographical-permutation-algorithm\n",
    "    https://leetcode.com/problems/next-permutation/discuss/1179544/Python-Solution-with-easy-understanding-and-comments.-(Bonus%3A-Related-links)\n",
    "    https://leetcode.com/problems/next-permutation/discuss/1908568/Python3-SEARCH-SWAP-SORT-Explained\n",
    "    https://leetcode.com/problems/next-permutation/discuss/14054/Python-solution-with-comments.\n",
    "\n",
    "    https://www.nayuki.io/page/next-lexicographical-permutation-algorithm\n"
   ]
  },
  {
   "cell_type": "code",
   "execution_count": null,
   "metadata": {},
   "outputs": [],
   "source": []
  }
 ],
 "metadata": {
  "language_info": {
   "name": "python"
  },
  "orig_nbformat": 4
 },
 "nbformat": 4,
 "nbformat_minor": 2
}
