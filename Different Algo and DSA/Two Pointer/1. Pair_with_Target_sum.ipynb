{
 "cells": [
  {
   "cell_type": "markdown",
   "metadata": {},
   "source": [
    "Given an array of sorted numbers and a target sum, find a pair in the array whose sum is equal to the given target.\n",
    "\n",
    "Write a function to return the indices of the two numbers (i.e. the pair) such that they add up to the given target."
   ]
  },
  {
   "cell_type": "markdown",
   "metadata": {},
   "source": [
    "Input: [1, 2, 3, 4, 6], target=6\n",
    "\n",
    "Output: [1, 3]\n",
    "\n",
    "Explanation: The numbers at index 1 and 3 add up to 6: 2+4=6"
   ]
  },
  {
   "cell_type": "markdown",
   "metadata": {},
   "source": [
    "Input: [2, 5, 9, 11], target=11\n",
    "\n",
    "Output: [0, 2]\n",
    "\n",
    "Explanation: The numbers at index 0 and 2 add up to 11: 2+9=11"
   ]
  },
  {
   "cell_type": "markdown",
   "metadata": {},
   "source": [
    "#### Solution with 2 Pointer."
   ]
  },
  {
   "cell_type": "code",
   "execution_count": 2,
   "metadata": {},
   "outputs": [],
   "source": [
    "def pair_with_targetsum(arr, target_sum):\n",
    "    left = 0\n",
    "    right = len(arr) - 1\n",
    "    \n",
    "    while left < right:\n",
    "        curr_sum = arr[left] + arr[right]\n",
    "        if curr_sum == target_sum:\n",
    "            return[left,right]\n",
    "        if curr_sum > target_sum:\n",
    "            right = right -1\n",
    "        if curr_sum < target_sum:\n",
    "            left = left +1\n",
    "    return [-1, -1]    "
   ]
  },
  {
   "cell_type": "code",
   "execution_count": 6,
   "metadata": {},
   "outputs": [
    {
     "data": {
      "text/plain": [
       "[2, 3, 4]"
      ]
     },
     "execution_count": 6,
     "metadata": {},
     "output_type": "execute_result"
    }
   ],
   "source": [
    "nums = [3,2,4]\n",
    "\n",
    "nums.sort()\n",
    "\n",
    "nums"
   ]
  },
  {
   "cell_type": "code",
   "execution_count": 3,
   "metadata": {},
   "outputs": [
    {
     "name": "stdout",
     "output_type": "stream",
     "text": [
      "[-1, -1]\n"
     ]
    }
   ],
   "source": [
    "print(pair_with_targetsum([3,2,4], 6))"
   ]
  },
  {
   "cell_type": "code",
   "execution_count": 11,
   "metadata": {},
   "outputs": [
    {
     "name": "stdout",
     "output_type": "stream",
     "text": [
      "[1, 3]\n",
      "[2, 4]\n",
      "[-1, -1]\n"
     ]
    }
   ],
   "source": [
    "print(pair_with_targetsum([1, 2, 3, 4, 6], 6))\n",
    "print(pair_with_targetsum([1, 2, 3, 4, 6], 9))\n",
    "print(pair_with_targetsum([1, 2, 3, 4, 6], 11))"
   ]
  },
  {
   "cell_type": "markdown",
   "metadata": {},
   "source": [
    "#### Using HashMap ( This will also work if array is not sorted)\n"
   ]
  },
  {
   "cell_type": "code",
   "execution_count": 16,
   "metadata": {},
   "outputs": [
    {
     "name": "stdout",
     "output_type": "stream",
     "text": [
      "[2, 4]\n"
     ]
    }
   ],
   "source": [
    "arr = [1, 2, 3, 4, 6]\n",
    "target_sum = 9\n",
    "\n",
    "dict1 = {}\n",
    "\n",
    "for i,num in enumerate(arr):\n",
    "    second_num = target_sum-num\n",
    "    \n",
    "    if second_num in dict1:\n",
    "        print([dict1[second_num],i])\n",
    "    else:\n",
    "        dict1[arr[i]] = i"
   ]
  },
  {
   "cell_type": "code",
   "execution_count": null,
   "metadata": {},
   "outputs": [],
   "source": []
  }
 ],
 "metadata": {
  "kernelspec": {
   "display_name": "Python 3.8.8 ('base')",
   "language": "python",
   "name": "python3"
  },
  "language_info": {
   "codemirror_mode": {
    "name": "ipython",
    "version": 3
   },
   "file_extension": ".py",
   "mimetype": "text/x-python",
   "name": "python",
   "nbconvert_exporter": "python",
   "pygments_lexer": "ipython3",
   "version": "3.8.8"
  },
  "orig_nbformat": 4,
  "vscode": {
   "interpreter": {
    "hash": "e4cce46d6be9934fbd27f9ca0432556941ea5bdf741d4f4d64c6cd7f8dfa8fba"
   }
  }
 },
 "nbformat": 4,
 "nbformat_minor": 2
}
