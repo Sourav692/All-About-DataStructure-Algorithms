{
 "cells": [
  {
   "cell_type": "code",
   "execution_count": 1,
   "metadata": {},
   "outputs": [],
   "source": [
    "def get_next_valid_char_index(str, index):\n",
    "  backspace_count = 0\n",
    "  while (index >= 0):\n",
    "    if str[index] == '#':  # found a backspace character\n",
    "      backspace_count += 1\n",
    "    elif backspace_count > 0:  # a non-backspace character\n",
    "      backspace_count -= 1\n",
    "    else:\n",
    "      break\n",
    "\n",
    "    index -= 1  # skip a backspace or a valid character\n",
    "\n",
    "  return index"
   ]
  },
  {
   "cell_type": "code",
   "execution_count": 3,
   "metadata": {},
   "outputs": [
    {
     "name": "stdout",
     "output_type": "stream",
     "text": [
      "3\n",
      "0\n"
     ]
    }
   ],
   "source": [
    "str1 = 'xy#z'\n",
    "index1 = len(str1) - 1\n",
    "while (index1 >= 0):\n",
    "    i1 = get_next_valid_char_index(str1, index1)\n",
    "    print(i1)\n",
    "    index1 = i1 - 1"
   ]
  },
  {
   "cell_type": "code",
   "execution_count": null,
   "metadata": {},
   "outputs": [],
   "source": []
  }
 ],
 "metadata": {
  "interpreter": {
   "hash": "0012cd877e37c553ce082c8a53dbb8150686811a71a997c633aba52086b562f8"
  },
  "kernelspec": {
   "display_name": "Python 3.8.12 ('pyspark3')",
   "language": "python",
   "name": "python3"
  },
  "language_info": {
   "codemirror_mode": {
    "name": "ipython",
    "version": 3
   },
   "file_extension": ".py",
   "mimetype": "text/x-python",
   "name": "python",
   "nbconvert_exporter": "python",
   "pygments_lexer": "ipython3",
   "version": "3.8.12"
  },
  "orig_nbformat": 4
 },
 "nbformat": 4,
 "nbformat_minor": 2
}
