{
 "cells": [
  {
   "cell_type": "markdown",
   "metadata": {},
   "source": [
    "https://leetcode.com/problems/graph-valid-tree/\n",
    "\n",
    "You have a graph of n nodes labeled from 0 to n - 1. You are given an integer n and a list of edges where edges[i] = [ai, bi] indicates that there is an undirected edge between nodes ai and bi in the graph.\n",
    "\n",
    "Return true if the edges of the given graph make up a valid tree, and false otherwise."
   ]
  },
  {
   "cell_type": "markdown",
   "metadata": {},
   "source": [
    "![picture 1](../images/79a6631c6238bb37911cf6cede58d6bc6714774db7bde1b1e6a642b6d0095c0f.png)  \n"
   ]
  },
  {
   "cell_type": "code",
   "execution_count": 12,
   "metadata": {},
   "outputs": [
    {
     "data": {
      "text/plain": [
       "{0: [1, 2, 3], 1: [0, 4], 2: [0], 3: [0], 4: [1]}"
      ]
     },
     "execution_count": 12,
     "metadata": {},
     "output_type": "execute_result"
    }
   ],
   "source": [
    "\n",
    "\n",
    "\n",
    "adj = {i:[] for i in range(n)}\n",
    "\n",
    "for n1,n2 in edges:\n",
    "    adj[n1].append(n2)\n",
    "    adj[n2].append(n1)\n",
    "adj\n"
   ]
  },
  {
   "cell_type": "code",
   "execution_count": 11,
   "metadata": {},
   "outputs": [
    {
     "data": {
      "text/plain": [
       "{0: [1, 2, 3], 1: [0, 4], 2: [0], 3: [0], 4: [1]}"
      ]
     },
     "execution_count": 11,
     "metadata": {},
     "output_type": "execute_result"
    }
   ],
   "source": [
    "adj"
   ]
  },
  {
   "cell_type": "code",
   "execution_count": 45,
   "metadata": {},
   "outputs": [],
   "source": [
    "def validTree(n,edges):\n",
    "    if not n:\n",
    "        return True\n",
    "\n",
    "    adj = {i:[] for i in range(n)}\n",
    "\n",
    "    for n1,n2 in edges:\n",
    "        adj[n1].append(n2)\n",
    "        adj[n2].append(n1)\n",
    "    print(adj)   \n",
    "    visit = set()\n",
    "    def dfs(i,prev):\n",
    "        print(f\"i:{i} visit:{visit}\")\n",
    "        #print(visit)\n",
    "        if i in visit:\n",
    "            return False        \n",
    "        visit.add(i)\n",
    "        #print(visit)\n",
    "        for j in adj[i]:\n",
    "            print(f\"j:{j} prev:{prev} i:{i}\")\n",
    "            if j == prev:\n",
    "                continue\n",
    "            if not dfs(j,i):\n",
    "                return False\n",
    "        return True\n",
    "    return dfs(0,-1) and n == len(visit)\n",
    "    "
   ]
  },
  {
   "cell_type": "code",
   "execution_count": 46,
   "metadata": {},
   "outputs": [
    {
     "name": "stdout",
     "output_type": "stream",
     "text": [
      "{0: [1, 2, 3], 1: [0, 4], 2: [0], 3: [0], 4: [1]}\n",
      "i:0 visit:set()\n",
      "j:1 prev:-1 i:0\n",
      "i:1 visit:{0}\n",
      "j:0 prev:0 i:1\n",
      "j:4 prev:0 i:1\n",
      "i:4 visit:{0, 1}\n",
      "j:1 prev:1 i:4\n",
      "j:2 prev:-1 i:0\n",
      "i:2 visit:{0, 1, 4}\n",
      "j:0 prev:0 i:2\n",
      "j:3 prev:-1 i:0\n",
      "i:3 visit:{0, 1, 2, 4}\n",
      "j:0 prev:0 i:3\n"
     ]
    },
    {
     "data": {
      "text/plain": [
       "True"
      ]
     },
     "execution_count": 46,
     "metadata": {},
     "output_type": "execute_result"
    }
   ],
   "source": [
    "n = 5\n",
    "edges = [[0,1],[0,2],[0,3],[1,4]]\n",
    "\n",
    "validTree(n,edges)"
   ]
  },
  {
   "cell_type": "code",
   "execution_count": null,
   "metadata": {},
   "outputs": [],
   "source": []
  },
  {
   "cell_type": "code",
   "execution_count": null,
   "metadata": {},
   "outputs": [],
   "source": []
  }
 ],
 "metadata": {
  "interpreter": {
   "hash": "0012cd877e37c553ce082c8a53dbb8150686811a71a997c633aba52086b562f8"
  },
  "kernelspec": {
   "display_name": "Python 3.8.12 64-bit ('pyspark3': conda)",
   "language": "python",
   "name": "python3"
  },
  "language_info": {
   "codemirror_mode": {
    "name": "ipython",
    "version": 3
   },
   "file_extension": ".py",
   "mimetype": "text/x-python",
   "name": "python",
   "nbconvert_exporter": "python",
   "pygments_lexer": "ipython3",
   "version": "3.8.12"
  },
  "orig_nbformat": 4
 },
 "nbformat": 4,
 "nbformat_minor": 2
}
