{
 "cells": [
  {
   "cell_type": "markdown",
   "metadata": {},
   "source": [
    "https://leetcode.com/problems/plus-one/"
   ]
  },
  {
   "cell_type": "code",
   "execution_count": 78,
   "metadata": {},
   "outputs": [],
   "source": [
    "def plusOne(digits):\n",
    "    #digits = [1,2,3]\n",
    "    lis2 = []\n",
    "    add_element = 1\n",
    "    currentSum = 0\n",
    "    elem = 0\n",
    "    i = len(digits)-1\n",
    "\n",
    "    while i > -1:\n",
    "        currentSum = digits[i] + add_element\n",
    "        elem = currentSum%10\n",
    "        add_element = currentSum // 10\n",
    "        #print(f\"for {i} th digit {digits[i]} the  elem is {elem}, add_element is {add_element} and currentSum is {currentSum}\")\n",
    "        lis2.append(elem)\n",
    "        i = i-1\n",
    "        \n",
    "    if add_element != 0:\n",
    "        lis2.append(add_element)\n",
    "        \n",
    "    lis2.reverse()\n",
    "    return lis2"
   ]
  }
 ],
 "metadata": {
  "kernelspec": {
   "display_name": "Python 3.8.12 ('pyspark3')",
   "language": "python",
   "name": "python3"
  },
  "language_info": {
   "codemirror_mode": {
    "name": "ipython",
    "version": 3
   },
   "file_extension": ".py",
   "mimetype": "text/x-python",
   "name": "python",
   "nbconvert_exporter": "python",
   "pygments_lexer": "ipython3",
   "version": "3.8.12"
  },
  "orig_nbformat": 4,
  "vscode": {
   "interpreter": {
    "hash": "74dcca682c4bb73a7086b3d8cb4937c2e0bbd447a381e2455c88503a2a3742a7"
   }
  }
 },
 "nbformat": 4,
 "nbformat_minor": 2
}
