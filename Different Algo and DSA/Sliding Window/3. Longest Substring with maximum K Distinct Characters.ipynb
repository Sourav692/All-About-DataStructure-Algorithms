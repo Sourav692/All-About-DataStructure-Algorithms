{
 "cells": [
  {
   "cell_type": "markdown",
   "metadata": {},
   "source": [
    "Given a string, find the length of the longest substring in it with no more than K distinct characters."
   ]
  },
  {
   "cell_type": "markdown",
   "metadata": {},
   "source": [
    "Example 1:\n",
    "\n",
    "    Input: String=\"araaci\", K=2\n",
    "    Output: 4\n",
    "    Explanation: The longest substring with no more than '2' distinct characters is \"araa\".\n",
    "\n",
    "Example 2:\n",
    "\n",
    "    Input: String=\"araaci\", K=1\n",
    "    Output: 2\n",
    "    Explanation: The longest substring with no more than '1' distinct characters is \"aa\".\n",
    "\n",
    "Example 3:\n",
    "\n",
    "    Input: String=\"cbbebi\", K=3\n",
    "    Output: 5\n",
    "    Explanation: The longest substrings with no more than '3' distinct characters are \"cbbeb\" & \"bbebi\".\n",
    "\n",
    "Example 4:\n",
    "\n",
    "    Input: String=\"cbbebi\", K=10\n",
    "    Output: 6\n",
    "    Explanation: The longest substring with no more than '10' distinct characters is \"cbbebi\"."
   ]
  },
  {
   "cell_type": "code",
   "execution_count": 1,
   "metadata": {},
   "outputs": [],
   "source": [
    "def longest_substring_with_k_distinct(str1, k):\n",
    "  window_start = 0\n",
    "  max_length = 0\n",
    "  char_frequency = {}\n",
    "\n",
    "  # in the following loop we'll try to extend the range [window_start, window_end]\n",
    "  for window_end in range(len(str1)):\n",
    "    right_char = str1[window_end]\n",
    "    if right_char not in char_frequency:\n",
    "      char_frequency[right_char] = 0\n",
    "    char_frequency[right_char] += 1\n",
    "\n",
    "    # shrink the sliding window, until we are left with 'k' distinct characters in the char_frequency\n",
    "    while len(char_frequency) > k:\n",
    "      left_char = str1[window_start]\n",
    "      char_frequency[left_char] -= 1\n",
    "      if char_frequency[left_char] == 0:\n",
    "        del char_frequency[left_char]\n",
    "      window_start += 1  # shrink the window\n",
    "    # remember the maximum length so far\n",
    "    max_length = max(max_length, window_end-window_start + 1)\n",
    "  return max_length"
   ]
  },
  {
   "cell_type": "code",
   "execution_count": 2,
   "metadata": {},
   "outputs": [
    {
     "name": "stdout",
     "output_type": "stream",
     "text": [
      "Length of the longest substring: 4\n"
     ]
    }
   ],
   "source": [
    "print(\"Length of the longest substring: \" + str(longest_substring_with_k_distinct(\"araaci\", 2)))"
   ]
  },
  {
   "cell_type": "code",
   "execution_count": null,
   "metadata": {},
   "outputs": [],
   "source": []
  }
 ],
 "metadata": {
  "interpreter": {
   "hash": "74dcca682c4bb73a7086b3d8cb4937c2e0bbd447a381e2455c88503a2a3742a7"
  },
  "kernelspec": {
   "display_name": "Python 3.8.12 ('pyspark3')",
   "language": "python",
   "name": "python3"
  },
  "language_info": {
   "codemirror_mode": {
    "name": "ipython",
    "version": 3
   },
   "file_extension": ".py",
   "mimetype": "text/x-python",
   "name": "python",
   "nbconvert_exporter": "python",
   "pygments_lexer": "ipython3",
   "version": "3.8.12"
  },
  "orig_nbformat": 4
 },
 "nbformat": 4,
 "nbformat_minor": 2
}
