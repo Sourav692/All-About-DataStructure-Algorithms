{
 "cells": [
  {
   "cell_type": "markdown",
   "metadata": {},
   "source": [
    "#### Using Brute Force"
   ]
  },
  {
   "cell_type": "code",
   "execution_count": 12,
   "metadata": {},
   "outputs": [],
   "source": [
    "def max_sum_consecutive_element(arr,k):\n",
    "    n = len(arr)\n",
    "    maxSum = float('-inf')\n",
    "    for i in range(0,n-k+1):\n",
    "        currentSum = 0\n",
    "        for j in range(i,i+k):    \n",
    "            currentSum += arr[j]\n",
    "        maxSum = max(currentSum, maxSum)\n",
    "    return maxSum   "
   ]
  },
  {
   "cell_type": "code",
   "execution_count": 13,
   "metadata": {},
   "outputs": [
    {
     "data": {
      "text/plain": [
       "700"
      ]
     },
     "execution_count": 13,
     "metadata": {},
     "output_type": "execute_result"
    }
   ],
   "source": [
    "arr = [100,200,300,400]\n",
    "k=2\n",
    "max_sum_consecutive_element(arr,k)"
   ]
  },
  {
   "cell_type": "markdown",
   "metadata": {},
   "source": [
    "#### Using Sliding Window"
   ]
  },
  {
   "cell_type": "code",
   "execution_count": 16,
   "metadata": {},
   "outputs": [],
   "source": [
    "def max_sum_consecutive_element(arr,k):\n",
    "    n = len(arr)\n",
    "    maxSum = float('-inf')\n",
    "    windowSum = 0\n",
    "\n",
    "    for i in range(0,k):\n",
    "        windowSum += arr[i]\n",
    "\n",
    "    for j in range(k,n):\n",
    "        windowSum += arr[j] - arr[j-k]\n",
    "        maxSum = max(windowSum, maxSum)\n",
    "\n",
    "    return maxSum"
   ]
  },
  {
   "cell_type": "code",
   "execution_count": 17,
   "metadata": {},
   "outputs": [
    {
     "data": {
      "text/plain": [
       "700"
      ]
     },
     "execution_count": 17,
     "metadata": {},
     "output_type": "execute_result"
    }
   ],
   "source": [
    "arr = [100,200,300,400]\n",
    "k=2\n",
    "max_sum_consecutive_element(arr,k)"
   ]
  },
  {
   "cell_type": "code",
   "execution_count": null,
   "metadata": {},
   "outputs": [],
   "source": []
  }
 ],
 "metadata": {
  "interpreter": {
   "hash": "74dcca682c4bb73a7086b3d8cb4937c2e0bbd447a381e2455c88503a2a3742a7"
  },
  "kernelspec": {
   "display_name": "Python 3.8.12 ('pyspark3')",
   "language": "python",
   "name": "python3"
  },
  "language_info": {
   "codemirror_mode": {
    "name": "ipython",
    "version": 3
   },
   "file_extension": ".py",
   "mimetype": "text/x-python",
   "name": "python",
   "nbconvert_exporter": "python",
   "pygments_lexer": "ipython3",
   "version": "3.8.12"
  },
  "orig_nbformat": 4
 },
 "nbformat": 4,
 "nbformat_minor": 2
}
