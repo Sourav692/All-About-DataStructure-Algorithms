{
 "cells": [
  {
   "cell_type": "markdown",
   "metadata": {},
   "source": [
    "Given a string, find the length of the longest substring, which has all distinct characters.\n",
    "\n",
    "Example 1:\n",
    "\n",
    "    Input: String=\"aabccbb\"\n",
    "    Output: 3\n",
    "    Explanation: The longest substring with distinct characters is \"abc\".\n",
    "\n",
    "Example 2:\n",
    "\n",
    "    Input: String=\"abbbb\"\n",
    "    Output: 2\n",
    "    Explanation: The longest substring with distinct characters is \"ab\".\n",
    "\n",
    "Example 3:\n",
    "\n",
    "    Input: String=\"abccde\"\n",
    "    Output: 3\n",
    "    Explanation: Longest substrings with distinct characters are \"abc\" & \"cde\"."
   ]
  },
  {
   "cell_type": "markdown",
   "metadata": {},
   "source": [
    "#### Solution\n",
    "\n",
    "This problem follows the Sliding Window pattern, and we can use a similar dynamic sliding window strategy as discussed in Longest Substring with K Distinct Characters. We can use a HashMap to remember the last index of each character we have processed. Whenever we get a duplicate character, we will shrink our sliding window to ensure that we always have distinct characters in the sliding window."
   ]
  },
  {
   "cell_type": "code",
   "execution_count": 1,
   "metadata": {},
   "outputs": [],
   "source": [
    "def non_repeat_substring(str1):\n",
    "  window_start = 0\n",
    "  max_length = 0\n",
    "  char_index_map = {}\n",
    "\n",
    "  # try to extend the range [windowStart, windowEnd]\n",
    "  for window_end in range(len(str1)):\n",
    "    right_char = str1[window_end]\n",
    "    # if the map already contains the 'right_char', shrink the window from the beginning so that\n",
    "    # we have only one occurrence of 'right_char'\n",
    "    if right_char in char_index_map:\n",
    "      # this is tricky; in the current window, we will not have any 'right_char' after its previous index\n",
    "      # and if 'window_start' is already ahead of the last index of 'right_char', we'll keep 'window_start'\n",
    "      window_start = max(window_start, char_index_map[right_char] + 1)\n",
    "    # insert the 'right_char' into the map\n",
    "    char_index_map[right_char] = window_end\n",
    "    # remember the maximum length so far\n",
    "    max_length = max(max_length, window_end - window_start + 1)\n",
    "  return max_length"
   ]
  },
  {
   "cell_type": "code",
   "execution_count": 2,
   "metadata": {},
   "outputs": [
    {
     "name": "stdout",
     "output_type": "stream",
     "text": [
      "Length of the longest substring: 3\n",
      "Length of the longest substring: 2\n",
      "Length of the longest substring: 3\n"
     ]
    }
   ],
   "source": [
    "print(\"Length of the longest substring: \" + str(non_repeat_substring(\"aabccbb\")))\n",
    "print(\"Length of the longest substring: \" + str(non_repeat_substring(\"abbbb\")))\n",
    "print(\"Length of the longest substring: \" + str(non_repeat_substring(\"abccde\")))"
   ]
  },
  {
   "cell_type": "markdown",
   "metadata": {},
   "source": [
    "#### Time Complexity#\n",
    "\n",
    "The above algorithm’s time complexity will be O(N), where ‘N’ is the number of characters in the input string.\n",
    "\n",
    "#### Space Complexity#\n",
    "The algorithm’s space complexity will be O(K), where K is the number of distinct characters in the input string. This also means K<=N , because in the worst case, the whole string might not have any duplicate character, so the entire string will be added to the HashMap. Having said that, since we can expect a fixed set of characters in the input string (e.g., 26 for English letters), we can say that the algorithm runs in fixed space O(1) ; in this case, we can use a fixed-size array instead of the HashMap."
   ]
  }
 ],
 "metadata": {
  "interpreter": {
   "hash": "74dcca682c4bb73a7086b3d8cb4937c2e0bbd447a381e2455c88503a2a3742a7"
  },
  "kernelspec": {
   "display_name": "Python 3.8.12 ('pyspark3')",
   "language": "python",
   "name": "python3"
  },
  "language_info": {
   "codemirror_mode": {
    "name": "ipython",
    "version": 3
   },
   "file_extension": ".py",
   "mimetype": "text/x-python",
   "name": "python",
   "nbconvert_exporter": "python",
   "pygments_lexer": "ipython3",
   "version": "3.8.12"
  },
  "orig_nbformat": 4
 },
 "nbformat": 4,
 "nbformat_minor": 2
}
