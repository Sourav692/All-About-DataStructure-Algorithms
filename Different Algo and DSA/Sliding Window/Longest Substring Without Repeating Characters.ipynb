{
 "cells": [
  {
   "cell_type": "code",
   "execution_count": 1,
   "metadata": {},
   "outputs": [
    {
     "name": "stdout",
     "output_type": "stream",
     "text": [
      "a\n",
      "b\n",
      "c\n",
      "a\n",
      "b\n",
      "c\n",
      "b\n"
     ]
    }
   ],
   "source": [
    "s = \"abcabcbb\"\n",
    "\n",
    "for i in range(len(s)-1):\n",
    "    print(s[i])"
   ]
  },
  {
   "cell_type": "code",
   "execution_count": null,
   "metadata": {},
   "outputs": [],
   "source": [
    "class Solution:\n",
    "    def lengthOfLongestSubstring(self, s: str) -> int:\n",
    "        right = 0\n",
    "        left = 0\n",
    "        dict1 = {}\n",
    "        win_len = -1\n",
    "\n",
    "        while right < len(s):\n",
    "            #print(\"s[right] is \",s[right] )\n",
    "            if s[right] in dict1:\n",
    "                while s[right] in dict1:\n",
    "                    #print(f\"left is {left} and right is {right}\")\n",
    "                    #print(\"dict1 is \",dict1)\n",
    "                    #print(\"s[left] is \",s[left] )\n",
    "                    if s[left] in dict1:\n",
    "                        del dict1[s[left]]\n",
    "                    #del dict1[s[left]] \n",
    "                    #print(\"dict1 is after change is\",dict1,)\n",
    "                    #if dict1[s[left]] == 0:\n",
    "                        #del dict1[s[left]] \n",
    "                    # del dict1[s[left]]\n",
    "                    left = left +1\n",
    "                dict1[s[right]] = 1\n",
    "            else:\n",
    "                dict1[s[right]] = 1\n",
    "            win_len = max(right-left+1,win_len)\n",
    "            right+= 1\n",
    "        return win_len\n",
    "        "
   ]
  },
  {
   "cell_type": "code",
   "execution_count": 47,
   "metadata": {},
   "outputs": [
    {
     "name": "stdout",
     "output_type": "stream",
     "text": [
      "s[right] is  a\n",
      "s[right] is  b\n",
      "s[right] is  c\n",
      "s[right] is  a\n",
      "left is 0 and right is 3\n",
      "dict1 is  {'a': 1, 'b': 1, 'c': 1}\n",
      "s[left] is  a\n",
      "dict1 is after change is {'b': 1, 'c': 1}\n",
      "s[right] is  b\n",
      "left is 1 and right is 4\n",
      "dict1 is  {'b': 1, 'c': 1, 'a': 1}\n",
      "s[left] is  b\n",
      "dict1 is after change is {'c': 1, 'a': 1}\n",
      "s[right] is  c\n",
      "left is 2 and right is 5\n",
      "dict1 is  {'c': 1, 'a': 1, 'b': 1}\n",
      "s[left] is  c\n",
      "dict1 is after change is {'a': 1, 'b': 1}\n",
      "s[right] is  b\n",
      "left is 3 and right is 6\n",
      "dict1 is  {'a': 1, 'b': 1, 'c': 1}\n",
      "s[left] is  a\n",
      "dict1 is after change is {'b': 1, 'c': 1}\n",
      "left is 4 and right is 6\n",
      "dict1 is  {'b': 1, 'c': 1}\n",
      "s[left] is  b\n",
      "dict1 is after change is {'c': 1}\n",
      "s[right] is  b\n",
      "left is 5 and right is 7\n",
      "dict1 is  {'c': 1, 'b': 1}\n",
      "s[left] is  c\n",
      "dict1 is after change is {'b': 1}\n",
      "left is 6 and right is 7\n",
      "dict1 is  {'b': 1}\n",
      "s[left] is  b\n",
      "dict1 is after change is {}\n"
     ]
    },
    {
     "data": {
      "text/plain": [
       "3"
      ]
     },
     "execution_count": 47,
     "metadata": {},
     "output_type": "execute_result"
    }
   ],
   "source": [
    "s = \"abcabcbb\"\n",
    "right = 0\n",
    "left = 0\n",
    "dict1 = {}\n",
    "win_len = -1\n",
    "\n",
    "while right < len(s):\n",
    "    #print(\"s[right] is \",s[right] )\n",
    "    if s[right] in dict1:\n",
    "        while s[right] in dict1:\n",
    "            #print(f\"left is {left} and right is {right}\")\n",
    "            #print(\"dict1 is \",dict1)\n",
    "            #print(\"s[left] is \",s[left] )\n",
    "            if s[left] in dict1:\n",
    "                del dict1[s[left]]\n",
    "            #del dict1[s[left]] \n",
    "            print(\"dict1 is after change is\",dict1,)\n",
    "            #if dict1[s[left]] == 0:\n",
    "                #del dict1[s[left]] \n",
    "            # del dict1[s[left]]\n",
    "            left = left +1\n",
    "        dict1[s[right]] = 1\n",
    "    else:\n",
    "        dict1[s[right]] = 1\n",
    "    win_len = max(right-left+1,win_len)\n",
    "    right+= 1\n",
    "win_len   "
   ]
  },
  {
   "cell_type": "code",
   "execution_count": 4,
   "metadata": {},
   "outputs": [
    {
     "data": {
      "text/plain": [
       "{'a': 2, 'b': 4, 'c': 2}"
      ]
     },
     "execution_count": 4,
     "metadata": {},
     "output_type": "execute_result"
    }
   ],
   "source": [
    "dict1"
   ]
  },
  {
   "cell_type": "code",
   "execution_count": 37,
   "metadata": {},
   "outputs": [
    {
     "data": {
      "text/plain": [
       "{'b': 1, 'c': 1}"
      ]
     },
     "execution_count": 37,
     "metadata": {},
     "output_type": "execute_result"
    }
   ],
   "source": [
    "dic1 = {'a': 0, 'b': 1, 'c': 1}\n",
    "left = 0\n",
    "del dic1[s[left]]\n",
    "\n",
    "dic1"
   ]
  },
  {
   "cell_type": "code",
   "execution_count": 17,
   "metadata": {},
   "outputs": [],
   "source": [
    "del dic1[\"a\"]"
   ]
  },
  {
   "cell_type": "code",
   "execution_count": 18,
   "metadata": {},
   "outputs": [
    {
     "data": {
      "text/plain": [
       "{'b': 2}"
      ]
     },
     "execution_count": 18,
     "metadata": {},
     "output_type": "execute_result"
    }
   ],
   "source": [
    "dic1"
   ]
  },
  {
   "cell_type": "code",
   "execution_count": 10,
   "metadata": {},
   "outputs": [
    {
     "name": "stdout",
     "output_type": "stream",
     "text": [
      "{'a': 1, 'b': 1}\n",
      "{'a': 1, 'b': 0}\n"
     ]
    }
   ],
   "source": [
    "while dic1[\"b\"] >0:\n",
    "    dic1[\"b\"] -=1\n",
    "    print(dic1)\n",
    "    "
   ]
  },
  {
   "cell_type": "code",
   "execution_count": 8,
   "metadata": {},
   "outputs": [
    {
     "data": {
      "text/plain": [
       "{'b': 1}"
      ]
     },
     "execution_count": 8,
     "metadata": {},
     "output_type": "execute_result"
    }
   ],
   "source": [
    "dic1"
   ]
  },
  {
   "cell_type": "code",
   "execution_count": null,
   "metadata": {},
   "outputs": [],
   "source": []
  }
 ],
 "metadata": {
  "interpreter": {
   "hash": "74dcca682c4bb73a7086b3d8cb4937c2e0bbd447a381e2455c88503a2a3742a7"
  },
  "kernelspec": {
   "display_name": "Python 3.8.12 ('pyspark3')",
   "language": "python",
   "name": "python3"
  },
  "language_info": {
   "codemirror_mode": {
    "name": "ipython",
    "version": 3
   },
   "file_extension": ".py",
   "mimetype": "text/x-python",
   "name": "python",
   "nbconvert_exporter": "python",
   "pygments_lexer": "ipython3",
   "version": "3.8.12"
  },
  "orig_nbformat": 4
 },
 "nbformat": 4,
 "nbformat_minor": 2
}
