{
 "cells": [
  {
   "cell_type": "markdown",
   "metadata": {},
   "source": [
    "Given an array of positive integers and a number ‘S,’ find the length of the smallest contiguous subarray whose sum is greater than or equal to ‘S’. Return 0 if no such subarray exists."
   ]
  },
  {
   "cell_type": "markdown",
   "metadata": {},
   "source": [
    "Input: [2, 1, 5, 2, 3, 2], S=7\n",
    "\n",
    "Output: 2\n",
    "\n",
    "Explanation: The smallest subarray with a sum greater than or equal to ‘7’ is [5, 2]."
   ]
  },
  {
   "cell_type": "markdown",
   "metadata": {},
   "source": [
    "Input: [2, 1, 5, 2, 8], S=7\n",
    "\n",
    "Output: 1\n",
    "\n",
    "Explanation: The smallest subarray with a sum greater than or equal to ‘7’ is [8]."
   ]
  },
  {
   "cell_type": "markdown",
   "metadata": {},
   "source": [
    "Input: [3, 4, 1, 1, 6], S=8\n",
    "\n",
    "Output: 3\n",
    "\n",
    "Explanation: Smallest subarrays with a sum greater than or equal to ‘8’ are [3, 4, 1] or [1, 1, 6]."
   ]
  },
  {
   "cell_type": "code",
   "execution_count": 12,
   "metadata": {},
   "outputs": [],
   "source": [
    "import math\n",
    "\n",
    "def smallest_subarray_sum(sum, arr):\n",
    "    minLegth = math.inf\n",
    "    start = 0\n",
    "    windowSum = 0\n",
    "\n",
    "    for end in range(0,len(arr)-1):\n",
    "        windowSum += arr[end] # add the next element\n",
    "        \n",
    "        while windowSum >= sum: # shrink the window as small as possible until the 'window_sum' is smaller than 'sum'\n",
    "            minLegth = min(minLegth,end-start+1)\n",
    "            #print(f\"Window start is {start} Windows end is {end} and minLegth is {minLegth}\")\n",
    "            windowSum = windowSum- arr[start]\n",
    "            start = start+1\n",
    "\n",
    "    if minLegth == math.inf:\n",
    "        return 0\n",
    "\n",
    "    return minLegth"
   ]
  },
  {
   "cell_type": "code",
   "execution_count": 11,
   "metadata": {},
   "outputs": [
    {
     "data": {
      "text/plain": [
       "2"
      ]
     },
     "execution_count": 11,
     "metadata": {},
     "output_type": "execute_result"
    }
   ],
   "source": [
    "arr = [2, 1, 5, 2, 3, 2]\n",
    "sum = 7\n",
    "\n",
    "smallest_subarray_sum(sum, arr)"
   ]
  },
  {
   "cell_type": "markdown",
   "metadata": {},
   "source": [
    "The time complexity of the above algorithm will be O(N)\n",
    ". The outer for loop runs for all elements, and the inner while loop processes each element only once; therefore, the time complexity of the algorithm will be O(N+N)\n",
    ", which is asymptotically equivalent to O(N)\n",
    "."
   ]
  },
  {
   "cell_type": "code",
   "execution_count": 8,
   "metadata": {},
   "outputs": [
    {
     "name": "stdout",
     "output_type": "stream",
     "text": [
      "0\n"
     ]
    }
   ],
   "source": [
    "l = [-2,0,-1]\n",
    "\n",
    "for i in range(0,len(l)-1):\n",
    "    product = l[i] * l[i+1]\n",
    "print(product)"
   ]
  },
  {
   "cell_type": "code",
   "execution_count": null,
   "metadata": {},
   "outputs": [],
   "source": []
  }
 ],
 "metadata": {
  "interpreter": {
   "hash": "74dcca682c4bb73a7086b3d8cb4937c2e0bbd447a381e2455c88503a2a3742a7"
  },
  "kernelspec": {
   "display_name": "Python 3.8.12 ('pyspark3')",
   "language": "python",
   "name": "python3"
  },
  "language_info": {
   "codemirror_mode": {
    "name": "ipython",
    "version": 3
   },
   "file_extension": ".py",
   "mimetype": "text/x-python",
   "name": "python",
   "nbconvert_exporter": "python",
   "pygments_lexer": "ipython3",
   "version": "3.8.12"
  },
  "orig_nbformat": 4
 },
 "nbformat": 4,
 "nbformat_minor": 2
}
