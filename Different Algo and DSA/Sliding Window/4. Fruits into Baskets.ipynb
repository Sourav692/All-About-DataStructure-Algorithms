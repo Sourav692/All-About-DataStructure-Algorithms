{
 "cells": [
  {
   "cell_type": "markdown",
   "metadata": {},
   "source": [
    "You are visiting a farm to collect fruits. The farm has a single row of fruit trees. You will be given two baskets, and your goal is to pick as many fruits as possible to be placed in the given baskets.\n",
    "\n",
    "You will be given an array of characters where each character represents a fruit tree. The farm has following restrictions:\n",
    "\n",
    "    Each basket can have only one type of fruit. There is no limit to how many fruit a basket can hold.\n",
    "\n",
    "    You can start with any tree, but you can’t skip a tree once you have started.\n",
    "    \n",
    "    You will pick exactly one fruit from every tree until you cannot, i.e., you will stop when you have to pick from a third fruit type.\n",
    "\n",
    "Write a function to return the maximum number of fruits in both baskets."
   ]
  },
  {
   "cell_type": "markdown",
   "metadata": {},
   "source": [
    "Example 1:\n",
    "\n",
    "    Input: Fruit=['A', 'B', 'C', 'A', 'C']\n",
    "    Output: 3\n",
    "    Explanation: We can put 2 'C' in one basket and one 'A' in the other from the subarray ['C', 'A', 'C']\n",
    "\n",
    "Example 2:\n",
    "\n",
    "    Input: Fruit=['A', 'B', 'C', 'B', 'B', 'C']\n",
    "    Output: 5\n",
    "    Explanation: We can put 3 'B' in one basket and two 'C' in the other basket. \n",
    "    This can be done if we start with the second letter: ['B', 'C', 'B', 'B', 'C']"
   ]
  },
  {
   "cell_type": "code",
   "execution_count": 3,
   "metadata": {},
   "outputs": [],
   "source": [
    "def fruits_into_baskets(fruits):\n",
    "    start = 0\n",
    "    max_length = 0\n",
    "    fruit_frequency = {}\n",
    "    \n",
    "    for end in range(0,len(fruits)):\n",
    "        right_fruit = fruits[end]\n",
    "        if right_fruit not in fruit_frequency:\n",
    "            fruit_frequency[right_fruit] = 0\n",
    "        fruit_frequency[right_fruit] += 1\n",
    "    \n",
    "        while len(fruit_frequency) > 2:\n",
    "            left_fruit = fruits[start]\n",
    "            fruit_frequency[left_fruit] -= 1\n",
    "            if fruit_frequency[left_fruit] == 0:\n",
    "                del fruit_frequency[left_fruit]\n",
    "            start += 1  # shrink the window\n",
    "        max_length = max(max_length, end-start + 1)\n",
    "    return max_length"
   ]
  },
  {
   "cell_type": "code",
   "execution_count": 4,
   "metadata": {},
   "outputs": [
    {
     "name": "stdout",
     "output_type": "stream",
     "text": [
      "Maximum number of fruits: 3\n"
     ]
    }
   ],
   "source": [
    "print(\"Maximum number of fruits: \" + str(fruits_into_baskets(['A', 'B', 'C', 'A', 'C'])))"
   ]
  },
  {
   "cell_type": "code",
   "execution_count": 5,
   "metadata": {},
   "outputs": [
    {
     "name": "stdout",
     "output_type": "stream",
     "text": [
      "Maximum number of fruits: 4\n"
     ]
    }
   ],
   "source": [
    "print(\"Maximum number of fruits: \" + str(fruits_into_baskets(['A', 'B', 'A', 'C', 'B', 'B', 'C'])))"
   ]
  },
  {
   "cell_type": "markdown",
   "metadata": {},
   "source": [
    "##### Time Complexity\n",
    "The above algorithm’s time complexity will be O(N), where ‘N’ is the number of characters in the input array. The outer for loop runs for all characters, and the inner while loop processes each character only once; therefore, the time complexity of the algorithm will be O(N+N), which is asymptotically equivalent to O(N).\n",
    "\n",
    "##### Space Complexity\n",
    "The algorithm runs in constant space O(1) as there can be a maximum of three types of fruits stored in the frequency map."
   ]
  },
  {
   "cell_type": "markdown",
   "metadata": {},
   "source": [
    "##### Similar Problems#\n",
    "Problem 1: Longest Substring with at most 2 distinct characters\n",
    "\n",
    "Given a string, find the length of the longest substring in it with at most two distinct characters.\n",
    "\n",
    "Solution: This problem is exactly similar to our parent problem."
   ]
  },
  {
   "cell_type": "code",
   "execution_count": null,
   "metadata": {},
   "outputs": [],
   "source": []
  }
 ],
 "metadata": {
  "interpreter": {
   "hash": "74dcca682c4bb73a7086b3d8cb4937c2e0bbd447a381e2455c88503a2a3742a7"
  },
  "kernelspec": {
   "display_name": "Python 3.8.12 ('pyspark3')",
   "language": "python",
   "name": "python3"
  },
  "language_info": {
   "codemirror_mode": {
    "name": "ipython",
    "version": 3
   },
   "file_extension": ".py",
   "mimetype": "text/x-python",
   "name": "python",
   "nbconvert_exporter": "python",
   "pygments_lexer": "ipython3",
   "version": "3.8.12"
  },
  "orig_nbformat": 4
 },
 "nbformat": 4,
 "nbformat_minor": 2
}
