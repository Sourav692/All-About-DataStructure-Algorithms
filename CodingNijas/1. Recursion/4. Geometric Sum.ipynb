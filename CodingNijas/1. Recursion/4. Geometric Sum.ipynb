{
 "cells": [
  {
   "cell_type": "markdown",
   "metadata": {},
   "source": [
    "#### 1. Geometric Sum\n",
    "\n",
    "Given k, find the geometric sum i.e.\n",
    "\n",
    "1 + 1/2 + 1/4 + 1/8 + ... + 1/(2^k) "
   ]
  },
  {
   "cell_type": "markdown",
   "metadata": {},
   "source": [
    "Sample Input 1 :\n",
    "\n",
    "3\n",
    "\n",
    "Sample Output 1 :\n",
    "\n",
    "1.87500\n",
    "\n",
    "Sample Input 2 :\n",
    "\n",
    "4\n",
    "\n",
    "Sample Output 2 :\n",
    "\n",
    "1.93750"
   ]
  },
  {
   "cell_type": "code",
   "execution_count": 10,
   "metadata": {},
   "outputs": [
    {
     "name": "stdout",
     "output_type": "stream",
     "text": [
      "1.93750\n"
     ]
    }
   ],
   "source": [
    "def geometricSum(n):\n",
    "    sum =0 \n",
    "    for x in range(n,-1,-1):\n",
    "        sum += 1/pow(2,x)\n",
    "    return sum\n",
    "\n",
    "print(format(geometricSum(4),'.5f'))"
   ]
  },
  {
   "cell_type": "code",
   "execution_count": 14,
   "metadata": {},
   "outputs": [
    {
     "name": "stdout",
     "output_type": "stream",
     "text": [
      "1.87500\n"
     ]
    }
   ],
   "source": [
    "## Using Recursion\n",
    "\n",
    "def geometricSumRecursion(n):\n",
    "    \n",
    "    ## Base case\n",
    "    if n == 0:\n",
    "        return 1\n",
    "    \n",
    "    return 1/pow(2,n) + geometricSumRecursion(n-1)\n",
    "\n",
    "print(format(geometricSumRecursion(3),'.5f'))"
   ]
  },
  {
   "cell_type": "markdown",
   "metadata": {},
   "source": [
    "#### 2. Check Palindrome (recursive)\n",
    "\n",
    "\n",
    "Check whether a given String S is a palindrome using recursion. Return true or false.\n",
    "\n",
    "Sample Input 1 :\n",
    "\n",
    "    racecar\n",
    "\n",
    "Sample Output 1:\n",
    "\n",
    "    true\n",
    "\n",
    "Sample Input 2 :\n",
    "\n",
    "    ninja\n",
    "\n",
    "Sample Output 2:\n",
    "    \n",
    "    false"
   ]
  },
  {
   "cell_type": "code",
   "execution_count": 16,
   "metadata": {},
   "outputs": [
    {
     "name": "stdout",
     "output_type": "stream",
     "text": [
      "true\n"
     ]
    }
   ],
   "source": [
    "def is_palindrome(s):\n",
    "    if len(s) < 1:\n",
    "        return True\n",
    "    else:\n",
    "        if s[0] == s[-1]:\n",
    "            return is_palindrome(s[1:-1])\n",
    "        else:\n",
    "            return False\n",
    "        \n",
    "s = \"racecar\"\n",
    "if is_palindrome(s):\n",
    "    print('true')\n",
    "else:\n",
    "    print('false')"
   ]
  },
  {
   "cell_type": "markdown",
   "metadata": {},
   "source": [
    "#### 3. Sum of digits (recursive)\n",
    "\n",
    "\n",
    "Write a recursive function that returns the sum of the digits of a given integer.\n",
    "\n",
    "Sample Input 1 :\n",
    "\n",
    "    12345\n",
    "\n",
    "Sample Output 1 :\n",
    "\n",
    "    15\n",
    "\n",
    "Sample Input 2 :\n",
    "    \n",
    "    9\n",
    "\n",
    "Sample Output 2 :\n",
    "    \n",
    "    9"
   ]
  },
  {
   "cell_type": "code",
   "execution_count": 17,
   "metadata": {},
   "outputs": [
    {
     "name": "stdout",
     "output_type": "stream",
     "text": [
      "15\n"
     ]
    }
   ],
   "source": [
    "def sumOfDigit(n):\n",
    "    s = \"% s\" % n\n",
    "    if len(s) == 0:\n",
    "        return 0\n",
    "    return int(s[0]) + sumOfDigit(s[1:])\n",
    "\n",
    "n = 12345\n",
    "\n",
    "print(sumOfDigit(n))"
   ]
  },
  {
   "cell_type": "markdown",
   "metadata": {},
   "source": [
    "#### 4. Multiplication (Recursive)\n",
    "\n",
    "Given two integers M & N, calculate and return their multiplication using recursion. You can only use subtraction and addition for your calculation. No other operators are allowed.\n",
    "\n",
    "Sample Input 1 :\n",
    "\n",
    "3 \n",
    "\n",
    "5\n",
    "\n",
    "Sample Output 1 :\n",
    "\n",
    "15\n",
    "\n",
    "Sample Input 2 :\n",
    "\n",
    "4 \n",
    "\n",
    "0\n",
    "\n",
    "Sample Output 2 :\n",
    "\n",
    "0"
   ]
  },
  {
   "cell_type": "code",
   "execution_count": 18,
   "metadata": {},
   "outputs": [
    {
     "name": "stdout",
     "output_type": "stream",
     "text": [
      "0\n",
      "15\n"
     ]
    }
   ],
   "source": [
    "def product(x,y):\n",
    "    \n",
    "       # if x is less than y swap\n",
    "    # the numbers\n",
    "    if x < y:\n",
    "        return product(y, x)\n",
    "     \n",
    "    # iteratively calculate y\n",
    "    # times sum of x\n",
    "    elif y != 0:\n",
    "        return (x + product(x, y - 1))\n",
    "     \n",
    "    # if any of the two numbers is\n",
    "    # zero return zero\n",
    "    else:\n",
    "        return 0\n",
    "    \n",
    "print(product(4,0))\n",
    "print(product(3,5))"
   ]
  },
  {
   "cell_type": "markdown",
   "metadata": {},
   "source": [
    "#### 5. Count Zeros\n",
    "\n",
    "Given an integer N, count and return the number of zeros that are present in the given integer using recursion.\n",
    "\n",
    "Sample Input 1 :\n",
    "\n",
    "0\n",
    "\n",
    "Sample Output 1 :\n",
    "\n",
    "1\n",
    "\n",
    "Sample Input 2 :\n",
    "\n",
    "00010204\n",
    "\n",
    "Sample Output 2 :\n",
    "\n",
    "2\n",
    "\n",
    "Explanation for Sample Output 2 :\n",
    "\n",
    "Even though \"00010204\" has 5 zeros, the output would still be 2 because when you convert it to an integer, it becomes 10204.\n",
    "\n",
    "Sample Input 3 :\n",
    "\n",
    "708000\n",
    "\n",
    "Sample Output 3 :\n",
    "\n",
    "4"
   ]
  },
  {
   "cell_type": "code",
   "execution_count": 19,
   "metadata": {},
   "outputs": [
    {
     "name": "stdout",
     "output_type": "stream",
     "text": [
      "4\n"
     ]
    }
   ],
   "source": [
    "def countZeroes2(s1):\n",
    "    if len(s1) == 0:\n",
    "        return 0\n",
    "    if len(s1) == 1:\n",
    "        if s1[0] == \"0\":\n",
    "            return 1\n",
    "        else:\n",
    "            return 0\n",
    "    if s1[0] == \"0\":\n",
    "        value = countZeroes2(s1[1:])\n",
    "        return 1+int(value)\n",
    "    else:\n",
    "        value = countZeroes2(s1[1:])\n",
    "        return 0+int(value)\n",
    "n=708000\n",
    "s = str(n)\n",
    "print(countZeroes2(s))"
   ]
  },
  {
   "cell_type": "markdown",
   "metadata": {},
   "source": [
    "#### 6. String to Integer\n",
    "\n",
    "Write a recursive function to convert a given string into the number it represents. That is input will be a numeric string that contains only numbers, you need to convert the string into corresponding integer and return the answer.\n",
    "\n",
    "Sample Input 1 :\n",
    "\n",
    "00001231\n",
    "\n",
    "Sample Output 1 :\n",
    "\n",
    "1231\n",
    "\n",
    "Sample Input 2 :\n",
    "\n",
    "12567\n",
    "\n",
    "Sample Output 2 :\n",
    "\n",
    "12567"
   ]
  },
  {
   "cell_type": "code",
   "execution_count": 20,
   "metadata": {},
   "outputs": [
    {
     "name": "stdout",
     "output_type": "stream",
     "text": [
      "1231\n"
     ]
    }
   ],
   "source": [
    "def stringToInteger(s):\n",
    "    countOfZero = 0\n",
    "    for i in range(0,len(s)-1):\n",
    "        if s[i]== \"0\":\n",
    "            countOfZero = countOfZero +1\n",
    "        else:\n",
    "            break\n",
    "    s = s[countOfZero:]\n",
    "    return int(s)\n",
    "\n",
    "str = \"0001231\"\n",
    "print(stringToInteger(str))"
   ]
  },
  {
   "cell_type": "markdown",
   "metadata": {},
   "source": [
    "#### 7. Pair Star\n",
    "\n",
    "Given a string S, compute recursively a new string where identical chars that are adjacent in the original string are separated from each other by a \"*\".\n",
    "\n",
    "Sample Input 1 :\n",
    "\n",
    "    hello\n",
    "\n",
    "Sample Output 1:\n",
    "\n",
    "    hel*lo\n",
    "\n",
    "Sample Input 2 :\n",
    "\n",
    "    aaaa\n",
    "\n",
    "Sample Output 2 :\n",
    "\n",
    "    a*a*a*a"
   ]
  },
  {
   "cell_type": "code",
   "execution_count": null,
   "metadata": {},
   "outputs": [],
   "source": []
  },
  {
   "cell_type": "markdown",
   "metadata": {},
   "source": [
    "#### 8.Check AB\n",
    "\n",
    "\n",
    "Suppose you have a string, S, made up of only 'a's and 'b's. Write a recursive function that checks if the string was generated using the following rules:\n",
    "a. The string begins with an 'a'\n",
    "b. Each 'a' is followed by nothing or an 'a' or \"bb\"\n",
    "c. Each \"bb\" is followed by nothing or an 'a'\n",
    "If all the rules are followed by the given string, return true otherwise return false.\n",
    "\n",
    "Sample Input 1 :\n",
    "\n",
    "    abb\n",
    "\n",
    "Sample Output 1 :\n",
    "    \n",
    "    true\n",
    "\n",
    "Sample Input 2 :\n",
    "    \n",
    "    abababa\n",
    "\n",
    "Sample Output 2 :\n",
    "    \n",
    "    false"
   ]
  },
  {
   "cell_type": "code",
   "execution_count": null,
   "metadata": {},
   "outputs": [],
   "source": []
  },
  {
   "cell_type": "markdown",
   "metadata": {},
   "source": [
    "#### 9. Staircase\n",
    "\n",
    "A child is running up a staircase with N steps, and can hop either 1 step, 2 steps or 3 steps at a time. Implement a method to count how many possible ways the child can run up to the stairs. You need to return number of possible ways W.\n",
    "\n",
    "Sample Input 1 :\n",
    "\n",
    "    4\n",
    "\n",
    "Sample Output 1 :\n",
    "\n",
    "    7\n",
    "\n",
    "Sample Input 2 :\n",
    "    \n",
    "    5\n",
    "\n",
    "Sample Output 2 :\n",
    "    \n",
    "    13"
   ]
  },
  {
   "cell_type": "code",
   "execution_count": null,
   "metadata": {},
   "outputs": [],
   "source": []
  }
 ],
 "metadata": {
  "interpreter": {
   "hash": "0012cd877e37c553ce082c8a53dbb8150686811a71a997c633aba52086b562f8"
  },
  "kernelspec": {
   "display_name": "Python 3.8.12 64-bit ('pyspark3': conda)",
   "language": "python",
   "name": "python3"
  },
  "language_info": {
   "codemirror_mode": {
    "name": "ipython",
    "version": 3
   },
   "file_extension": ".py",
   "mimetype": "text/x-python",
   "name": "python",
   "nbconvert_exporter": "python",
   "pygments_lexer": "ipython3",
   "version": "3.8.12"
  },
  "orig_nbformat": 4
 },
 "nbformat": 4,
 "nbformat_minor": 2
}
