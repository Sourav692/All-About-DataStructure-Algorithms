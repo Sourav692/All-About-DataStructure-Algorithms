{
 "cells": [
  {
   "cell_type": "markdown",
   "metadata": {},
   "source": [
    "### Last Index Of Number Question\n",
    "\n",
    "Given an array of length N and an integer x, you need to find and return the last index of integer x present in the array. Return -1 if it is not present in the array.\n",
    "Last index means - if x is present multiple times in the array, return the index at which x comes last in the array.\n",
    "You should start traversing your array from 0, not from (N - 1).\n",
    "Do this recursively. Indexing in the array starts from 0.\n",
    "\n",
    "Sample Input :\n",
    "\n",
    "    9 8 10 8\n",
    "    8\n",
    "\n",
    "Sample Output :\n",
    "\n",
    "    3"
   ]
  },
  {
   "cell_type": "code",
   "execution_count": 21,
   "metadata": {},
   "outputs": [
    {
     "name": "stdout",
     "output_type": "stream",
     "text": [
      "-1\n"
     ]
    }
   ],
   "source": [
    "# With Brute Force\n",
    "\n",
    "arr = [9,8,10,8,3,5,3,3,2,1]\n",
    "elem = 7\n",
    "lastIndex = len(arr)\n",
    "\n",
    "for i in range(0,len(arr)):\n",
    "    #print((arr[i]))\n",
    "    if arr[i] == elem:\n",
    "        lastIndex = i\n",
    "if lastIndex == len(arr):\n",
    "    print(-1)\n",
    "else:\n",
    "    print(lastIndex)"
   ]
  },
  {
   "cell_type": "code",
   "execution_count": 22,
   "metadata": {},
   "outputs": [
    {
     "name": "stdout",
     "output_type": "stream",
     "text": [
      "7\n"
     ]
    }
   ],
   "source": [
    "## With Recursion\n",
    "\n",
    "def lastIndex(arr,si,x):\n",
    "    l = len(arr)\n",
    "    ## Base Case\n",
    "    if si == l:\n",
    "        return -1\n",
    "    ## Use recursion and check the smaller list start from si+1\n",
    "    smallerListOutput = lastIndex(arr,si+1,x)\n",
    "    \n",
    "    if smallerListOutput != -1:\n",
    "        return smallerListOutput\n",
    "    else:\n",
    "        # if we dont get any value from previous call then check if current call == elem\n",
    "        if arr[si] == x:\n",
    "            return si\n",
    "        else:\n",
    "            return -1\n",
    "        \n",
    "\n",
    "print(lastIndex(arr,0,3))"
   ]
  }
 ],
 "metadata": {
  "interpreter": {
   "hash": "0012cd877e37c553ce082c8a53dbb8150686811a71a997c633aba52086b562f8"
  },
  "kernelspec": {
   "display_name": "Python 3.8.12 64-bit ('pyspark3': conda)",
   "language": "python",
   "name": "python3"
  },
  "language_info": {
   "codemirror_mode": {
    "name": "ipython",
    "version": 3
   },
   "file_extension": ".py",
   "mimetype": "text/x-python",
   "name": "python",
   "nbconvert_exporter": "python",
   "pygments_lexer": "ipython3",
   "version": "3.8.12"
  },
  "orig_nbformat": 4
 },
 "nbformat": 4,
 "nbformat_minor": 2
}
