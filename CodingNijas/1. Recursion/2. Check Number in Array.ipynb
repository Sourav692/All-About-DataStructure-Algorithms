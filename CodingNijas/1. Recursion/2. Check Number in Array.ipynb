{
 "cells": [
  {
   "cell_type": "markdown",
   "metadata": {},
   "source": [
    "### Check Number in Array\n",
    "\n",
    "Given an array of length N and an integer x, you need to find if x is present in the array or not. Return true or false.\n",
    "Do this recursively.\n",
    "\n",
    "Sample Input 1 :\n",
    "\n",
    "    9 8 10\n",
    "    8\n",
    "\n",
    "Sample Output 1 :\n",
    "\n",
    "    true\n",
    "\n",
    "Sample Input 2 :\n",
    "\n",
    "    9 8 10\n",
    "    2\n",
    "\n",
    "Sample Output 2 :\n",
    "\n",
    "    false"
   ]
  },
  {
   "cell_type": "code",
   "execution_count": 3,
   "metadata": {},
   "outputs": [
    {
     "name": "stdout",
     "output_type": "stream",
     "text": [
      "False\n"
     ]
    }
   ],
   "source": [
    "arr = [9,8,10]\n",
    "elem = 7\n",
    "\n",
    "## Brute force way\n",
    "match = False\n",
    "for x in arr:\n",
    "    if x == elem:\n",
    "        match = True\n",
    "if match == False:\n",
    "    print(\"False\")\n",
    "else:\n",
    "    print(\"True\")"
   ]
  },
  {
   "cell_type": "code",
   "execution_count": 6,
   "metadata": {},
   "outputs": [
    {
     "name": "stdout",
     "output_type": "stream",
     "text": [
      "True\n"
     ]
    }
   ],
   "source": [
    "## Recursive way\n",
    "\n",
    "def checkNumber(arr,si, x):\n",
    "    l = len(arr)\n",
    "    \n",
    "    if si == l:\n",
    "        return False\n",
    "    \n",
    "    smallerListOutput = checkNumber(arr,si+1,x)\n",
    "    \n",
    "    if smallerListOutput != False:\n",
    "        return smallerListOutput\n",
    "    else:\n",
    "        if arr[si] == x:\n",
    "            return True\n",
    "        else:\n",
    "            return False\n",
    "\n",
    "arr = [9,8,10]\n",
    "elem = 8            \n",
    "print(checkNumber(arr,0,elem))"
   ]
  },
  {
   "cell_type": "code",
   "execution_count": 9,
   "metadata": {},
   "outputs": [
    {
     "name": "stdout",
     "output_type": "stream",
     "text": [
      "True\n"
     ]
    }
   ],
   "source": [
    "def checkNumber(arr, x):\n",
    "    l = len(arr)\n",
    "    if l == 0:\n",
    "        return False\n",
    "    if x == arr[0]:\n",
    "        return True\n",
    "    if checkNumber(arr[1:], x) == True:\n",
    "        return True\n",
    "    else:\n",
    "        return False\n",
    "    \n",
    "arr = [9,8,10]\n",
    "elem = 8            \n",
    "print(checkNumber(arr,elem))"
   ]
  },
  {
   "cell_type": "code",
   "execution_count": 13,
   "metadata": {},
   "outputs": [
    {
     "name": "stdout",
     "output_type": "stream",
     "text": [
      "[7, 5, 6, 7] 0\n",
      "[8, 7, 5, 6, 7] 1\n",
      "[10, 8, 7, 5, 6, 7] 2\n",
      "[8, 10, 8, 7, 5, 6, 7] 3\n",
      "4\n"
     ]
    }
   ],
   "source": [
    "def firstIndex(arr, x):\n",
    "    # Please add your code here\n",
    "    l = len(arr)\n",
    "    if l == 0:\n",
    "        return -1\n",
    "    elif arr[0] == x:\n",
    "        return 0\n",
    "    rv = firstIndex(arr[1:], x)\n",
    "    print(arr[1:],rv)\n",
    "    if rv <0:\n",
    "        return rv\n",
    "    return rv+1\n",
    " \n",
    "arr = [9,8,10,8,7,5,6,7]    \n",
    "elem = 7 \n",
    "print(firstIndex(arr, elem))"
   ]
  },
  {
   "cell_type": "code",
   "execution_count": null,
   "metadata": {},
   "outputs": [],
   "source": []
  }
 ],
 "metadata": {
  "interpreter": {
   "hash": "0012cd877e37c553ce082c8a53dbb8150686811a71a997c633aba52086b562f8"
  },
  "kernelspec": {
   "display_name": "Python 3.8.12 64-bit ('pyspark3': conda)",
   "language": "python",
   "name": "python3"
  },
  "language_info": {
   "codemirror_mode": {
    "name": "ipython",
    "version": 3
   },
   "file_extension": ".py",
   "mimetype": "text/x-python",
   "name": "python",
   "nbconvert_exporter": "python",
   "pygments_lexer": "ipython3",
   "version": "3.8.12"
  },
  "orig_nbformat": 4
 },
 "nbformat": 4,
 "nbformat_minor": 2
}
