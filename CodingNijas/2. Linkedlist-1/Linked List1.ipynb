{
 "cells": [
  {
   "cell_type": "markdown",
   "metadata": {},
   "source": [
    "### 1. Length of LL\n",
    "\n",
    "For a given singly linked list of integers, find and return its length. Do it using an iterative method.\n",
    "\n",
    "Input format :\n",
    "    \n",
    "    The first line contains an Integer 't' which denotes the number of test cases or queries to be run. Then the test cases follow.\n",
    "\n",
    "First and the only line of each test case or query contains elements of the singly linked list separated by a single space. \n",
    "\n",
    "Remember/Consider :\n",
    "    \n",
    "    While specifying the list elements for input, -1 indicates the end of the singly linked list and hence, would never be a list element."
   ]
  },
  {
   "cell_type": "markdown",
   "metadata": {},
   "source": [
    "Sample Input 1 :\n",
    "\n",
    "    1\n",
    "    3 4 5 2 6 1 9 -1\n",
    "\n",
    "Sample Output 1 :\n",
    "    \n",
    "    7\n",
    "\n",
    "Sample Input 2 :\n",
    "    \n",
    "    2\n",
    "    10 76 39 -3 2 9 -23 9 -1\n",
    "    -1\n",
    "\n",
    "Sample Output 2 :\n",
    "\n",
    "    8\n",
    "    0"
   ]
  },
  {
   "cell_type": "code",
   "execution_count": 47,
   "metadata": {},
   "outputs": [],
   "source": [
    "class Node :\n",
    "    def __init__(self, data) :\n",
    "        self.data = data\n",
    "        self.next = None\n",
    "        \n",
    "\n",
    "def createLinkedList(arr):\n",
    "    head = None\n",
    "    tail = None\n",
    "    \n",
    "    for elem in arr:\n",
    "        if elem != -1:\n",
    "            newNode = Node(elem)            \n",
    "            if head == None:\n",
    "                head = newNode\n",
    "                tail = newNode\n",
    "            else:\n",
    "                tail.next = newNode\n",
    "                tail = newNode\n",
    "    \n",
    "    return head\n",
    "\n",
    "def printLinkedList(head) :\n",
    "    print(\"linkedlist is:\", end = \" \")\n",
    "    while head is not None :\n",
    "        print(head.data, end = \" \")\n",
    "        head = head.next\n",
    "    print()        \n",
    "    \n",
    "def lengthLinkedList(head):\n",
    "    l = 0\n",
    "    if head == None:\n",
    "        return 0\n",
    "    while head is not None and  head.data != -1:\n",
    "        l = l+1\n",
    "        head = head.next\n",
    "    return l               "
   ]
  },
  {
   "cell_type": "code",
   "execution_count": 48,
   "metadata": {},
   "outputs": [
    {
     "name": "stdout",
     "output_type": "stream",
     "text": [
      "linkedlist head is: 3\n",
      "linkedlist is: 3 4 5 2 6 1 9 \n",
      "Legth of linkedlist is: 7\n"
     ]
    }
   ],
   "source": [
    "arr = [3,4,5,2,6,1,9,-1]\n",
    "head = createLinkedList(arr)\n",
    "print(f\"linkedlist head is: {head.data}\")\n",
    "printLinkedList(head)\n",
    "l = lengthLinkedList(head)\n",
    "print(f\"Legth of linkedlist is: {l}\")"
   ]
  },
  {
   "cell_type": "markdown",
   "metadata": {},
   "source": [
    "#### 2. Print ith node\n",
    "Send Feedback\n",
    "For a given a singly linked list of integers and a position 'i', print the node data at the 'i-th' position.\n",
    " Note :\n",
    "Assume that the Indexing for the singly linked list always starts from 0.\n",
    "\n",
    "If the given position 'i',  is greater than the length of the given singly linked list, then don't print anything.\n",
    "Input format :\n",
    "The first line contains an Integer 't' which denotes the number of test cases or queries to be run. Then the test cases follow.\n",
    "\n",
    "The first line of each test case or query contains the elements of the singly linked list separated by a single space.\n",
    "\n",
    "The second line contains the value of 'i'. It denotes the position in the given singly linked list.\n",
    " Remember/Consider :\n",
    "While specifying the list elements for input, -1 indicates the end of the singly linked list and hence, would never be a list element.\n",
    "\n",
    "\n",
    "Sample Input 1 :\n",
    "\n",
    "    1\n",
    "    3 4 5 2 6 1 9 -1\n",
    "    3\n",
    "\n",
    "Sample Output 1 :\n",
    "\n",
    "    2\n",
    "\n",
    "Sample Input 2 :\n",
    "\n",
    "    2\n",
    "    3 4 5 2 6 1 9 -1\n",
    "    0\n",
    "    9 8 4 0 7 8 -1\n",
    "    3\n",
    "\n",
    "Sample Output 2 :\n",
    "\n",
    "    3\n",
    "    0"
   ]
  },
  {
   "cell_type": "code",
   "execution_count": 57,
   "metadata": {},
   "outputs": [
    {
     "name": "stdout",
     "output_type": "stream",
     "text": [
      "None\n"
     ]
    }
   ],
   "source": [
    "def printIthNode(head,i) :\n",
    "    \n",
    "    start = 0\n",
    "    if head == None: ## If Linkedlist is empty\n",
    "        return None\n",
    "    \n",
    "    while head is not None and  head.data != -1: ## Traverse the linkedlist and check the index \n",
    "        #print(head.data)\n",
    "        if start == i:\n",
    "            return head.data\n",
    "        head = head.next\n",
    "        start = start+1\n",
    "\n",
    "arr = [3,4,5,2,6,1,9,-1]\n",
    "head = createLinkedList(arr)        \n",
    "print(printIthNode(head,8))"
   ]
  },
  {
   "cell_type": "code",
   "execution_count": 58,
   "metadata": {},
   "outputs": [
    {
     "name": "stdout",
     "output_type": "stream",
     "text": [
      "None\n"
     ]
    }
   ],
   "source": [
    "arr1 = [-1]\n",
    "head1 = createLinkedList(arr1)        \n",
    "print(printIthNode(head1,3))"
   ]
  },
  {
   "cell_type": "markdown",
   "metadata": {},
   "source": [
    "### 3. Delete node\n",
    "\n",
    "You have been given a linked list of integers. Your task is to write a function that deletes a node from a given position, 'POS'.\n",
    "Note :\n",
    "\n",
    "    Assume that the Indexing for the linked list always starts from 0.\n",
    "    If the position is greater than or equal to the length of the linked list, you should return the same linked list without any change."
   ]
  },
  {
   "cell_type": "markdown",
   "metadata": {},
   "source": [
    "![picture 1](../../images/b52486758a386bc190402f66bae51a01268abd03cda4a802fb21fc6576641c7a.png)  \n"
   ]
  },
  {
   "cell_type": "markdown",
   "metadata": {},
   "source": [
    "![picture 2](../../images/2746ba4d2f878e49b0d2bb740067c366788f35ba8aa59a6a1330283d38b2842b.png)  \n"
   ]
  },
  {
   "cell_type": "code",
   "execution_count": 108,
   "metadata": {},
   "outputs": [],
   "source": [
    "def deleteNode(head, pos) :\n",
    "    if head is None:\n",
    "        return head\n",
    "    \n",
    "    if pos ==0:\n",
    "        return head.next\n",
    "    \n",
    "    count = 0\n",
    "    curr = head\n",
    "    prev = head\n",
    "    \n",
    "    while curr is not None and  curr.data != -1:\n",
    "        #print(f\"Current Data is {curr.next}\")    \n",
    "        if count == pos:\n",
    "            # if curr.next == None: ## For last element\n",
    "            #     prev.next = None\n",
    "            prev.next = curr.next\n",
    "        \n",
    "        prev = curr\n",
    "        curr = curr.next\n",
    "        count = count +1\n",
    "    return head\n",
    "    "
   ]
  },
  {
   "cell_type": "code",
   "execution_count": 115,
   "metadata": {},
   "outputs": [
    {
     "name": "stdout",
     "output_type": "stream",
     "text": [
      "linkedlist is: 3 4 5 2 6 1 9 \n",
      "Legth of linkedlist is: 7\n",
      "linkedlist is: 4 5 2 6 1 9 \n",
      "linkedlist is: 4 5 6 1 9 \n",
      "Legth of linkedlist is: 5\n",
      "linkedlist is: 4 5 6 1 \n",
      "Legth of linkedlist is: 4\n",
      "linkedlist is: 4 5 6 1 \n",
      "Legth of linkedlist is: 4\n"
     ]
    }
   ],
   "source": [
    "arr = [3,4,5,2,6,1,9,-1]\n",
    "head = createLinkedList(arr)  \n",
    "printLinkedList(head)\n",
    "l = lengthLinkedList(head)\n",
    "print(f\"Legth of linkedlist is: {l}\")\n",
    "head = deleteNode(head, 0) ## Remove first element\n",
    "printLinkedList(head)\n",
    "\n",
    "head = deleteNode(head, 2) ## Remove middle element\n",
    "printLinkedList(head)\n",
    "l = lengthLinkedList(head)\n",
    "print(f\"Legth of linkedlist is: {l}\")\n",
    "\n",
    "head = deleteNode(head, 4) ## Remove last element\n",
    "printLinkedList(head)\n",
    "l = lengthLinkedList(head)\n",
    "print(f\"Legth of linkedlist is: {l}\")\n",
    "\n",
    "head = deleteNode(head, 4) ## Remove element equal or more than length of LL\n",
    "printLinkedList(head)\n",
    "l = lengthLinkedList(head)\n",
    "print(f\"Legth of linkedlist is: {l}\")\n"
   ]
  },
  {
   "cell_type": "code",
   "execution_count": 84,
   "metadata": {},
   "outputs": [],
   "source": [
    "## Another Solution\n",
    "\n",
    "def deleteNode(head, pos) :\n",
    "    \n",
    "    if head is None:\n",
    "        return head\n",
    "    \n",
    "    if pos ==0:\n",
    "        return head.next\n",
    "    \n",
    "    count = 0\n",
    "    curr = head\n",
    "    \n",
    "    \n",
    "    \n",
    "    while curr is not None and count < pos-1:\n",
    "        count = count +1\n",
    "        curr = curr.next\n",
    "    if (curr is None) or (curr.next is None):\n",
    "        return head\n",
    "    \n",
    "    if curr.next is not None:\n",
    "        curr.next = curr.next.next\n",
    "    else:\n",
    "        curr.next = None\n",
    "\n",
    "    return head"
   ]
  },
  {
   "cell_type": "markdown",
   "metadata": {},
   "source": [
    "### 4. Length of LL (recursive)"
   ]
  },
  {
   "cell_type": "code",
   "execution_count": 116,
   "metadata": {},
   "outputs": [],
   "source": [
    "def lengthRecursive(head):\n",
    "    # A linked list, find and return the length of input LL recursively.\n",
    "    # Write your code here\n",
    "    if head is None:\n",
    "        return 0\n",
    "    result = lengthRecursive(head.next)\n",
    "    return result+1"
   ]
  },
  {
   "cell_type": "code",
   "execution_count": 117,
   "metadata": {},
   "outputs": [
    {
     "name": "stdout",
     "output_type": "stream",
     "text": [
      "linkedlist is: 3 4 5 2 6 1 9 \n",
      "Legth of linkedlist is: 7\n"
     ]
    }
   ],
   "source": [
    "arr = [3,4,5,2,6,1,9,-1]\n",
    "head = createLinkedList(arr)  \n",
    "printLinkedList(head)\n",
    "l = lengthRecursive(head)\n",
    "print(f\"Legth of linkedlist is: {l}\")"
   ]
  },
  {
   "cell_type": "markdown",
   "metadata": {},
   "source": [
    "### 5. Find a Node in Linked List\n",
    "\n",
    "You have been given a singly linked list of integers. Write a function that returns the index/position of integer data denoted by 'N' (if it exists). Return -1 otherwise.\n",
    "\n",
    "Note :\n",
    "\n",
    "    Assume that the Indexing for the singly linked list always starts from 0."
   ]
  },
  {
   "cell_type": "markdown",
   "metadata": {},
   "source": [
    "Sample Input 1 :\n",
    "\n",
    "    2\n",
    "    3 4 5 2 6 1 9 -1\n",
    "    5\n",
    "    10 20 30 40 50 60 70 -1\n",
    "    6\n",
    "\n",
    "Sample Output 1 :\n",
    "\n",
    "    2\n",
    "    -1\n",
    "\n",
    "Explanation for Sample Output 1:\n",
    "\n",
    "    In test case 1, 'N' = 5 appears at position 2 (0-based indexing) in the given linked list.\n",
    "\n",
    "    In test case 2, we can see that 'N' = 6 is not present in the given linked list.\n",
    "\n",
    "Sample Input 2 :\n",
    "\n",
    "    2\n",
    "    1 -1\n",
    "    2\n",
    "    3 4 5 2 6 1 9 -1\n",
    "    6\n",
    "\n",
    "Sample Output 2 :\n",
    "\n",
    "    -1\n",
    "    4\n",
    "\n",
    "Explanation for Sample Output 2:\n",
    "\n",
    "    In test case 1, we can see that 'N' = 2 is not present in the given linked list.\n",
    "\n",
    "    In test case 2, 'N' = 6 appears at position 4 (0-based indexing) in the given linked list."
   ]
  },
  {
   "cell_type": "code",
   "execution_count": 118,
   "metadata": {},
   "outputs": [],
   "source": [
    "def findNode(head, n) :\n",
    "    # Write your code here.\n",
    "    curr = head\n",
    "    cnt = 0\n",
    "    while curr is not None:\n",
    "        if curr.data == n:\n",
    "            return cnt\n",
    "        cnt = cnt+1\n",
    "        curr = curr.next\n",
    "    return -1"
   ]
  },
  {
   "cell_type": "code",
   "execution_count": 120,
   "metadata": {},
   "outputs": [
    {
     "name": "stdout",
     "output_type": "stream",
     "text": [
      "linkedlist is: 3 4 5 2 6 1 9 \n",
      "Legth of linkedlist is: 7\n",
      "Position of 6 in linkedlis is 4\n"
     ]
    }
   ],
   "source": [
    "arr = [3,4,5,2,6,1,9,-1]\n",
    "head = createLinkedList(arr)  \n",
    "printLinkedList(head)\n",
    "l = lengthRecursive(head)\n",
    "print(f\"Legth of linkedlist is: {l}\")\n",
    "elem = 6\n",
    "print(f\"Position of {elem} in linkedlis is {findNode(head, elem)}\")\n"
   ]
  },
  {
   "cell_type": "markdown",
   "metadata": {},
   "source": [
    "### 6. AppendLastNToFirst\n",
    "\n",
    "You have been given a singly linked list of integers along with an integer 'N'. Write a function to append the last 'N' nodes towards the front of the singly linked list and returns the new head to the list.\n",
    "Input format :\n",
    "\n",
    "    The first line contains an Integer 't' which denotes the number of test cases or queries to be run. Then the test cases follow.\n",
    "\n",
    "    The first line of each test case or query contains the elements of the singly linked list separated by a single space. \n",
    "\n",
    "    The second line contains the integer value 'N'. It denotes the number of nodes to be moved from last to the front of the singly linked list.\n",
    "\n",
    "Sample Input 1 :\n",
    "\n",
    "    2\n",
    "    1 2 3 4 5 -1\n",
    "    3\n",
    "    10 20 30 40 50 60 -1\n",
    "    5\n",
    "\n",
    "Sample Output 1 :\n",
    "\n",
    "    3 4 5 1 2\n",
    "    20 30 40 50 60 10\n",
    "\n",
    "Sample Input 2 :\n",
    "    \n",
    "    1\n",
    "    10 6 77 90 61 67 100  -1\n",
    "    4\n",
    "\n",
    "Sample Output 2 :\n",
    "    \n",
    "    90 61 67 100 10 6 77 \n"
   ]
  },
  {
   "cell_type": "code",
   "execution_count": 121,
   "metadata": {},
   "outputs": [],
   "source": [
    "def appendLastNToFirst(head,n) :\n",
    "    if n == 0:\n",
    "        return head\n",
    "    \n",
    "    if head is None:\n",
    "        return None\n",
    "    \n",
    "    pos = lengthRecursive(head) - n\n",
    "    curr = head\n",
    "    prev = head\n",
    "    \n",
    "    for i in range(1,pos):\n",
    "        curr = curr.next\n",
    "    \n",
    "    last = curr\n",
    "    temp = curr.next\n",
    "    head = temp\n",
    "    \n",
    "    while curr.next is not None:\n",
    "        curr = curr.next\n",
    "    curr.next = prev\n",
    "    last.next = None\n",
    "    \n",
    "    print(head.data)\n",
    "    return head\n",
    "    #Your code goes here"
   ]
  },
  {
   "cell_type": "code",
   "execution_count": 122,
   "metadata": {},
   "outputs": [
    {
     "name": "stdout",
     "output_type": "stream",
     "text": [
      "linkedlist is: 3 4 5 2 6 1 9 \n"
     ]
    }
   ],
   "source": [
    "arr = [3,4,5,2,6,1,9,-1]\n",
    "head = createLinkedList(arr)  \n",
    "printLinkedList(head)"
   ]
  },
  {
   "cell_type": "code",
   "execution_count": 123,
   "metadata": {},
   "outputs": [
    {
     "name": "stdout",
     "output_type": "stream",
     "text": [
      "6\n",
      "linkedlist is: 6 1 9 3 4 5 2 \n"
     ]
    }
   ],
   "source": [
    "head1 = appendLastNToFirst(head,3)\n",
    "printLinkedList(head1)"
   ]
  },
  {
   "cell_type": "markdown",
   "metadata": {},
   "source": [
    "#### 7. Eliminate duplicates from LL\n",
    "\n",
    "\n",
    "    You have been given a singly linked list of integers where the elements are sorted in ascending order. Write a function that removes the consecutive duplicate values such that the given list only contains unique elements and returns the head to the updated list.\n",
    " Input format :\n",
    "\n",
    "    The first line contains an Integer 't' which denotes the number of test cases or queries to be run. Then the test cases follow.\n",
    "\n",
    "    The first and the only line of each test case or query contains the elements(in ascending order) of the singly linked list separated by a single space."
   ]
  },
  {
   "cell_type": "markdown",
   "metadata": {},
   "source": [
    "Sample Input 1 :\n",
    "\n",
    "    1   \n",
    "    1 2 3 3 3 3 4 4 4 5 5 7 -1\n",
    "\n",
    "Sample Output 1 :\n",
    "\n",
    "    1 2 3 4 5 7 "
   ]
  },
  {
   "cell_type": "code",
   "execution_count": 156,
   "metadata": {},
   "outputs": [],
   "source": [
    "def removeDuplicates(head) :\n",
    "    if head is None or head.next is None:\n",
    "        return head\n",
    "    prev = head\n",
    "    curr = head\n",
    "    \n",
    "    while curr is not None:\n",
    "        if prev.data == curr.data and curr != head:\n",
    "            print(f\"If Statement Run with prev data is {prev.data} and current data is {curr.data}\")           \n",
    "            prev.next = curr.next\n",
    "            curr = curr.next\n",
    "        else:\n",
    "            print(f\"Else Statement Run with prev data is {prev.data} and current data is {curr.data}\")   \n",
    "            prev = curr\n",
    "            curr = curr.next            \n",
    "    return head"
   ]
  },
  {
   "cell_type": "code",
   "execution_count": 157,
   "metadata": {},
   "outputs": [
    {
     "name": "stdout",
     "output_type": "stream",
     "text": [
      "linkedlist is: 1 2 3 3 3 \n",
      "Else Statement Run with prev data is 1 and current data is 1\n",
      "Else Statement Run with prev data is 1 and current data is 2\n",
      "Else Statement Run with prev data is 2 and current data is 3\n",
      "If Statement Run with prev data is 3 and current data is 3\n",
      "If Statement Run with prev data is 3 and current data is 3\n",
      "linkedlist is: 1 2 3 \n"
     ]
    }
   ],
   "source": [
    "arr = [1,2,3,3,3,-1]\n",
    "head = createLinkedList(arr)  \n",
    "printLinkedList(head)\n",
    "head1 = removeDuplicates(head)\n",
    "printLinkedList(head1)"
   ]
  },
  {
   "cell_type": "markdown",
   "metadata": {},
   "source": [
    "### Reverse Linked List"
   ]
  },
  {
   "cell_type": "code",
   "execution_count": 158,
   "metadata": {},
   "outputs": [],
   "source": [
    "def printReverse(head) :\n",
    "    if head is None:\n",
    "        return None\n",
    "    prev = None\n",
    "    current = head\n",
    "    while current is not None:\n",
    "        next = current.next\n",
    "        current.next = prev\n",
    "        prev = current\n",
    "        current = next\n",
    "    head = prev\n",
    "    return head"
   ]
  },
  {
   "cell_type": "code",
   "execution_count": 163,
   "metadata": {},
   "outputs": [
    {
     "name": "stdout",
     "output_type": "stream",
     "text": [
      "linkedlist is: 1 2 3 3 3 \n",
      "linkedlist is: 3 3 3 2 1 \n"
     ]
    }
   ],
   "source": [
    "arr = [1,2,3,3,3,-1]\n",
    "head = createLinkedList(arr)  \n",
    "printLinkedList(head)\n",
    "head1 = printReverse(head)\n",
    "printLinkedList(head1)"
   ]
  },
  {
   "cell_type": "markdown",
   "metadata": {},
   "source": [
    "### Palindrome LinkedList\n"
   ]
  },
  {
   "cell_type": "code",
   "execution_count": 160,
   "metadata": {},
   "outputs": [],
   "source": [
    "def printll(head):\n",
    "  list = []\n",
    "  while head is not None:\n",
    "    list.append(head.data)\n",
    "    head = head.next\n",
    "  return list\n",
    "  \n",
    "def reverseLL(head):\n",
    "  list = []\n",
    "  while head is not None:\n",
    "    list.insert(0, head.data) \n",
    "    head = head.next\n",
    "  return list\n",
    "\n",
    "\n",
    "def isPalindrome(head):\n",
    "  \n",
    "  if printll(head)  == reverseLL(head):\n",
    "    return True\n",
    "  else:\n",
    "    return False "
   ]
  },
  {
   "cell_type": "code",
   "execution_count": 164,
   "metadata": {},
   "outputs": [
    {
     "name": "stdout",
     "output_type": "stream",
     "text": [
      "linkedlist is: 1 2 3 2 1 \n",
      "linkedList is Palindrome\n"
     ]
    }
   ],
   "source": [
    "arr = [1,2,3,2,1,-1]\n",
    "head = createLinkedList(arr)  \n",
    "printLinkedList(head)\n",
    "if isPalindrome(head):\n",
    "    print(\"linkedList is Palindrome\")\n",
    "else:\n",
    "    print(\"linkedList is not Palindrome\")"
   ]
  },
  {
   "cell_type": "code",
   "execution_count": null,
   "metadata": {},
   "outputs": [],
   "source": []
  }
 ],
 "metadata": {
  "interpreter": {
   "hash": "0012cd877e37c553ce082c8a53dbb8150686811a71a997c633aba52086b562f8"
  },
  "kernelspec": {
   "display_name": "Python 3.8.12 64-bit ('pyspark3': conda)",
   "language": "python",
   "name": "python3"
  },
  "language_info": {
   "codemirror_mode": {
    "name": "ipython",
    "version": 3
   },
   "file_extension": ".py",
   "mimetype": "text/x-python",
   "name": "python",
   "nbconvert_exporter": "python",
   "pygments_lexer": "ipython3",
   "version": "3.8.12"
  },
  "orig_nbformat": 4
 },
 "nbformat": 4,
 "nbformat_minor": 2
}
