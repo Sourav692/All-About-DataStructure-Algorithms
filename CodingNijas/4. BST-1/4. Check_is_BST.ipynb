{
 "cells": [
  {
   "cell_type": "markdown",
   "metadata": {},
   "source": [
    "Steps:\n",
    "\n",
    "    1. Select Max Element from Left Subtree.\n",
    "    2. Select min element from Right Subtree.\n",
    "    3. Check whether root is  <= step 1 element\n",
    "    4. Check whether root is  > step 2 element\n",
    "    5. Do in recursion way"
   ]
  },
  {
   "cell_type": "code",
   "execution_count": 3,
   "metadata": {},
   "outputs": [],
   "source": [
    "import queue\n",
    "class BinaryTreeNode:\n",
    "    def __init__(self, data):\n",
    "        self.data = data\n",
    "        self.left = None\n",
    "        self.right = None"
   ]
  },
  {
   "cell_type": "code",
   "execution_count": 8,
   "metadata": {},
   "outputs": [],
   "source": [
    "def minTree(root):\n",
    "    if root == None:\n",
    "        return 1000000\n",
    "    leftMin = minTree(root.left)\n",
    "    rightMin = minTree(root.right)\n",
    "    return min(leftMin, rightMin, root.data)\n",
    "\n",
    "def maxTree(root):\n",
    "    if root == None:\n",
    "        return - 1000000\n",
    "    leftMax = maxTree(root.left)\n",
    "    rightMax = maxTree(root.right)\n",
    "    return max(leftMax, rightMax, root.data)\n",
    "\n",
    "## T(n) = 2T(n/2)+O(n) if balanced tree = nlog(n)\n",
    "##  T(n-1)+O(n) for skewed Tree = O(n^2)\n",
    "\n",
    "def isBST(root): \n",
    "    if root == None:\n",
    "        return True\n",
    "    leftMax = maxTree(root.left)\n",
    "    rightMin = minTree(root.right)\n",
    "    if root.data > rightMin or root.data <= leftMax:  ## If this succeed then root is fine. So we have to check left and right subtree\n",
    "        return False\n",
    "\n",
    "    isLeftBST = isBST(root.left)  ## Check left subtree is BST\n",
    "    isRightBST = isBST(root.right) ## Check Right subtree is BST\n",
    "\n",
    "    return isLeftBST and isRightBST\n",
    "\n",
    "## Improved Solution than isBST()\n",
    "def isBST2(root):\n",
    "    if root == None:\n",
    "        return 1000000, -1000000, True\n",
    "    leftMin, leftMax, isLeftBST = isBST2(root.left)\n",
    "    rightMin, rightMax, isRightBST = isBST2(root.right)\n",
    "    \n",
    "    minimum = min(leftMin, rightMin, root.data)\n",
    "    maximum = max(leftMax, rightMax, root.data)\n",
    "    \n",
    "    isTreeBST = True\n",
    "    \n",
    "    if root.data <= leftMax or root.data > rightMin:\n",
    "        isTreeBST = False\n",
    "    if not(isLeftBST) or not(isRightBST):\n",
    "        isTreeBST = False\n",
    "        \n",
    "    return minimum, maximum, isTreeBST\n",
    "    \n",
    "## Another Solution for isBST()\n",
    "def isBST3(root, min_range, max_range):\n",
    "    if root == None:\n",
    "        return True\n",
    "    if root.data < min_range or root.data > max_range:\n",
    "        return False\n",
    "    \n",
    "    isLeftWithinConstraints = isBST3(root.left, min_range, root.data -1)\n",
    "    isRightWithinConstraints = isBST3(root.right, root.data, max_range)\n",
    "    \n",
    "    return isLeftWithinConstraints and isRightWithinConstraints\n",
    "\n",
    "def printTreeDetailed(root):\n",
    "    if root == None:\n",
    "        return\n",
    "    print(root.data, end = \":\")\n",
    "\n",
    "    if root.left is not None:\n",
    "        print(root.left.data, end = \",\")\n",
    "\n",
    "    if root.right is not None:\n",
    "        print(root.right.data, end = \" \")\n",
    "\n",
    "    print()\n",
    "    printTreeDetailed(root.left)\n",
    "    printTreeDetailed(root.right)\n",
    "    \n",
    "def takeLevelWiseTreeInput():\n",
    "    q = queue.Queue()\n",
    "    print(\"Enter root\")\n",
    "    rootData = int(input())\n",
    "    if rootData == -1:\n",
    "        return None\n",
    "    root = BinaryTreeNode(rootData)\n",
    "    q.put(root)\n",
    "    \n",
    "    while (not(q.empty())):\n",
    "        current_node = q.get()\n",
    "        \n",
    "        print(\"Enter left child of \", current_node.data)\n",
    "        leftChildData = int(input())\n",
    "        if leftChildData != -1:\n",
    "            leftChild = BinaryTreeNode(leftChildData)\n",
    "            current_node.left = leftChild\n",
    "            q.put(leftChild)\n",
    "            \n",
    "        print(\"Enter right child of \", current_node.data)\n",
    "        rightChildData = int(input())\n",
    "        if rightChildData != -1:\n",
    "            rightChild = BinaryTreeNode(rightChildData)\n",
    "            current_node.right = rightChild\n",
    "            q.put(rightChild)\n",
    "            \n",
    "    return root\n"
   ]
  },
  {
   "cell_type": "code",
   "execution_count": 9,
   "metadata": {},
   "outputs": [
    {
     "name": "stdout",
     "output_type": "stream",
     "text": [
      "Enter root\n",
      "Enter left child of  4\n",
      "Enter right child of  4\n",
      "Enter left child of  2\n",
      "Enter right child of  2\n",
      "Enter left child of  6\n",
      "Enter right child of  6\n",
      "Enter left child of  1\n",
      "Enter right child of  1\n",
      "Enter left child of  3\n",
      "Enter right child of  3\n",
      "Enter left child of  5\n",
      "Enter right child of  5\n",
      "Enter left child of  7\n",
      "Enter right child of  7\n",
      "4:2,6 \n",
      "2:1,3 \n",
      "1:\n",
      "3:\n",
      "6:5,7 \n",
      "5:\n",
      "7:\n"
     ]
    },
    {
     "data": {
      "text/plain": [
       "True"
      ]
     },
     "execution_count": 9,
     "metadata": {},
     "output_type": "execute_result"
    }
   ],
   "source": [
    "root = takeLevelWiseTreeInput()\n",
    "printTreeDetailed(root)\n",
    "isBST3(root, -10000, 10000)\n",
    "\n"
   ]
  },
  {
   "cell_type": "code",
   "execution_count": null,
   "metadata": {},
   "outputs": [],
   "source": []
  }
 ],
 "metadata": {
  "interpreter": {
   "hash": "0012cd877e37c553ce082c8a53dbb8150686811a71a997c633aba52086b562f8"
  },
  "kernelspec": {
   "display_name": "Python 3.8.12 64-bit ('pyspark3': conda)",
   "name": "python3"
  },
  "language_info": {
   "codemirror_mode": {
    "name": "ipython",
    "version": 3
   },
   "file_extension": ".py",
   "mimetype": "text/x-python",
   "name": "python",
   "nbconvert_exporter": "python",
   "pygments_lexer": "ipython3",
   "version": "3.8.12"
  },
  "orig_nbformat": 4
 },
 "nbformat": 4,
 "nbformat_minor": 2
}
