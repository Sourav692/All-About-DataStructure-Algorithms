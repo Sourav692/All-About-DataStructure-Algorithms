{
 "cells": [
  {
   "cell_type": "markdown",
   "metadata": {},
   "source": [
    "https://leetcode.com/problems/find-first-and-last-position-of-element-in-sorted-array/"
   ]
  },
  {
   "cell_type": "code",
   "execution_count": 17,
   "metadata": {},
   "outputs": [],
   "source": [
    "class Solution:\n",
    "    def searchRange(self, nums: List[int], target: int) -> List[int]:\n",
    "        left = 0\n",
    "        right = len(nums)-1\n",
    "        out = []\n",
    "        \n",
    "        if len(nums) == 1:\n",
    "            if nums[0] == target:\n",
    "                return [0,0]\n",
    "            else:\n",
    "                return [-1,-1]\n",
    "\n",
    "        dict1 = {\"left\":-1,\"right\":-1}\n",
    "        out = []\n",
    "        while left <= right:\n",
    "            print(nums[left])\n",
    "            print(nums[right])\n",
    "                       \n",
    "                       \n",
    "            if nums[left] == target:\n",
    "                if dict1[\"left\"] == -1:\n",
    "                    dict1[\"left\"] = left\n",
    "                else:\n",
    "                    pass\n",
    "                \n",
    "                #out.insert(0,left)\n",
    "            if nums[right] == target:\n",
    "                if dict1[\"right\"] == -1:\n",
    "                    dict1[\"right\"] = right\n",
    "                else:\n",
    "                    pass\n",
    "                \n",
    "                out.insert(-1,right)\n",
    "            if dict1[\"left\"] == -1:\n",
    "                left += 1\n",
    "            if dict1[\"right\"] == -1:\n",
    "                right -= 1\n",
    "            if dict1[\"left\"] != -1 and dict1[\"right\"] != -1:\n",
    "                break\n",
    "            \n",
    "            \n",
    "            print(dict1)\n",
    "        out = [dict1[\"left\"],dict1[\"right\"]]\n",
    "        #print(dict1)\n",
    "        if len(out) == 1:\n",
    "            return [out[0],out[0]]\n",
    "        elif len(out) <1:\n",
    "            return [-1,-1]\n",
    "        else:\n",
    "            return out"
   ]
  },
  {
   "cell_type": "code",
   "execution_count": 18,
   "metadata": {},
   "outputs": [
    {
     "data": {
      "text/plain": [
       "[3, 4]"
      ]
     },
     "execution_count": 18,
     "metadata": {},
     "output_type": "execute_result"
    }
   ],
   "source": [
    "nums = [5,7,7,8,8,10]\n",
    "target =8 \n",
    "searchRange(nums,target)"
   ]
  },
  {
   "cell_type": "code",
   "execution_count": null,
   "metadata": {},
   "outputs": [],
   "source": []
  }
 ],
 "metadata": {
  "interpreter": {
   "hash": "0012cd877e37c553ce082c8a53dbb8150686811a71a997c633aba52086b562f8"
  },
  "kernelspec": {
   "display_name": "Python 3.8.12 64-bit ('pyspark3': conda)",
   "language": "python",
   "name": "python3"
  },
  "language_info": {
   "codemirror_mode": {
    "name": "ipython",
    "version": 3
   },
   "file_extension": ".py",
   "mimetype": "text/x-python",
   "name": "python",
   "nbconvert_exporter": "python",
   "pygments_lexer": "ipython3",
   "version": "3.8.12"
  },
  "orig_nbformat": 4
 },
 "nbformat": 4,
 "nbformat_minor": 2
}
