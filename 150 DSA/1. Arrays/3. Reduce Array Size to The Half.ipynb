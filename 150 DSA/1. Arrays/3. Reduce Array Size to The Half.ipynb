{
 "cells": [
  {
   "cell_type": "markdown",
   "metadata": {},
   "source": [
    "https://leetcode.com/problems/reduce-array-size-to-the-half/"
   ]
  },
  {
   "cell_type": "code",
   "execution_count": 19,
   "metadata": {},
   "outputs": [
    {
     "name": "stdout",
     "output_type": "stream",
     "text": [
      "dict is {9: 2, 77: 1, 63: 1, 22: 1, 92: 1, 14: 1, 54: 1, 8: 1, 38: 2, 18: 1, 19: 2, 68: 1, 58: 1}\n",
      "lis1 is [2, 2, 2, 1, 1, 1, 1, 1, 1, 1, 1, 1, 1]\n",
      "half length is 8\n",
      "6\n",
      "4\n",
      "2\n",
      "1\n",
      "0\n"
     ]
    },
    {
     "data": {
      "text/plain": [
       "5"
      ]
     },
     "execution_count": 19,
     "metadata": {},
     "output_type": "execute_result"
    }
   ],
   "source": [
    "arr = [9,77,63,22,92,9,14,54,8,38,18,19,38,68,58,19]\n",
    "\n",
    "dict1= {}\n",
    "for elem in arr:\n",
    "    if elem in dict1:\n",
    "         dict1[elem] += 1\n",
    "    else:\n",
    "        dict1[elem] = 1\n",
    "lis1 = sorted(list(dict1.values()),reverse=True)\n",
    "\n",
    "print(f\"dict is {dict1}\")\n",
    "print(f\"lis1 is {lis1}\")\n",
    "l = len(arr)//2\n",
    "print(f\"half length is {l}\")\n",
    "counter = 0\n",
    "for elem in lis1:\n",
    "    \n",
    "    l = l-elem\n",
    "    counter += 1\n",
    "    print(l)\n",
    "    if l > 0:\n",
    "        pass\n",
    "    else:\n",
    "        break\n",
    "         \n",
    "\n",
    "counter"
   ]
  },
  {
   "cell_type": "code",
   "execution_count": 18,
   "metadata": {},
   "outputs": [
    {
     "data": {
      "text/plain": [
       "[2, 2, 2, 1, 1, 1, 1, 1, 1, 1, 1, 1, 1]"
      ]
     },
     "execution_count": 18,
     "metadata": {},
     "output_type": "execute_result"
    }
   ],
   "source": [
    "lis1 = sorted(list(dict1.values()),reverse=True)\n",
    "lis1"
   ]
  },
  {
   "cell_type": "code",
   "execution_count": null,
   "metadata": {},
   "outputs": [],
   "source": []
  }
 ],
 "metadata": {
  "interpreter": {
   "hash": "0012cd877e37c553ce082c8a53dbb8150686811a71a997c633aba52086b562f8"
  },
  "kernelspec": {
   "display_name": "Python 3.8.12 64-bit ('pyspark3': conda)",
   "language": "python",
   "name": "python3"
  },
  "language_info": {
   "codemirror_mode": {
    "name": "ipython",
    "version": 3
   },
   "file_extension": ".py",
   "mimetype": "text/x-python",
   "name": "python",
   "nbconvert_exporter": "python",
   "pygments_lexer": "ipython3",
   "version": "3.8.12"
  },
  "orig_nbformat": 4
 },
 "nbformat": 4,
 "nbformat_minor": 2
}
