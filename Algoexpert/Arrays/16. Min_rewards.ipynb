{
 "cells": [
  {
   "cell_type": "code",
   "execution_count": 1,
   "metadata": {},
   "outputs": [],
   "source": [
    "# ​O(n) time | O(n) space - where in is the length of the input array\n",
    "def minRewards(scores):\n",
    "    rewards = [1 for _ in scores]\n",
    "    for i in range(1, len(scores)):\n",
    "        if scores[i] > scores[i - 1]:\n",
    "            rewards[i] = rewards[i - 1] + 1\n",
    "    for i in reversed((range(len(scores) - 1))):\n",
    "        if scores[i] > scores[i + 1]:\n",
    "            rewards[i] = max(rewards[i], rewards[i + 1] + 1)\n",
    "    return sum(rewards)"
   ]
  },
  {
   "cell_type": "code",
   "execution_count": null,
   "metadata": {},
   "outputs": [],
   "source": []
  }
 ],
 "metadata": {
  "interpreter": {
   "hash": "74dcca682c4bb73a7086b3d8cb4937c2e0bbd447a381e2455c88503a2a3742a7"
  },
  "kernelspec": {
   "display_name": "Python 3.8.12 ('pyspark3')",
   "language": "python",
   "name": "python3"
  },
  "language_info": {
   "codemirror_mode": {
    "name": "ipython",
    "version": 3
   },
   "file_extension": ".py",
   "mimetype": "text/x-python",
   "name": "python",
   "nbconvert_exporter": "python",
   "pygments_lexer": "ipython3",
   "version": "3.8.12"
  },
  "orig_nbformat": 4
 },
 "nbformat": 4,
 "nbformat_minor": 2
}
