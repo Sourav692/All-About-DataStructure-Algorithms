{
 "cells": [
  {
   "cell_type": "code",
   "execution_count": 1,
   "metadata": {},
   "outputs": [],
   "source": [
    "def longestPeak(array):\n",
    "\tlongestPeakLength = 0\n",
    "\ti = 1\n",
    "\twhile i < len(array) - 1:\n",
    "\t\tisPeak = array[i - 1] < array[i] and array[i] > array[i + 1]\n",
    "\t\tif not isPeak:\n",
    "\t\t\ti += 1\n",
    "\t\t\tcontinue\n",
    "\n",
    "\t\tleftIdx = i - 2\n",
    "\t\twhile leftIdx >= 0 and array[leftIdx] < array[leftIdx + 1]:\n",
    "\t\t\tleftIdx -= 1\n",
    "\t\trightIdx = i + 2\n",
    "\t\twhile rightIdx < len(array) and array[rightIdx] < array[rightIdx - 1]:\n",
    "\t\t\trightIdx += 1\n",
    "\t\tcurrentPeakLength = rightIdx - leftIdx - 1\n",
    "\t\tlongestPeakLength = max(longestPeakLength, currentPeakLength)\n",
    "\t\ti = rightIdx\n",
    "\treturn longestPeakLength"
   ]
  },
  {
   "cell_type": "code",
   "execution_count": null,
   "metadata": {},
   "outputs": [],
   "source": []
  }
 ],
 "metadata": {
  "interpreter": {
   "hash": "74dcca682c4bb73a7086b3d8cb4937c2e0bbd447a381e2455c88503a2a3742a7"
  },
  "kernelspec": {
   "display_name": "Python 3.8.12 ('pyspark3')",
   "language": "python",
   "name": "python3"
  },
  "language_info": {
   "codemirror_mode": {
    "name": "ipython",
    "version": 3
   },
   "file_extension": ".py",
   "mimetype": "text/x-python",
   "name": "python",
   "nbconvert_exporter": "python",
   "pygments_lexer": "ipython3",
   "version": "3.8.12"
  },
  "orig_nbformat": 4
 },
 "nbformat": 4,
 "nbformat_minor": 2
}
