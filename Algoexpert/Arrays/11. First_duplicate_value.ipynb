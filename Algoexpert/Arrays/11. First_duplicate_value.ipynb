{
 "cells": [
  {
   "cell_type": "code",
   "execution_count": 1,
   "metadata": {},
   "outputs": [],
   "source": [
    "# O(n^2) time | O(1) space - where n is the length of the input array\n",
    "\n",
    "def firstDuplicateValue(array):\n",
    "    minimumSecondIndex = len(array)\n",
    "    for i in range(len(array)):\n",
    "        value = array[i]\n",
    "        for j in range(i + 1, len(array)):\n",
    "            valueToCompare = array[j]\n",
    "            if value == valueToCompare:\n",
    "                minimumSecondIndex = min(minimumSecondIndex, j)\n",
    "    if minimumSecondIndex == len(array):\n",
    "        return -1\n",
    "    return array[minimumSecondIndex]"
   ]
  },
  {
   "cell_type": "code",
   "execution_count": 2,
   "metadata": {},
   "outputs": [],
   "source": [
    "# Copyright © 2022 AlgoExpert LLC. All rights reserved.\n",
    "# O(n) time | O(n) space - where n is the length of the input array\n",
    "def firstDuplicateValue(array):\n",
    "    seen = set()\n",
    "    for value in array:\n",
    "        if value in seen:\n",
    "            return value\n",
    "        seen.add(value)\n",
    "    return -1"
   ]
  },
  {
   "cell_type": "code",
   "execution_count": 3,
   "metadata": {},
   "outputs": [],
   "source": [
    "# Copyright © 2022 AlgoExpert LLC. All rights reserved.\n",
    "# O(n) time | O(1) space - where n is the length of the input array\n",
    "def firstDuplicateValue(array):\n",
    "    for value in array:\n",
    "        absValue = abs(value)\n",
    "        if array[absValue - 1] < 0:\n",
    "            return absValue\n",
    "        array[absValue - 1] *= -1\n",
    "    return -1"
   ]
  },
  {
   "cell_type": "code",
   "execution_count": null,
   "metadata": {},
   "outputs": [],
   "source": []
  }
 ],
 "metadata": {
  "interpreter": {
   "hash": "74dcca682c4bb73a7086b3d8cb4937c2e0bbd447a381e2455c88503a2a3742a7"
  },
  "kernelspec": {
   "display_name": "Python 3.8.12 ('pyspark3')",
   "language": "python",
   "name": "python3"
  },
  "language_info": {
   "codemirror_mode": {
    "name": "ipython",
    "version": 3
   },
   "file_extension": ".py",
   "mimetype": "text/x-python",
   "name": "python",
   "nbconvert_exporter": "python",
   "pygments_lexer": "ipython3",
   "version": "3.8.12"
  },
  "orig_nbformat": 4
 },
 "nbformat": 4,
 "nbformat_minor": 2
}
