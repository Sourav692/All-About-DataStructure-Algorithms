{
 "cells": [
  {
   "cell_type": "markdown",
   "metadata": {},
   "source": [
    "Write a function that takes in a non-empty array of distinct integers\n",
    "and an integer representing a target sum. The function should find all\n",
    "triplets in the array that sum up to the target sum and return a twodimensional array of all these triplets. The numbers in each triplet\n",
    "should be ordered in ascending order, and the triplets themselves\n",
    "should be ordered in ascending order with respect to the numbers\n",
    "they hold.\n",
    "If no three numbers sum up to the target sum, the function should\n",
    "return an empty array.\n"
   ]
  },
  {
   "cell_type": "markdown",
   "metadata": {},
   "source": [
    "Sample Input\n",
    "\n",
    "    array = [12, 3, 1, 2, -6, 5, -8, 6]\n",
    "    targetSum = 0\n",
    "Output:\n",
    "\n",
    "    [[-8, 2, 6], [-8, 3, 5], [-6, 1, 5]]"
   ]
  },
  {
   "cell_type": "code",
   "execution_count": 3,
   "metadata": {},
   "outputs": [
    {
     "data": {
      "text/plain": [
       "[[-8, 2, 6], [-8, 3, 5], [-6, 1, 5]]"
      ]
     },
     "execution_count": 3,
     "metadata": {},
     "output_type": "execute_result"
    }
   ],
   "source": [
    "## Time = o(n^2)\n",
    "## Space = o(n)\n",
    "\n",
    "def threeNumberSum(array,targetSum):\n",
    "    array.sort()\n",
    "    \n",
    "    triplets = []\n",
    "    \n",
    "    for i in range(0,len(array)-2):\n",
    "        current = i\n",
    "        left = i+1\n",
    "        right = len(array)-1\n",
    "        while left < right:\n",
    "            currentSum = array[current] + array[left] + array[right]\n",
    "            \n",
    "            if currentSum == targetSum:\n",
    "                triplets.append([array[current],array[left],array[right]])\n",
    "                left = left +1\n",
    "                right = right -1\n",
    "            elif currentSum < targetSum:\n",
    "                left = left +1\n",
    "            else:\n",
    "                right = right -1\n",
    "    return triplets\n",
    "\n",
    "array = [12, 3, 1, 2, -6, 5, -8, 6]\n",
    "targetSum = 0\n",
    "threeNumberSum(array,targetSum)           "
   ]
  },
  {
   "cell_type": "code",
   "execution_count": null,
   "metadata": {},
   "outputs": [],
   "source": []
  }
 ],
 "metadata": {
  "interpreter": {
   "hash": "0012cd877e37c553ce082c8a53dbb8150686811a71a997c633aba52086b562f8"
  },
  "kernelspec": {
   "display_name": "Python 3.8.12 64-bit ('pyspark3': conda)",
   "language": "python",
   "name": "python3"
  },
  "language_info": {
   "codemirror_mode": {
    "name": "ipython",
    "version": 3
   },
   "file_extension": ".py",
   "mimetype": "text/x-python",
   "name": "python",
   "nbconvert_exporter": "python",
   "pygments_lexer": "ipython3",
   "version": "3.8.8"
  },
  "orig_nbformat": 4
 },
 "nbformat": 4,
 "nbformat_minor": 2
}
