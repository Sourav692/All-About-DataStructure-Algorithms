{
 "cells": [
  {
   "cell_type": "markdown",
   "metadata": {},
   "source": [
    "Two Number Sum\n",
    "\n",
    "    Write a function that takes in a non-empty array of distinct integers\n",
    "    and an integer representing a target sum. If any two numbers in the\n",
    "    input array sum up to the target sum, the function should return\n",
    "    them in an array, in any order. If no two numbers sum up to the\n",
    "    target sum, the function should return an empty array.\n",
    "    Note that the target sum has to be obtained by summing two\n",
    "    different integers in the array; you can't add a single integer to itself\n",
    "    in order to obtain the target sum.\n",
    "    You can assume that there will be at most one pair of numbers\n"
   ]
  },
  {
   "cell_type": "markdown",
   "metadata": {},
   "source": [
    "Sample Input:\n",
    "\n",
    "array = [3,5,-4,8,11,1,-1,6]\n",
    "\n",
    "targetSum = 10\n",
    "\n",
    "Sample Output:\n",
    "\n",
    "[-1,11]"
   ]
  },
  {
   "cell_type": "markdown",
   "metadata": {},
   "source": [
    "Video Explaination:\n",
    "\n",
    "D:\\1. Study Materials\\Algoexpert\\2. 150 Interview Problems\\1. Arrays"
   ]
  },
  {
   "cell_type": "markdown",
   "metadata": {},
   "source": [
    "There are 4 solution for this problem:\n",
    "\n",
    "    1. Using 2 loops (T(n) = O(n2),S(n) = O(1))\n",
    "    2. Using Hashmap ((T(n) = O(n),S(n) = O(n)))\n",
    "    3. Using Boundary Check Pattern (2 pointer) ((T(n) = O(nlogn),S(n) = O(1)))\n",
    "    4. Using List Comprehension"
   ]
  },
  {
   "cell_type": "code",
   "execution_count": 2,
   "metadata": {},
   "outputs": [],
   "source": [
    "array = [3,5,-4,8,11,1,-1,6]\n",
    "targetSum = 10\n",
    "\n",
    "# for i in range(len(array)-1):\n",
    "#     print(array[i])"
   ]
  },
  {
   "cell_type": "code",
   "execution_count": 38,
   "metadata": {},
   "outputs": [
    {
     "name": "stdout",
     "output_type": "stream",
     "text": [
      "[11, -1]\n"
     ]
    }
   ],
   "source": [
    "## Solution 1\n",
    "def twoNumberSum1(array,targetSum):\n",
    "    for i in range(len(array)-1):   ## As it is outer loop so range is len -1 iso length\n",
    "        for j in range(i+1,len(array)):\n",
    "            if array[i] + array[j] == targetSum:\n",
    "                return ([array[i],array[j]])\n",
    "    return []\n",
    "        \n",
    " \n",
    "result =  twoNumberSum1(array,10)       \n",
    "print(result)      "
   ]
  },
  {
   "cell_type": "code",
   "execution_count": 39,
   "metadata": {},
   "outputs": [
    {
     "data": {
      "text/plain": [
       "[11, -1]"
      ]
     },
     "execution_count": 39,
     "metadata": {},
     "output_type": "execute_result"
    }
   ],
   "source": [
    "## Solution 2\n",
    "\n",
    "def twoNumberSum2(array,targetSum):\n",
    "    lookup = {}\n",
    "    for elem in array:\n",
    "        potentialMatch = targetSum-elem\n",
    "        if potentialMatch in lookup and potentialMatch != elem:\n",
    "            return[potentialMatch,elem]\n",
    "        else:\n",
    "            lookup[elem] = True\n",
    "    \n",
    "    return []\n",
    "\n",
    "twoNumberSum2(array,10)  "
   ]
  },
  {
   "cell_type": "code",
   "execution_count": 5,
   "metadata": {},
   "outputs": [
    {
     "data": {
      "text/plain": [
       "[-1, 11]"
      ]
     },
     "execution_count": 5,
     "metadata": {},
     "output_type": "execute_result"
    }
   ],
   "source": [
    "## Solution 3\n",
    "\n",
    "def twoNumberSum3(array,targetSum):\n",
    "    array.sort() ## it take O(logn)\n",
    "    \n",
    "    left = 0\n",
    "    right = len(array)-1\n",
    "    \n",
    "    while left <= right:\n",
    "        currentSum = array[left] + array[right]\n",
    "        \n",
    "        if currentSum == targetSum:\n",
    "            return [array[left],array[right]]\n",
    "        elif currentSum < targetSum:\n",
    "            left = left+1   \n",
    "        else:\n",
    "            right = right-1\n",
    "    \n",
    "    return []\n",
    "\n",
    "twoNumberSum3(array,10)"
   ]
  },
  {
   "cell_type": "code",
   "execution_count": 41,
   "metadata": {},
   "outputs": [
    {
     "data": {
      "text/plain": [
       "[11, -1]"
      ]
     },
     "execution_count": 41,
     "metadata": {},
     "output_type": "execute_result"
    }
   ],
   "source": [
    "## Solution 4\n",
    "\n",
    "def twoNumberSum4(array,targetSum):\n",
    "    \n",
    "    array1 = [(targetSum-elem) for elem in array if (targetSum-elem) != elem]\n",
    "    result = list(set(array).intersection(array1))\n",
    "    \n",
    "    return result\n",
    "\n",
    "twoNumberSum4(array,10)"
   ]
  },
  {
   "cell_type": "code",
   "execution_count": null,
   "metadata": {},
   "outputs": [],
   "source": []
  }
 ],
 "metadata": {
  "interpreter": {
   "hash": "0012cd877e37c553ce082c8a53dbb8150686811a71a997c633aba52086b562f8"
  },
  "kernelspec": {
   "display_name": "Python 3.8.12 64-bit ('pyspark3': conda)",
   "language": "python",
   "name": "python3"
  },
  "language_info": {
   "codemirror_mode": {
    "name": "ipython",
    "version": 3
   },
   "file_extension": ".py",
   "mimetype": "text/x-python",
   "name": "python",
   "nbconvert_exporter": "python",
   "pygments_lexer": "ipython3",
   "version": "3.8.12"
  },
  "orig_nbformat": 4
 },
 "nbformat": 4,
 "nbformat_minor": 2
}
