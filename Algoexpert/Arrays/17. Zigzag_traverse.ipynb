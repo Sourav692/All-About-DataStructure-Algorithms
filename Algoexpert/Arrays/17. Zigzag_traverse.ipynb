{
 "cells": [
  {
   "cell_type": "code",
   "execution_count": 1,
   "metadata": {},
   "outputs": [],
   "source": [
    "# ​O(n) time | O(n) space - where n is the total number of elements in the two-dimensional array\n",
    "def zigzagTraverse(array):\n",
    "    height = len(array) - 1\n",
    "    width = len(array[0]) - 1\n",
    "    result = []\n",
    "    row, col = 0, 0\n",
    "    goingDown = True\n",
    "    while not isOutOfBounds(row, col, height, width):\n",
    "        result.append(array[row][col])\n",
    "        if goingDown:\n",
    "            if col == 0 or row == height:\n",
    "                goingDown = False\n",
    "                if row == height:\n",
    "                    col += 1\n",
    "                else:\n",
    "                    row += 1\n",
    "            else:\n",
    "                row += 1\n",
    "                col -= 1\n",
    "        else:\n",
    "            if row == 0 or col == width:\n",
    "                goingDown = True\n",
    "                if col == width:\n",
    "                    row += 1\n",
    "                else:\n",
    "                    col += 1\n",
    "            else:\n",
    "                row -= 1\n",
    "                col += 1\n",
    "    return result\n",
    "\n",
    "\n",
    "def isOutOfBounds(row, col, height, width):\n",
    "    return row < 0 or row > height or col < 0 or col > width"
   ]
  },
  {
   "cell_type": "code",
   "execution_count": null,
   "metadata": {},
   "outputs": [],
   "source": []
  }
 ],
 "metadata": {
  "interpreter": {
   "hash": "74dcca682c4bb73a7086b3d8cb4937c2e0bbd447a381e2455c88503a2a3742a7"
  },
  "kernelspec": {
   "display_name": "Python 3.8.12 ('pyspark3')",
   "language": "python",
   "name": "python3"
  },
  "language_info": {
   "codemirror_mode": {
    "name": "ipython",
    "version": 3
   },
   "file_extension": ".py",
   "mimetype": "text/x-python",
   "name": "python",
   "nbconvert_exporter": "python",
   "pygments_lexer": "ipython3",
   "version": "3.8.12"
  },
  "orig_nbformat": 4
 },
 "nbformat": 4,
 "nbformat_minor": 2
}
