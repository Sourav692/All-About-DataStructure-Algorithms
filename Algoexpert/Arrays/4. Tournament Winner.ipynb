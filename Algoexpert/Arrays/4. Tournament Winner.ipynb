{
 "cells": [
  {
   "cell_type": "markdown",
   "metadata": {},
   "source": [
    "Tournament Winner\n",
    "\n",
    "    There's an algorithms tournament taking place in which teams of\n",
    "    programmers compete against each other to solve algorithmic\n",
    "    problems as fast as possible. Teams compete in a round robin, where\n",
    "    each team faces off against all other teams. Only two teams compete\n",
    "    against each other at a time, and for each competition, one team is\n",
    "    designated the home team, while the other team is the away team. In\n",
    "    each competition there's always one winner and one loser; there are\n",
    "    no ties. A team receives 3 points if it wins and 0 points if it loses. The\n",
    "    winner of the tournament is the team that receives the most amount\n",
    "    of points.\n",
    "\n",
    "    Given an array of pairs representing the teams that have competed\n",
    "    against each other and an array containing the results of each\n",
    "    competition, write a function that returns the winner of the\n",
    "    tournament. The input arrays are named competitions and\n",
    "    results , respectively. The competitions array has elements in\n",
    "    the form of [homeTeam, awayTeam] , where each team is a string\n",
    "    of at most 30 characters representing the name of the team. The\n",
    "    results array contains information about the winner of each\n",
    "    corresponding competition in the competitions array. Specifically,\n",
    "    results[i] denotes the winner of competitions[i] , where a\n",
    "    1 in the results array means that the home team in the\n",
    "    corresponding competition won and a 0 means that the away team won.\n",
    "\n",
    "    It's guaranteed that exactly one team will win the tournament and\n",
    "    that each team will compete against all other teams exactly once. It's\n",
    "    also guaranteed that the tournament will always have at least two\n",
    "    teams."
   ]
  },
  {
   "cell_type": "markdown",
   "metadata": {},
   "source": [
    "![picture 1](../../../images/ba323e9bfac5ed4205c23fa31705e75681b93bb9478eb3b441cdb76f739cde63.jpg)\n",
    "\n"
   ]
  },
  {
   "cell_type": "code",
   "execution_count": 11,
   "metadata": {},
   "outputs": [
    {
     "data": {
      "text/plain": [
       "'Python'"
      ]
     },
     "execution_count": 11,
     "metadata": {},
     "output_type": "execute_result"
    }
   ],
   "source": [
    "def tournamentWinner(competitions,results):\n",
    "    lookup = {}\n",
    "    for i in range(len(competitions)):\n",
    "        if results[i] == 0:\n",
    "            wonTeam = competitions[i][1]\n",
    "        else:\n",
    "            wonTeam = competitions[i][0]\n",
    "        \n",
    "        if wonTeam in lookup:\n",
    "            lookup[wonTeam] = lookup[wonTeam]+3\n",
    "        else:\n",
    "            lookup[wonTeam] = 3\n",
    "        \n",
    "    Winner = max(lookup, key= lambda x: lookup[x])\n",
    "\n",
    "    return Winner\n",
    "\n",
    "competitions = [[\"HTML\",\"C#\"],[\"C#\",\"Python\"],[\"Python\",\"HTML\"]]\n",
    "results = [0,0,1]\n",
    "\n",
    "tournamentWinner(competitions,results)\n"
   ]
  },
  {
   "cell_type": "code",
   "execution_count": 12,
   "metadata": {},
   "outputs": [],
   "source": [
    "# Solution 2 - More Optimal Solution\n",
    "# o(n) time and o(k) Space where n is the number of compitions and k is the number of teams\n",
    "\n"
   ]
  },
  {
   "cell_type": "code",
   "execution_count": null,
   "metadata": {},
   "outputs": [],
   "source": []
  }
 ],
 "metadata": {
  "interpreter": {
   "hash": "0012cd877e37c553ce082c8a53dbb8150686811a71a997c633aba52086b562f8"
  },
  "kernelspec": {
   "display_name": "Python 3.8.12 64-bit ('pyspark3': conda)",
   "language": "python",
   "name": "python3"
  },
  "language_info": {
   "codemirror_mode": {
    "name": "ipython",
    "version": 3
   },
   "file_extension": ".py",
   "mimetype": "text/x-python",
   "name": "python",
   "nbconvert_exporter": "python",
   "pygments_lexer": "ipython3",
   "version": "3.8.12"
  },
  "orig_nbformat": 4
 },
 "nbformat": 4,
 "nbformat_minor": 2
}
