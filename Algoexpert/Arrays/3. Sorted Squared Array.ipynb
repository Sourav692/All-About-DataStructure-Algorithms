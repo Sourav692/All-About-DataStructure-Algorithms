{
 "cells": [
  {
   "cell_type": "markdown",
   "metadata": {},
   "source": [
    "Write a function that takes in a non-empty array of integers that are\n",
    "sorted in ascending order and returns a new array of the same length\n",
    "with the squares of the original integers also sorted in ascending\n",
    "orde"
   ]
  },
  {
   "cell_type": "markdown",
   "metadata": {},
   "source": [
    "Sample Input\n",
    "\n",
    "    array = [1, 2, 3, 5, 6, 8, 9]\n",
    "\n",
    "Sample Output\n",
    "\n",
    "    [1, 4, 9, 25, 36, 64, 81]"
   ]
  },
  {
   "cell_type": "markdown",
   "metadata": {},
   "source": [
    "Hint:\n",
    "\n",
    "    1. While the integers in the input array are sorted in increasing order, their squares won't necessarily be as well, because of the possible presence of negative numbers.\n",
    "    2. Traverse the array value by value, square each value, and insert the squares into an output array. Then, sort the output array before returning it. Is this the optimal solution?\n",
    "    3. Use two pointer and compare the abs value and position them as per their value.\n"
   ]
  },
  {
   "cell_type": "markdown",
   "metadata": {},
   "source": [
    "Solutions:\n",
    "\n",
    "    1. Using Brute force(Olog(n))\n",
    "    2. Using Two Pointer(O(n))"
   ]
  },
  {
   "cell_type": "code",
   "execution_count": 22,
   "metadata": {},
   "outputs": [
    {
     "name": "stdout",
     "output_type": "stream",
     "text": [
      "For this iteration left and right value is -7 9 \n",
      "For this iteration left and right value is -7 8 \n",
      "For this iteration left and right value is -7 6 \n",
      "For this iteration left and right value is -5 6 \n",
      "For this iteration left and right value is -5 3 \n",
      "For this iteration left and right value is -4 3 \n",
      "For this iteration left and right value is 3 3 \n"
     ]
    },
    {
     "data": {
      "text/plain": [
       "[9, 16, 25, 36, 49, 64, 81]"
      ]
     },
     "execution_count": 22,
     "metadata": {},
     "output_type": "execute_result"
    }
   ],
   "source": [
    "## Solution 2 (Optimal Solution)(O(n))\n",
    "\n",
    "def sortedSquaredArray(array):\n",
    "    \n",
    "    outputArray = [0 for _ in array]\n",
    "    left = 0\n",
    "    right = len(array)-1\n",
    "    indx = len(array)-1\n",
    "\n",
    "    while left <= right and indx >= 0:\n",
    "        print(f\"For this iteration left and right value is {array[left]} {array[right]} \")\n",
    "        if abs(array[left]) < abs(array[right]):\n",
    "            outputArray[indx] = array[right] * array[right]\n",
    "            right = right -1\n",
    "        elif abs(array[left]) > abs(array[right]):\n",
    "            outputArray[indx] = array[left] * array[left]\n",
    "            left = left +1\n",
    "        else:\n",
    "            outputArray[indx] = array[left] * array[left]\n",
    "            left = left +1\n",
    "        indx = indx -1\n",
    "        \n",
    "    return outputArray\n",
    "\n",
    "array = [-7,-5,-4,3,6,8,9]\n",
    "\n",
    "sortedSquaredArray(array)\n",
    "        "
   ]
  },
  {
   "cell_type": "code",
   "execution_count": null,
   "metadata": {},
   "outputs": [],
   "source": []
  }
 ],
 "metadata": {
  "interpreter": {
   "hash": "0012cd877e37c553ce082c8a53dbb8150686811a71a997c633aba52086b562f8"
  },
  "kernelspec": {
   "display_name": "Python 3.8.12 64-bit ('pyspark3': conda)",
   "language": "python",
   "name": "python3"
  },
  "language_info": {
   "codemirror_mode": {
    "name": "ipython",
    "version": 3
   },
   "file_extension": ".py",
   "mimetype": "text/x-python",
   "name": "python",
   "nbconvert_exporter": "python",
   "pygments_lexer": "ipython3",
   "version": "3.8.12"
  },
  "orig_nbformat": 4
 },
 "nbformat": 4,
 "nbformat_minor": 2
}
