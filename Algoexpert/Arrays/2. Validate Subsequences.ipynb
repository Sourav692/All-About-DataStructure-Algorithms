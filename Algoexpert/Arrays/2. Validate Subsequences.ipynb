{
 "cells": [
  {
   "cell_type": "markdown",
   "metadata": {},
   "source": [
    "Given two non-empty arrays of integers, write a function that\n",
    "determines whether the second array is a subsequence of the first\n",
    "one.\n",
    "\n",
    "A subsequence of an array is a set of numbers that aren't necessarily\n",
    "adjacent in the array but that are in the same order as they appear in\n",
    "the array. For instance, the numbers [1, 3, 4] form a\n",
    "subsequence of the array [1, 2, 3, 4] , and so do the numbers\n",
    "[2, 4] . Note that a single number in an array and the array itself\n",
    "are both valid subsequences of the array"
   ]
  },
  {
   "cell_type": "markdown",
   "metadata": {},
   "source": [
    "Input:\n",
    "\n",
    "    array = [5, 1, 22, 25, 6, -1, 8, 10]\n",
    "    sequence = [1, 6, -1, 10]\n",
    "\n",
    "output:\n",
    "\n",
    "    true"
   ]
  },
  {
   "cell_type": "code",
   "execution_count": 7,
   "metadata": {},
   "outputs": [
    {
     "data": {
      "text/plain": [
       "{5: 0, 1: 1, 22: 2, 25: 3, 6: 4, -1: 5, 8: 6, 10: 7}"
      ]
     },
     "execution_count": 7,
     "metadata": {},
     "output_type": "execute_result"
    }
   ],
   "source": [
    "array = [5, 1, 22, 25, 6, -1, 8, 10]   "
   ]
  },
  {
   "cell_type": "code",
   "execution_count": 24,
   "metadata": {},
   "outputs": [
    {
     "name": "stdout",
     "output_type": "stream",
     "text": [
      "0\n",
      "Pass0\n",
      "1\n",
      "Pass1\n",
      "2\n",
      "Pass2\n",
      "valid Subseq\n"
     ]
    }
   ],
   "source": [
    "array = [5, 1, 22, 25, 6, -1, 8, 10]\n",
    "sequence = [1, 6, -1, 8]\n",
    "\n",
    "\n",
    "dict1 = dict(enumerate(array))\n",
    "\n",
    "lookup = {value:key for (key,value) in dict1.items()}\n",
    "\n",
    "flag = False\n",
    "\n",
    "for i in range(len(sequence)-1):\n",
    "    print(i)\n",
    "    # print(sequence[i])\n",
    "    # print(sequence[i+1])\n",
    "    if sequence[i] and sequence[i+1] in lookup: \n",
    "        if lookup[sequence[i]] < lookup[sequence[i+1]]:\n",
    "            print(f\"Pass{i}\")\n",
    "            flag = True\n",
    "        else:\n",
    "            flag = False\n",
    "\n",
    "if flag:\n",
    "    print(\"valid Subseq\")\n",
    "else:\n",
    "    print(\"Invalid Subseq\")\n",
    "           "
   ]
  },
  {
   "cell_type": "code",
   "execution_count": 25,
   "metadata": {},
   "outputs": [
    {
     "name": "stdout",
     "output_type": "stream",
     "text": [
      "True\n"
     ]
    }
   ],
   "source": [
    "seqIdx = 0\n",
    "\n",
    "for value in array:\n",
    "    if seqIdx == len(sequence):\n",
    "        break\n",
    "    if sequence[seqIdx] == value:\n",
    "        seqIdx += 1\n",
    "        \n",
    "print(seqIdx == len(sequence))"
   ]
  },
  {
   "cell_type": "code",
   "execution_count": null,
   "metadata": {},
   "outputs": [],
   "source": []
  }
 ],
 "metadata": {
  "interpreter": {
   "hash": "0012cd877e37c553ce082c8a53dbb8150686811a71a997c633aba52086b562f8"
  },
  "kernelspec": {
   "display_name": "Python 3.8.12 64-bit ('pyspark3': conda)",
   "language": "python",
   "name": "python3"
  },
  "language_info": {
   "codemirror_mode": {
    "name": "ipython",
    "version": 3
   },
   "file_extension": ".py",
   "mimetype": "text/x-python",
   "name": "python",
   "nbconvert_exporter": "python",
   "pygments_lexer": "ipython3",
   "version": "3.8.12"
  },
  "orig_nbformat": 4
 },
 "nbformat": 4,
 "nbformat_minor": 2
}
