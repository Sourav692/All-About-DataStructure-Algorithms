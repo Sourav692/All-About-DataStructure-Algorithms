{
 "cells": [
  {
   "cell_type": "markdown",
   "metadata": {},
   "source": [
    "    Given an array of positive integers representing the values of coins in your possession, write a\n",
    "    function that returns the minimum amount of change (the minimum sum of money) that you\n",
    "    cannot create. The given coins can have any positive integer value and aren't necessarily unique\n",
    "    (i.e., you can have multiple coins of the same value).\n",
    "    For example, if you're given coins = [1, 2, 5] , the minimum amount of change that you\n",
    "    can't create is 4 . If you're given no coins, the minimum amount of change that you can't create is\n",
    "    1 .\n"
   ]
  },
  {
   "cell_type": "markdown",
   "metadata": {},
   "source": [
    "Sample Input\n",
    "   \n",
    "    coins = [5, 7, 1, 1, 2, 3, 22]\n",
    "\n",
    "Sample Output\n",
    "   \n",
    "    20\n"
   ]
  },
  {
   "cell_type": "markdown",
   "metadata": {},
   "source": [
    "Hint 1\n",
    "\n",
    "One approach to solve this problem is to attempt to create every single amount of change,\n",
    "starting at 1 and going up until you eventually can't create an amount. While this approach\n",
    "works, there is a better one.\n",
    "\n",
    "Hint 2\n",
    "\n",
    "Start by sorting the input array. Since you're trying to find the minimum amount of change\n",
    "that you can't create, it makes sense to consider the smallest coins first.\n",
    "\n",
    "Hint 3\n",
    "\n",
    "To understand the trick to this problem, consider the following example:\n",
    "coins = [1, 2, 4] . With this set of coins, we can create 1, 2, 3, 4, 5, 6, 7\n",
    "cents worth of change. Now, if we were to add a coin of value 9 to this set, we would not\n",
    "be able to create 8 cents. However, if we were to add a coin of value 7 , we would be\n",
    "able to create 8 cents, and we would also be able to create all values of change from 1 to\n",
    "15 . Why is this the case?\n",
    "\n",
    "Hint 4\n",
    "\n",
    "Create a variable to store the amount of change that you can currently create up to. Sort all\n",
    "of your coins, and loop through them in ascending order. At every iteration, compare the\n",
    "current coin to the amount of change that you can currently create up to. Here are the two\n",
    "scenarios that you'll encounter:\n",
    "\n",
    "    The coin value is greater than the amount of change that you can currently create plus 1.\n",
    "    The coin value is smaller than or equal to the amount of change that you can currently create plus 1.\n",
    "In the first scenario, you simply return the current amount of change that you can create\n",
    "plus 1, because you can't create that amount of change. In the second scenario, you add the\n",
    "value of the coin to the amount of change that you can currently create up to, and you\n",
    "continue iterating through the coins.\n",
    "The reason for this is that, if you're in the second scenario, you can create all of the values of\n",
    "change that you can currently create plus the value of the coin that you just considered. If\n",
    "you're given coins [1, 2] , then you can make 1, 2, 3 cents. So if you add a coin of\n",
    "value 4 , then you can make 4 + 1 cents, 4 + 2 cents, and 4 + 3 cents. Thus, you\n",
    "can make up to 7 cents.\n",
    "\n",
    "Optimal Space & Time Complexity\n",
    "\n",
    "O(nlogn) time | O(1) space - where n is the number of coins"
   ]
  },
  {
   "cell_type": "code",
   "execution_count": 1,
   "metadata": {},
   "outputs": [],
   "source": [
    "def nonConstructibleChange(coins):\n",
    "    coins.sort()\n",
    "    currentChangeCreated = 0\n",
    "    for coin in coins:\n",
    "        if coin > currentChangeCreated + 1:\n",
    "            return currentChangeCreated + 1\n",
    "        currentChangeCreated += coin\n",
    "    return currentChangeCreated + 1"
   ]
  },
  {
   "cell_type": "code",
   "execution_count": 3,
   "metadata": {},
   "outputs": [
    {
     "data": {
      "text/plain": [
       "19"
      ]
     },
     "execution_count": 3,
     "metadata": {},
     "output_type": "execute_result"
    }
   ],
   "source": [
    "coins = [1,2,3,5,7]\n",
    "nonConstructibleChange(coins)"
   ]
  },
  {
   "cell_type": "code",
   "execution_count": null,
   "metadata": {},
   "outputs": [],
   "source": []
  }
 ],
 "metadata": {
  "interpreter": {
   "hash": "0012cd877e37c553ce082c8a53dbb8150686811a71a997c633aba52086b562f8"
  },
  "kernelspec": {
   "display_name": "Python 3.8.12 ('pyspark3')",
   "language": "python",
   "name": "python3"
  },
  "language_info": {
   "codemirror_mode": {
    "name": "ipython",
    "version": 3
   },
   "file_extension": ".py",
   "mimetype": "text/x-python",
   "name": "python",
   "nbconvert_exporter": "python",
   "pygments_lexer": "ipython3",
   "version": "3.8.12"
  },
  "orig_nbformat": 4
 },
 "nbformat": 4,
 "nbformat_minor": 2
}
