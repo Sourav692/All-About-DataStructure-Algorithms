{
 "cells": [
  {
   "cell_type": "markdown",
   "metadata": {},
   "source": [
    "1. https://leetcode.com/problems/coin-change-2/\n",
    "2. https://www.geeksforgeeks.org/coin-change-dp-7/\n",
    "3. https://www.educative.io/edpresso/coin-change-problem-2-finding-the-number-of-ways-to-make-a-sum\n",
    "4. https://www.educative.io/edpresso/what-is-dynamic-programming\n",
    "5. https://www.techiedelight.com/coin-change-problem-find-total-number-ways-get-denomination-coins/\n",
    "6. https://www.youtube.com/watch?v=Mjy4hd2xgrs\n",
    "7. https://www.youtube.com/watch?v=JyyS9mlMcr4\n",
    "8. https://www.youtube.com/watch?v=yc0LunmJA1A\n",
    "9. "
   ]
  },
  {
   "cell_type": "markdown",
   "metadata": {},
   "source": [
    "![picture 5](../../images/8935ae0ddbb81d4452b5266e2ce4e76f1684560c43e10ff987f2766030b65258.png)  \n"
   ]
  },
  {
   "cell_type": "code",
   "execution_count": 1,
   "metadata": {},
   "outputs": [],
   "source": [
    "# O(nd) time | O(n) space\n",
    "def numberOfWaysToMakeChange(n, denoms):\n",
    "    ways = [0 for amount in range(n + 1)]\n",
    "    ways[0] = 1\n",
    "    for denom in denoms:\n",
    "        for amount in range(1, n + 1):\n",
    "            if denom <= amount:\n",
    "                ways[amount] += ways[amount - denom]\n",
    "    return ways[n]"
   ]
  },
  {
   "cell_type": "code",
   "execution_count": 2,
   "metadata": {},
   "outputs": [
    {
     "data": {
      "text/plain": [
       "2"
      ]
     },
     "execution_count": 2,
     "metadata": {},
     "output_type": "execute_result"
    }
   ],
   "source": [
    "n = 6\n",
    "denoms = [1,5]\n",
    "\n",
    "numberOfWaysToMakeChange(n, denoms)"
   ]
  },
  {
   "cell_type": "code",
   "execution_count": null,
   "metadata": {},
   "outputs": [],
   "source": []
  }
 ],
 "metadata": {
  "interpreter": {
   "hash": "0012cd877e37c553ce082c8a53dbb8150686811a71a997c633aba52086b562f8"
  },
  "kernelspec": {
   "display_name": "Python 3.8.12 64-bit ('pyspark3': conda)",
   "language": "python",
   "name": "python3"
  },
  "language_info": {
   "codemirror_mode": {
    "name": "ipython",
    "version": 3
   },
   "file_extension": ".py",
   "mimetype": "text/x-python",
   "name": "python",
   "nbconvert_exporter": "python",
   "pygments_lexer": "ipython3",
   "version": "3.8.12"
  },
  "orig_nbformat": 4
 },
 "nbformat": 4,
 "nbformat_minor": 2
}
