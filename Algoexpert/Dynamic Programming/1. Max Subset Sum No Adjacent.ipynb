{
 "cells": [
  {
   "cell_type": "markdown",
   "metadata": {},
   "source": [
    "1. https://www.geeksforgeeks.org/maximum-sum-such-that-no-two-elements-are-adjacent/\n",
    "2. https://www.geeksforgeeks.org/maximum-sum-such-that-no-two-elements-are-adjacent-set-2/\n",
    "3. https://www.techiedelight.com/maximum-sum-of-subsequence-with-no-adjacent-elements/\n",
    "4. https://medium.com/@amitrajit_bose/max-sum-of-non-adjacent-elements-a04ebc4f2602"
   ]
  },
  {
   "cell_type": "markdown",
   "metadata": {},
   "source": [
    "![picture 4](../../images/fc716e8c3055c28b43b56e7666790b59e380f6484db6fe2c673ff2de246c6677.png)  \n"
   ]
  },
  {
   "cell_type": "code",
   "execution_count": 1,
   "metadata": {},
   "outputs": [],
   "source": [
    "## Thinking in Recursive way\n",
    "\n",
    "def maxSubsetSumNoAdjacent(array):\n",
    "    # Write your code here.\n",
    "    i = len(array) - 1\n",
    "    return maxSum(array,i)\n",
    "    \n",
    "def maxSum(arr,i):\n",
    "    if i == 0:\n",
    "        return arr[i]\n",
    "    if i == 1:\n",
    "        return max(arr[i],arr[i-1])\n",
    "    else:\n",
    "        return max(maxSum(arr,i-1),arr[i]+maxSum(arr,i-2))\n"
   ]
  },
  {
   "cell_type": "code",
   "execution_count": 2,
   "metadata": {},
   "outputs": [
    {
     "data": {
      "text/plain": [
       "13"
      ]
     },
     "execution_count": 2,
     "metadata": {},
     "output_type": "execute_result"
    }
   ],
   "source": [
    "array = [2,4,6,2,5]\n",
    "\n",
    "maxSubsetSumNoAdjacent(array)"
   ]
  },
  {
   "cell_type": "markdown",
   "metadata": {},
   "source": [
    "The Above mentioned solution can work but it can fail as it depends on recursion. So if for some cases it can go beyond recursion limit and we can get below error.\n",
    "\n",
    "RecursionError: maximum recursion depth exceeded in comparison\n",
    "\n",
    "SO for this we can use Dynamic Programming"
   ]
  },
  {
   "cell_type": "code",
   "execution_count": 3,
   "metadata": {},
   "outputs": [],
   "source": [
    "## T(n) = O(n)/S(n) = O(n)\n",
    "\n",
    "def maxSubsetSumNoAdjacent(array):\n",
    "    # Write your code here.\n",
    "    if not len(array):\n",
    "        return 0\n",
    "    elif len(array) == 1:\n",
    "        return array[0]\n",
    "    ## Declare Dynamic Programming Array\n",
    "    dp = [0 for elem in range(len(array))]\n",
    "    dp[0] = array[0]\n",
    "    dp[1] = max(array[1],array[0])\n",
    "    \n",
    "    for i in range(2,len(array)):\n",
    "        dp[i] = max(dp[i-1],array[i]+dp[i-2])\n",
    "    return dp[-1]"
   ]
  },
  {
   "cell_type": "code",
   "execution_count": 4,
   "metadata": {},
   "outputs": [
    {
     "data": {
      "text/plain": [
       "13"
      ]
     },
     "execution_count": 4,
     "metadata": {},
     "output_type": "execute_result"
    }
   ],
   "source": [
    "maxSubsetSumNoAdjacent(array)"
   ]
  },
  {
   "cell_type": "code",
   "execution_count": 5,
   "metadata": {},
   "outputs": [],
   "source": [
    "# O(n) time | O(1) space\n",
    "def maxSubsetSumNoAdjacent(array):\n",
    "    if not len(array):\n",
    "        return 0\n",
    "    elif len(array) == 1:\n",
    "        return array[0]\n",
    "    second = array[0]\n",
    "    first = max(array[0], array[1])\n",
    "    for i in range(2, len(array)):\n",
    "        current = max(first, second + array[i])\n",
    "        second = first\n",
    "        first = current\n",
    "    return first"
   ]
  },
  {
   "cell_type": "code",
   "execution_count": 6,
   "metadata": {},
   "outputs": [
    {
     "data": {
      "text/plain": [
       "13"
      ]
     },
     "execution_count": 6,
     "metadata": {},
     "output_type": "execute_result"
    }
   ],
   "source": [
    "maxSubsetSumNoAdjacent(array)"
   ]
  }
 ],
 "metadata": {
  "interpreter": {
   "hash": "0012cd877e37c553ce082c8a53dbb8150686811a71a997c633aba52086b562f8"
  },
  "kernelspec": {
   "display_name": "Python 3.8.12 64-bit ('pyspark3': conda)",
   "language": "python",
   "name": "python3"
  },
  "language_info": {
   "codemirror_mode": {
    "name": "ipython",
    "version": 3
   },
   "file_extension": ".py",
   "mimetype": "text/x-python",
   "name": "python",
   "nbconvert_exporter": "python",
   "pygments_lexer": "ipython3",
   "version": "3.8.12"
  },
  "orig_nbformat": 4
 },
 "nbformat": 4,
 "nbformat_minor": 2
}
