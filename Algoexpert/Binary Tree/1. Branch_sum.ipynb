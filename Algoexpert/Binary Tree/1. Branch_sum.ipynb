{
 "cells": [
  {
   "cell_type": "markdown",
   "metadata": {},
   "source": [
    "Write a function that takes in a Binary Tree and returns a list of its branch sums ordered from leftmost branch sum to rightmost branch sum.\n",
    "\n",
    "A branch sum is the sum of all values in a Binary Tree branch. A Binary Tree branch is a path of nodes in a tree that starts at the root node and\n",
    "ends at any leaf node.\n",
    "\n",
    "Each BinaryTree node has an integer value , a left child node, and a right child node. Children nodes can either be BinaryTree\n",
    "nodes themselves or None / null ."
   ]
  },
  {
   "cell_type": "markdown",
   "metadata": {},
   "source": [
    "![picture 1](../../../images/59f2237bf55db07f16f0f42f3b27398fd622adbcc525e5234ef16947f6dc39a3.png)  \n"
   ]
  },
  {
   "cell_type": "markdown",
   "metadata": {},
   "source": [
    "![picture 2](../../../images/cda80d5a9880542a86a7ad536ea51d9f6a0b0da72daee6238ccad669d2c2de5d.png)  \n"
   ]
  },
  {
   "cell_type": "code",
   "execution_count": 1,
   "metadata": {},
   "outputs": [],
   "source": [
    "class BinaryTree:\n",
    "    def __init__(self, value):\n",
    "        self.value = value\n",
    "        self.left = None\n",
    "        self.right = None\n",
    "\n",
    "\n",
    "# O(n) time | O(n) space - where n is the number of nodes in the Binary Tree\n",
    "def branchSums(root):\n",
    "    sums = []\n",
    "    calculateBranchSums(root, 0, sums)\n",
    "    return sums\n",
    "\n",
    "\n",
    "def calculateBranchSums(node, runningSum, sums):\n",
    "    if node is None:\n",
    "        return\n",
    "\n",
    "    newRunningSum = runningSum + node.value\n",
    "    if node.left is None and node.right is None:\n",
    "        sums.append(newRunningSum)\n",
    "        return\n",
    "\n",
    "    calculateBranchSums(node.left, newRunningSum, sums)\n",
    "    calculateBranchSums(node.right, newRunningSum, sums)"
   ]
  },
  {
   "cell_type": "code",
   "execution_count": null,
   "metadata": {},
   "outputs": [],
   "source": []
  },
  {
   "cell_type": "code",
   "execution_count": null,
   "metadata": {},
   "outputs": [],
   "source": []
  }
 ],
 "metadata": {
  "interpreter": {
   "hash": "0012cd877e37c553ce082c8a53dbb8150686811a71a997c633aba52086b562f8"
  },
  "kernelspec": {
   "display_name": "Python 3.8.12 ('pyspark3')",
   "language": "python",
   "name": "python3"
  },
  "language_info": {
   "codemirror_mode": {
    "name": "ipython",
    "version": 3
   },
   "file_extension": ".py",
   "mimetype": "text/x-python",
   "name": "python",
   "nbconvert_exporter": "python",
   "pygments_lexer": "ipython3",
   "version": "3.8.12"
  },
  "orig_nbformat": 4
 },
 "nbformat": 4,
 "nbformat_minor": 2
}
