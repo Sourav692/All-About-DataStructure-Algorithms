{
 "cells": [
  {
   "cell_type": "markdown",
   "metadata": {},
   "source": [
    "### Longest Palindromic Substring\n",
    "\n",
    "    Write a function that, given a string, returns its longest palindromic\n",
    "    substring.\n",
    "    A palindrome is defined as a string that's written the same forward\n",
    "    and backward. Note that single-character strings are palindromes.\n",
    "    You can assume that there will only be one longest palindromic\n",
    "    substring.\n",
    "\n",
    "Sample Input\n",
    "\n",
    "    string = \"abaxyzzyxf\"\n",
    "\n",
    "Sample Output\n",
    "\n",
    "    \"xyzzyx\"\n"
   ]
  },
  {
   "cell_type": "markdown",
   "metadata": {},
   "source": [
    "![picture 2](../../images/79589effb6e62437f16e934812c2077232e9c1d0204fb3bd1b2dfe6853499c82.png)  \n"
   ]
  },
  {
   "cell_type": "code",
   "execution_count": 8,
   "metadata": {},
   "outputs": [],
   "source": [
    "def longestPalindromicSubstring(string):\n",
    "    longest = \"\"\n",
    "    for i in range(len(string)):\n",
    "        for j in range(i,len(string)):\n",
    "            substring = string[i:j+1]\n",
    "            #print(substring)\n",
    "            if len(substring) > len(longest) and isPalindrome(substring):\n",
    "                longest = substring\n",
    "    return longest\n",
    "\n",
    "def isPalindrome(string):\n",
    "    leftIndex = 0\n",
    "    rightIndex = len(string)-1\n",
    "    \n",
    "    while leftIndex < rightIndex:\n",
    "        \n",
    "        if string[leftIndex] != string[rightIndex]:\n",
    "            return False\n",
    "        leftIndex += 1\n",
    "        rightIndex -= 1\n",
    "    return True"
   ]
  },
  {
   "cell_type": "code",
   "execution_count": 9,
   "metadata": {},
   "outputs": [
    {
     "data": {
      "text/plain": [
       "'xyzzyx'"
      ]
     },
     "execution_count": 9,
     "metadata": {},
     "output_type": "execute_result"
    }
   ],
   "source": [
    "longestPalindromicSubstring(\"abaxyzzyxf\")"
   ]
  },
  {
   "cell_type": "code",
   "execution_count": null,
   "metadata": {},
   "outputs": [],
   "source": [
    "# Copyright © 2022 AlgoExpert LLC. All rights reserved.\n",
    "# O(n^2) time | O(n) space\n",
    "def longestPalindromicSubstring(string):\n",
    "    \n",
    "    currentLongest = [0, 1]\n",
    "    for i in range(1, len(string)):\n",
    "        odd = getLongestPalindromeFrom(string, i - 1, i + 1)\n",
    "        even = getLongestPalindromeFrom(string, i - 1, i)\n",
    "        longest = max(odd, even, key=lambda x: x[1] - x[0])\n",
    "        currentLongest = max(longest, currentLongest, key=lambda x: x[1] - x[0])\n",
    "    return string[currentLongest[0] : currentLongest[1]]\n",
    "\n",
    "\n",
    "def getLongestPalindromeFrom(string, leftIdx, rightIdx):\n",
    "    while leftIdx >= 0 and rightIdx < len(string):\n",
    "        if string[leftIdx] != string[rightIdx]:\n",
    "            break\n",
    "        leftIdx -= 1\n",
    "        rightIdx += 1\n",
    "    return [leftIdx + 1, rightIdx]\n"
   ]
  }
 ],
 "metadata": {
  "interpreter": {
   "hash": "0012cd877e37c553ce082c8a53dbb8150686811a71a997c633aba52086b562f8"
  },
  "kernelspec": {
   "display_name": "Python 3.8.12 64-bit ('pyspark3': conda)",
   "language": "python",
   "name": "python3"
  },
  "language_info": {
   "codemirror_mode": {
    "name": "ipython",
    "version": 3
   },
   "file_extension": ".py",
   "mimetype": "text/x-python",
   "name": "python",
   "nbconvert_exporter": "python",
   "pygments_lexer": "ipython3",
   "version": "3.8.12"
  },
  "orig_nbformat": 4
 },
 "nbformat": 4,
 "nbformat_minor": 2
}
