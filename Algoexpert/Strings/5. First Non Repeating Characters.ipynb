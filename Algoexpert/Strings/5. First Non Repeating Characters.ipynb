{
 "cells": [
  {
   "cell_type": "markdown",
   "metadata": {},
   "source": [
    "First Non-Repeating Character\n",
    "\n",
    "    Write a function that takes in a string of lowercase English-alphabet letters and returns the index of the string's first non-repeating character.\n",
    "    The first non-repeating character is the first character in a string that occurs only once.\n",
    "    If the input string doesn't have any non-repeating characters, your function should return -1 .\n",
    "\n",
    "Sample Input\n",
    "    \n",
    "    string = \"abcdcaf\"\n",
    "\n",
    "Sample Output\n",
    "\n",
    "    1 // The first non-repeating character is \"b\" and is found at index 1.\n"
   ]
  },
  {
   "cell_type": "markdown",
   "metadata": {},
   "source": [
    "![picture 1](../../images/8ac0d3eaf5d31a3a414edb525a21fb7d01c8fb06ac3ae45db67abb3772893854.png)  \n"
   ]
  },
  {
   "cell_type": "code",
   "execution_count": 13,
   "metadata": {},
   "outputs": [],
   "source": [
    "def firstNonRepeatingCharacter(string):\n",
    "    # Write your code here.\n",
    "    dict1 = {}\n",
    "    \n",
    "    for elem in string:\n",
    "        if elem in dict1:\n",
    "            dict1[elem] += 1\n",
    "        else:\n",
    "            dict1[elem] = 1\n",
    "    for key,value in dict1.items():\n",
    "        if value ==1:\n",
    "            #return key\n",
    "            return string.index(str(key))\n",
    "    return -1\n",
    "        "
   ]
  },
  {
   "cell_type": "code",
   "execution_count": 15,
   "metadata": {},
   "outputs": [
    {
     "data": {
      "text/plain": [
       "1"
      ]
     },
     "execution_count": 15,
     "metadata": {},
     "output_type": "execute_result"
    }
   ],
   "source": [
    "firstNonRepeatingCharacter(\"abcdcaf\")"
   ]
  },
  {
   "cell_type": "code",
   "execution_count": 22,
   "metadata": {},
   "outputs": [],
   "source": [
    "# O(n^2) time | O(1) space - where n is the length of the i\n",
    "def firstNonRepeatingCharacter(string):\n",
    "    for idx in range(len(string)):\n",
    "        foundDuplicate = False\n",
    "        for idx2 in range(len(string)):\n",
    "            if string[idx] == string[idx2] and idx != idx2:\n",
    "                foundDuplicate = True\n",
    "        if not foundDuplicate:\n",
    "                return idx\n",
    "    return -1\n"
   ]
  },
  {
   "cell_type": "code",
   "execution_count": 20,
   "metadata": {},
   "outputs": [],
   "source": [
    "# Copyright © 2022 AlgoExpert LLC. All rights reserved.\n",
    "# O(n) time | O(1) space - where n is the length of the inp\n",
    "# The constant space is because the input string only has l\n",
    "# English-alphabet letters; thus, our hash table will never\n",
    "# than 26 character frequencies.\n",
    "def firstNonRepeatingCharacter(string):\n",
    "    characterFrequencies = {}\n",
    "    \n",
    "    for character in string:\n",
    "        characterFrequencies[character] = characterFrequencies.get(character,0)+1\n",
    "    for idx in range(len(string)):\n",
    "        character = string[idx]\n",
    "        if characterFrequencies[character] == 1:\n",
    "            return idx\n",
    "    return -1\n"
   ]
  },
  {
   "cell_type": "code",
   "execution_count": 23,
   "metadata": {},
   "outputs": [
    {
     "data": {
      "text/plain": [
       "1"
      ]
     },
     "execution_count": 23,
     "metadata": {},
     "output_type": "execute_result"
    }
   ],
   "source": [
    "firstNonRepeatingCharacter(\"abcdcaf\")"
   ]
  },
  {
   "cell_type": "code",
   "execution_count": null,
   "metadata": {},
   "outputs": [],
   "source": []
  }
 ],
 "metadata": {
  "interpreter": {
   "hash": "0012cd877e37c553ce082c8a53dbb8150686811a71a997c633aba52086b562f8"
  },
  "kernelspec": {
   "display_name": "Python 3.8.12 64-bit ('pyspark3': conda)",
   "language": "python",
   "name": "python3"
  },
  "language_info": {
   "codemirror_mode": {
    "name": "ipython",
    "version": 3
   },
   "file_extension": ".py",
   "mimetype": "text/x-python",
   "name": "python",
   "nbconvert_exporter": "python",
   "pygments_lexer": "ipython3",
   "version": "3.8.12"
  },
  "orig_nbformat": 4
 },
 "nbformat": 4,
 "nbformat_minor": 2
}
