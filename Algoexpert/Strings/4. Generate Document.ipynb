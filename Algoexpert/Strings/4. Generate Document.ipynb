{
 "cells": [
  {
   "cell_type": "markdown",
   "metadata": {},
   "source": [
    "Generate Document\n",
    "\n",
    "    You're given a string of available characters and a string representing\n",
    "    a document that you need to generate. Write a function that\n",
    "    determines if you can generate the document using the available\n",
    "    characters. If you can generate the document, your function should\n",
    "    return true ; otherwise, it should return false .\n",
    "    You're only able to generate the document if the frequency of unique\n",
    "    characters in the characters string is greater than or equal to the\n",
    "    frequency of unique characters in the document string. For example,\n",
    "    if you're given characters = \"abcabc\" and\n",
    "    document = \"aabbccc\" you cannot generate the document\n",
    "    because you're missing one c .\n",
    "    The document that you need to create may contain any characters,\n",
    "    including special characters, capital letters, numbers, and spaces.\n",
    "    Note: you can always generate the empty string ( \"\" ).\n"
   ]
  },
  {
   "cell_type": "markdown",
   "metadata": {},
   "source": [
    "Sample Input\n",
    "\n",
    "    characters = \"Bste!hetsi ogEAxpelrt x \"\n",
    "    document = \"AlgoExpert is the Best!\"\n",
    "\n",
    "Sample Output\n",
    "\n",
    "    true\n"
   ]
  },
  {
   "cell_type": "code",
   "execution_count": 72,
   "metadata": {},
   "outputs": [],
   "source": [
    "def generateDocument(characters, document):\n",
    "    # Write your code here.\n",
    "    if document ==\"\":\n",
    "        return True\n",
    "    char_dict = {}\n",
    "    doc_dict = {}\n",
    "    for elem in characters:\n",
    "        if elem in char_dict:\n",
    "            char_dict[elem] +=1\n",
    "        else:\n",
    "            char_dict[elem] =1\n",
    "            \n",
    "    for elem in document:\n",
    "        if elem in doc_dict:\n",
    "            doc_dict[elem] +=1\n",
    "        else:\n",
    "            doc_dict[elem] =1\n",
    "    #print(char_dict)\n",
    "    #print(doc_dict)\n",
    "    \n",
    "    is_document = False\n",
    "    for key,values in doc_dict.items():\n",
    "        if key in char_dict:\n",
    "            if char_dict[key] >= doc_dict[key]:\n",
    "                #print(f\"for {key} doc value is {doc_dict[key]} and char value is {char_dict[key]}\")\n",
    "                is_document = True\n",
    "            else:\n",
    "                #print(f\"for {key} doc value is {doc_dict[key]} and char value is {char_dict[key]}\")\n",
    "                is_document = False\n",
    "                break\n",
    "        else:\n",
    "            #print(f\"for {key} doc value is {doc_dict[key]} and it is false in char\")\n",
    "            is_document = False\n",
    "            break\n",
    "\n",
    "    return is_document\n",
    "        "
   ]
  },
  {
   "cell_type": "code",
   "execution_count": 73,
   "metadata": {},
   "outputs": [
    {
     "data": {
      "text/plain": [
       "False"
      ]
     },
     "execution_count": 73,
     "metadata": {},
     "output_type": "execute_result"
    }
   ],
   "source": [
    "characters = \"aheaolabbhb\"\n",
    "document = \"hello\"\n",
    "\n",
    "generateDocument(characters, document)"
   ]
  },
  {
   "cell_type": "code",
   "execution_count": 40,
   "metadata": {},
   "outputs": [
    {
     "data": {
      "text/plain": [
       "True"
      ]
     },
     "execution_count": 40,
     "metadata": {},
     "output_type": "execute_result"
    }
   ],
   "source": [
    "characters = \"Bste!hetsi ogEAxpelrt x \"\n",
    "document = \"AlgoExpert is the Best!\"\n",
    "\n",
    "generateDocument(characters, document)"
   ]
  },
  {
   "cell_type": "code",
   "execution_count": 41,
   "metadata": {},
   "outputs": [
    {
     "data": {
      "text/plain": [
       "False"
      ]
     },
     "execution_count": 41,
     "metadata": {},
     "output_type": "execute_result"
    }
   ],
   "source": [
    "characters = \"A\"\n",
    "document = \"a\"\n",
    "\n",
    "generateDocument(characters, document)"
   ]
  },
  {
   "cell_type": "code",
   "execution_count": 77,
   "metadata": {},
   "outputs": [
    {
     "name": "stdout",
     "output_type": "stream",
     "text": [
      "my name is sourav\n"
     ]
    }
   ],
   "source": [
    "s = \"SOURAV\"\n",
    "\n",
    "print(f\"my name is {s.lower()}\")"
   ]
  },
  {
   "cell_type": "code",
   "execution_count": null,
   "metadata": {},
   "outputs": [],
   "source": []
  }
 ],
 "metadata": {
  "interpreter": {
   "hash": "0012cd877e37c553ce082c8a53dbb8150686811a71a997c633aba52086b562f8"
  },
  "kernelspec": {
   "display_name": "Python 3.8.12 64-bit ('pyspark3': conda)",
   "language": "python",
   "name": "python3"
  },
  "language_info": {
   "codemirror_mode": {
    "name": "ipython",
    "version": 3
   },
   "file_extension": ".py",
   "mimetype": "text/x-python",
   "name": "python",
   "nbconvert_exporter": "python",
   "pygments_lexer": "ipython3",
   "version": "3.8.12"
  },
  "orig_nbformat": 4
 },
 "nbformat": 4,
 "nbformat_minor": 2
}
