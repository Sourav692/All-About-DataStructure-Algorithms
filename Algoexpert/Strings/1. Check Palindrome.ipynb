{
 "cells": [
  {
   "cell_type": "markdown",
   "metadata": {},
   "source": [
    "Palindrome Check\n",
    "\n",
    "    Write a function that takes in a non-empty string and that returns a\n",
    "    boolean representing whether the string is a palindrome.\n",
    "    A palindrome is defined as a string that's written the same forward\n",
    "    and backward. Note that single-character strings are palindromes.\n",
    "\n"
   ]
  },
  {
   "cell_type": "markdown",
   "metadata": {},
   "source": [
    "Sample Input\n",
    "    \n",
    "    string = \"abcdcba\"\n",
    "\n",
    "Sample Output\n",
    "\n",
    "    true // it's written the same forward and backward\n"
   ]
  },
  {
   "cell_type": "code",
   "execution_count": 5,
   "metadata": {},
   "outputs": [],
   "source": [
    "# O(n) time | O(1) space\n",
    "\n",
    "def isPalindrome(string):\n",
    "    # Write your code here.\n",
    "    i = 0\n",
    "    j = len(string) -1\n",
    "    is_palindrome = False\n",
    "    while i <=j:\n",
    "        if string[i] == string [j]:\n",
    "            is_palindrome = True\n",
    "        else:\n",
    "            is_palindrome = False\n",
    "            break\n",
    "        i += 1\n",
    "        j -= 1\n",
    "    return is_palindrome "
   ]
  },
  {
   "cell_type": "code",
   "execution_count": 9,
   "metadata": {},
   "outputs": [
    {
     "name": "stdout",
     "output_type": "stream",
     "text": [
      "false\n"
     ]
    }
   ],
   "source": [
    "string = \"abcddba\"\n",
    "\n",
    "isPalindrome(string)"
   ]
  },
  {
   "cell_type": "code",
   "execution_count": 10,
   "metadata": {},
   "outputs": [],
   "source": [
    "# O(n^2) time | O(n) space\n",
    "\n",
    "def isPalindrome(string):\n",
    "    reversedString = \"\"\n",
    "    for i in reversed(range(len(string))):\n",
    "        reversedString += string[i]\n",
    "    return string == reversedString\n"
   ]
  },
  {
   "cell_type": "code",
   "execution_count": 11,
   "metadata": {},
   "outputs": [
    {
     "data": {
      "text/plain": [
       "False"
      ]
     },
     "execution_count": 11,
     "metadata": {},
     "output_type": "execute_result"
    }
   ],
   "source": [
    "string = \"abcddba\"\n",
    "\n",
    "isPalindrome(string)"
   ]
  },
  {
   "cell_type": "code",
   "execution_count": 12,
   "metadata": {},
   "outputs": [],
   "source": [
    "# Using Recursion\n",
    "# O(n) time | O(n) space\n",
    "def isPalindrome(string, i=0):\n",
    "    j = len(string) - 1 - i\n",
    "    return True if i >= j else string[i] == string[j] and isPalindrome(string,i+1)\n"
   ]
  },
  {
   "cell_type": "code",
   "execution_count": null,
   "metadata": {},
   "outputs": [],
   "source": []
  }
 ],
 "metadata": {
  "interpreter": {
   "hash": "0012cd877e37c553ce082c8a53dbb8150686811a71a997c633aba52086b562f8"
  },
  "kernelspec": {
   "display_name": "Python 3.8.12 64-bit ('pyspark3': conda)",
   "language": "python",
   "name": "python3"
  },
  "language_info": {
   "codemirror_mode": {
    "name": "ipython",
    "version": 3
   },
   "file_extension": ".py",
   "mimetype": "text/x-python",
   "name": "python",
   "nbconvert_exporter": "python",
   "pygments_lexer": "ipython3",
   "version": "3.8.12"
  },
  "orig_nbformat": 4
 },
 "nbformat": 4,
 "nbformat_minor": 2
}
