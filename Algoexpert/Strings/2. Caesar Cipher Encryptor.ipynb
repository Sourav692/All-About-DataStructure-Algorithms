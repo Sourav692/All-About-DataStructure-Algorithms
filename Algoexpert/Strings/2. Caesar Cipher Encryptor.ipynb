{
 "cells": [
  {
   "cell_type": "markdown",
   "metadata": {},
   "source": [
    "Caesar Cipher Encryptor\n",
    "\n",
    "    Given a non-empty string of lowercase letters and a non-negative\n",
    "    integer representing a key, write a function that returns a new string\n",
    "    obtained by shifting every letter in the input string by k positions in\n",
    "    the alphabet, where k is the key.\n",
    "    Note that letters should \"wrap\" around the alphabet; in other words,\n",
    "    the letter z shifted by one returns the letter a .\n"
   ]
  },
  {
   "cell_type": "code",
   "execution_count": 48,
   "metadata": {},
   "outputs": [],
   "source": [
    "# O(n) time | O(n) space\n",
    "def caesarCipherEncryptor(string, key):\n",
    "    newLetters = []\n",
    "    newKey = key % 26\n",
    "    for letter in string:\n",
    "        newLetters.append(getNewLetter(letter, newKey))\n",
    "    return \"\".join(newLetters)\n",
    "def getNewLetter(letter, key):\n",
    "    newLetterCode = ord(letter) + key\n",
    "    return chr(newLetterCode) if newLetterCode <= 122 else chr(96+newLetterCode%122)"
   ]
  },
  {
   "cell_type": "code",
   "execution_count": null,
   "metadata": {},
   "outputs": [],
   "source": [
    "# O(n) time | O(n) space\n",
    "def caesarCipherEncryptor(string, key):\n",
    "    newLetters = []\n",
    "    newKey = key % 26\n",
    "    alphabet = list(\"abcdefghijklmnopqrstuvwxyz\")\n",
    "    for letter in string:\n",
    "        newLetters.append(getNewLetter(letter, newKey, alph\n",
    "    return \"\".join(newLetters)\n",
    "def getNewLetter(letter, key, alphabet):\n",
    "    newLetterCode = alphabet.index(letter) + key\n",
    "    return alphabet[newLetterCode % 26]"
   ]
  }
 ],
 "metadata": {
  "interpreter": {
   "hash": "0012cd877e37c553ce082c8a53dbb8150686811a71a997c633aba52086b562f8"
  },
  "kernelspec": {
   "display_name": "Python 3.8.12 64-bit ('pyspark3': conda)",
   "language": "python",
   "name": "python3"
  },
  "language_info": {
   "codemirror_mode": {
    "name": "ipython",
    "version": 3
   },
   "file_extension": ".py",
   "mimetype": "text/x-python",
   "name": "python",
   "nbconvert_exporter": "python",
   "pygments_lexer": "ipython3",
   "version": "3.8.12"
  },
  "orig_nbformat": 4
 },
 "nbformat": 4,
 "nbformat_minor": 2
}
