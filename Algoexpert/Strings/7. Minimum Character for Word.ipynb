{
 "cells": [
  {
   "cell_type": "markdown",
   "metadata": {},
   "source": [
    "![picture 1](../../images/98e0820b8e245e84a04d27e3549e40260d7dc57f2f49bd3d358b41ca01c94dda.png)  \n"
   ]
  },
  {
   "cell_type": "code",
   "execution_count": 47,
   "metadata": {},
   "outputs": [],
   "source": [
    "def minimumCharactersForWords(words):\n",
    "    # Write your code here.\n",
    "    \n",
    "    dict2 = {}\n",
    "    for word in words:\n",
    "        dict1 = {}\n",
    "        for char in word:\n",
    "            if char not in dict1:\n",
    "                dict1[char] = 1\n",
    "            else:\n",
    "                dict1[char] +=1\n",
    "        #print(f\"Before Loop dict1 is {dict1}\")\n",
    "        #print(f\"Before Loop dict2 is {dict2}\")\n",
    "        for k,v in dict1.items():\n",
    "        #print(f\"dict1 key is {k} value is {dict1[k]} dict2 key is {k} value is {dict2[k]}\")\n",
    "            if k in dict2:\n",
    "                if dict1[k] > dict2[k]:\n",
    "                    #print(f\"If condition and dict1 value is {dict1[k]} and dict2 value is {dict2[k]}\")\n",
    "                    dict2[k] = v\n",
    "            else:\n",
    "                #print(\"else condition\")\n",
    "                dict2[k] = v\n",
    "        #print(f\"After Loop dict2 is {dict2}\")\n",
    "    list1 = [(k,v) for k,v in dict2.items()]\n",
    "    list2 = [[elem[0]]*elem[1] for elem in list1]\n",
    "    list3 = [item for sublist in list2 for item in sublist]\n",
    "    return list3"
   ]
  },
  {
   "cell_type": "code",
   "execution_count": 48,
   "metadata": {},
   "outputs": [
    {
     "data": {
      "text/plain": [
       "['t', 't', 'h', 'i', 's', 'a', 'd', 'd', 'e', 'e', 'm', '!']"
      ]
     },
     "execution_count": 48,
     "metadata": {},
     "output_type": "execute_result"
    }
   ],
   "source": [
    "words = [\"this\", \"that\", \"did\", \"deed\", \"them!\", \"a\"]\n",
    "minimumCharactersForWords(words)"
   ]
  },
  {
   "cell_type": "code",
   "execution_count": 49,
   "metadata": {},
   "outputs": [],
   "source": [
    "\n",
    "# Copyright © 2022 AlgoExpert LLC. All rights reserved.\n",
    "# O(n * l) time | O(c) space - where n is the number of words,\n",
    "# l is the length of the longest word, and c is the number of\n",
    "# unique characters across all words\n",
    "# See notes under video explanation for details about the space complexity.\n",
    "\n",
    "def minimumCharactersForWords(words):\n",
    "    maximumCharacterFrequencies = {}\n",
    "    for word in words:\n",
    "        characterFrequencies = countCharacterFrequencies(word)\n",
    "        updateMaximumFrequencies(characterFrequencies, maximumCharacterFrequencies)\n",
    "    return makeArrayFromCharacterFrequencies(maximumCharacterFrequencies)\n",
    "\n",
    "def countCharacterFrequencies(string):\n",
    "\n",
    "    characterFrequencies = {}\n",
    "\n",
    "    for character in string:\n",
    "\n",
    "        if character not in characterFrequencies:\n",
    "\n",
    "            characterFrequencies[character] = 0\n",
    "\n",
    "\n",
    "        characterFrequencies[character] += 1\n",
    "\n",
    "    return characterFrequencies\n",
    "\n",
    "def updateMaximumFrequencies(frequencies, maximumFrequencies):\n",
    "\n",
    "    for character in frequencies:\n",
    "\n",
    "        frequency = frequencies[character]\n",
    "\n",
    "        if character in maximumFrequencies:\n",
    "\n",
    "            maximumFrequencies[character] = max(frequency, maximumFrequencies[character])\n",
    "\n",
    "        else:\n",
    "\n",
    "            maximumFrequencies[character] = frequency\n",
    "\n",
    "\n",
    "def makeArrayFromCharacterFrequencies(characterFrequencies):\n",
    "\n",
    "    characters = []\n",
    "\n",
    "\n",
    "    for character in characterFrequencies:\n",
    "\n",
    "        frequency = characterFrequencies[character]\n",
    "\n",
    "\n",
    "        for _ in range(frequency):\n",
    "\n",
    "            characters.append(character)\n",
    "\n",
    "\n",
    "\n",
    "    return characters\n"
   ]
  },
  {
   "cell_type": "markdown",
   "metadata": {},
   "source": [
    "The space complexity of O(c), where c is the number of unique characters across all words, is actually a lower bound for our solution's space complexity.\n",
    "\n",
    "This is because the maximumCharacterFrequencies hash table will take up O(c) space, but the output array of characters might take up more space if some unique characters appear multiple times in a single word. For example, we might have a hash table {\"a\": 3\"} with one character but an output array [\"a\", \"a\", \"a\"] with three characters.\n",
    "\n",
    "An upper bound for the space complexity is O(n * l), which happens when every single character in each word is unique across all words and the output array therefore contains n * l characters."
   ]
  }
 ],
 "metadata": {
  "interpreter": {
   "hash": "0012cd877e37c553ce082c8a53dbb8150686811a71a997c633aba52086b562f8"
  },
  "kernelspec": {
   "display_name": "Python 3.8.12 64-bit ('pyspark3': conda)",
   "language": "python",
   "name": "python3"
  },
  "language_info": {
   "codemirror_mode": {
    "name": "ipython",
    "version": 3
   },
   "file_extension": ".py",
   "mimetype": "text/x-python",
   "name": "python",
   "nbconvert_exporter": "python",
   "pygments_lexer": "ipython3",
   "version": "3.8.12"
  },
  "orig_nbformat": 4
 },
 "nbformat": 4,
 "nbformat_minor": 2
}
