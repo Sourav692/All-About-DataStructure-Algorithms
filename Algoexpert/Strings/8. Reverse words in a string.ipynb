{
 "cells": [
  {
   "cell_type": "markdown",
   "metadata": {},
   "source": [
    "![picture 2](../../images/04478b6d30e41df15814411434b03b66b5160fc644aec9e6e371b8159145e7ca.png)  \n"
   ]
  },
  {
   "cell_type": "markdown",
   "metadata": {},
   "source": [
    "![picture 3](../../images/9bfc2f41dbfe590e0a324f364e47ffe4209a143f8780bd0b909a2cba2c3be512.png)  \n"
   ]
  },
  {
   "cell_type": "code",
   "execution_count": 1,
   "metadata": {},
   "outputs": [],
   "source": [
    "def reverseWordsInString(string):\n",
    "    characters = [char for char in string]\n",
    "\n",
    "    reverseListRange(characters, 0, len(characters) - 1)\n",
    "    startOfWord = 0\n",
    "    while startOfWord < len(characters):\n",
    "        endOfWord = startOfWord\n",
    "        while endOfWord < len(characters) and characters[endOfWord] != \" \":\n",
    "\n",
    "            endOfWord += 1\n",
    "        reverseListRange(characters, startOfWord, endOfWord - 1)\n",
    "        startOfWord = endOfWord + 1\n",
    "    return \"\".join(characters)\n",
    "\n",
    "def reverseListRange(list, start, end):\n",
    "    while start < end:\n",
    "        list[start], list[end] = list[end], list[start]\n",
    "        start += 1\n",
    "        end -= 1"
   ]
  },
  {
   "cell_type": "code",
   "execution_count": 2,
   "metadata": {},
   "outputs": [
    {
     "data": {
      "text/plain": [
       "'best! the is Algoexpert'"
      ]
     },
     "execution_count": 2,
     "metadata": {},
     "output_type": "execute_result"
    }
   ],
   "source": [
    "reverseWordsInString(\"Algoexpert is the best!\")"
   ]
  },
  {
   "cell_type": "code",
   "execution_count": 3,
   "metadata": {},
   "outputs": [],
   "source": [
    "# Copyright © 2022 AlgoExpert LLC. All rights reserved.\n",
    "\n",
    "# O(n) time | O(n) space - where n is the length of the string\n",
    "def reverseWordsInString(string):\n",
    "    words = []\n",
    "    startOfWord = 0\n",
    "    for idx in range(len(string)):\n",
    "        character = string[idx]\n",
    "\n",
    "        if character == \" \":\n",
    "            words.append(string[startOfWord:idx])\n",
    "            startOfWord = idx\n",
    "        elif string[startOfWord] == \" \":\n",
    "            words.append(\" \")\n",
    "            startOfWord = idx\n",
    "\n",
    "    words.append(string[startOfWord:])\n",
    "\n",
    "    reverseList(words)\n",
    "    return \"\".join(words)\n",
    "\n",
    "\n",
    "def reverseList(list):\n",
    "    start, end = 0, len(list) - 1\n",
    "    while start < end:\n",
    "        list[start], list[end] = list[end], list[start]\n",
    "        start += 1\n",
    "        end -= 1\n"
   ]
  },
  {
   "cell_type": "code",
   "execution_count": 4,
   "metadata": {},
   "outputs": [
    {
     "data": {
      "text/plain": [
       "'best! the is Algoexpert'"
      ]
     },
     "execution_count": 4,
     "metadata": {},
     "output_type": "execute_result"
    }
   ],
   "source": [
    "reverseWordsInString(\"Algoexpert is the best!\")"
   ]
  },
  {
   "cell_type": "code",
   "execution_count": null,
   "metadata": {},
   "outputs": [],
   "source": []
  }
 ],
 "metadata": {
  "interpreter": {
   "hash": "0012cd877e37c553ce082c8a53dbb8150686811a71a997c633aba52086b562f8"
  },
  "kernelspec": {
   "display_name": "Python 3.8.12 64-bit ('pyspark3': conda)",
   "language": "python",
   "name": "python3"
  },
  "language_info": {
   "codemirror_mode": {
    "name": "ipython",
    "version": 3
   },
   "file_extension": ".py",
   "mimetype": "text/x-python",
   "name": "python",
   "nbconvert_exporter": "python",
   "pygments_lexer": "ipython3",
   "version": "3.8.12"
  },
  "orig_nbformat": 4
 },
 "nbformat": 4,
 "nbformat_minor": 2
}
