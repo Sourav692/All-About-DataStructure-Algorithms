{
 "cells": [
  {
   "cell_type": "markdown",
   "metadata": {},
   "source": [
    "Run-Length Encoding\n",
    "\n",
    "    Write a function that takes in a non-empty string and returns its runlength encoding.\n",
    "    From Wikipedia, \"run-length encoding is a form of lossless data\n",
    "    compression in which runs of data are stored as a single data value\n",
    "    and count, rather than as the original run.\" For this problem, a run of\n",
    "    data is any sequence of consecutive, identical characters. So the run\n",
    "    \"AAA\" would be run-length-encoded as \"3A\" .\n",
    "\n",
    "    To make things more complicated, however, the input string can\n",
    "    contain all sorts of special characters, including numbers. And since\n",
    "    encoded data must be decodable, this means that we can't naively\n",
    "    run-length-encode long runs. For example, the run\n",
    "    \"AAAAAAAAAAAA\" (12 A s), can't naively be encoded as \"12A\" ,\n",
    "    since this string can be decoded as either \"AAAAAAAAAAAA\" or\n",
    "    \"1AA\" . Thus, long runs (runs of 10 or more characters) should be\n",
    "    encoded in a split fashion; the aforementioned run should be\n",
    "    encoded as \"9A3A\" .\n"
   ]
  },
  {
   "cell_type": "markdown",
   "metadata": {},
   "source": [
    "Sample Input\n",
    "\n",
    "    string = \"AAAAAAAAAAAAABBCCCCDD\"\n",
    "\n",
    "Sample Output\n",
    "\n",
    "    \"9A4A2B4C2D\"\n"
   ]
  },
  {
   "cell_type": "code",
   "execution_count": 2,
   "metadata": {},
   "outputs": [],
   "source": [
    "def runLengthEncoding(string):\n",
    " # The input string is guaranteed to be non-empty,\n",
    " # so our first run will be of at least length 1.\n",
    "\tencodedStringCharacters = []\n",
    "\tcurrentRunLength = 1\n",
    "\tfor i in range(1, len(string)):\n",
    "\t\tcurrentCharacter = string[i]\n",
    "\t\tpreviousCharacter = string[i - 1]\n",
    "\t\t\n",
    "\t\tif currentCharacter != previousCharacter or currentRunLength ==9:\n",
    "\t\t\tencodedStringCharacters.append(str(currentRunLength))\n",
    "\t\t\tencodedStringCharacters.append(previousCharacter)\n",
    "\t\t\tcurrentRunLength = 0\n",
    "\t\t\n",
    "\t\tcurrentRunLength += 1\n",
    "\t\t\n",
    "\t\t\n",
    "\t## Handle last run\n",
    "\tencodedStringCharacters.append(str(currentRunLength))\n",
    "\tencodedStringCharacters.append(string[-1])\n",
    "\t\n",
    "\treturn \"\".join(encodedStringCharacters)"
   ]
  },
  {
   "cell_type": "code",
   "execution_count": 3,
   "metadata": {},
   "outputs": [
    {
     "data": {
      "text/plain": [
       "'9A4A2B4C2D'"
      ]
     },
     "execution_count": 3,
     "metadata": {},
     "output_type": "execute_result"
    }
   ],
   "source": [
    "runLengthEncoding(\"AAAAAAAAAAAAABBCCCCDD\")"
   ]
  },
  {
   "cell_type": "code",
   "execution_count": null,
   "metadata": {},
   "outputs": [],
   "source": []
  }
 ],
 "metadata": {
  "interpreter": {
   "hash": "0012cd877e37c553ce082c8a53dbb8150686811a71a997c633aba52086b562f8"
  },
  "kernelspec": {
   "display_name": "Python 3.8.12 64-bit ('pyspark3': conda)",
   "language": "python",
   "name": "python3"
  },
  "language_info": {
   "codemirror_mode": {
    "name": "ipython",
    "version": 3
   },
   "file_extension": ".py",
   "mimetype": "text/x-python",
   "name": "python",
   "nbconvert_exporter": "python",
   "pygments_lexer": "ipython3",
   "version": "3.8.12"
  },
  "orig_nbformat": 4
 },
 "nbformat": 4,
 "nbformat_minor": 2
}
